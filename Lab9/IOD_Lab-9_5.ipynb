{
 "cells": [
  {
   "cell_type": "markdown",
   "metadata": {
    "colab_type": "text",
    "id": "XXUiceLiLNOv"
   },
   "source": [
    "<div>\n",
    "<img src=https://www.institutedata.com/wp-content/uploads/2019/10/iod_h_tp_primary_c.svg width=\"300\">\n",
    "</div>"
   ]
  },
  {
   "cell_type": "markdown",
   "metadata": {
    "colab_type": "text",
    "id": "SmJwFqq5LNOx"
   },
   "source": [
    "# Demo 9.5: Working with Text\n",
    "- Using [NLTK](http://www.nltk.org) (Natural Language Toolkit)\n",
    "- Using [spaCy](https://spacy.io)\n",
    "\n",
    "INSTRUCTIONS:\n",
    "- Run the cells\n",
    "- Observe and understand the results\n",
    "- Answer the questions"
   ]
  },
  {
   "cell_type": "markdown",
   "metadata": {
    "colab_type": "text",
    "id": "I83eiiJqLNO0"
   },
   "source": [
    "## Import libraries"
   ]
  },
  {
   "cell_type": "code",
   "execution_count": 24,
   "metadata": {
    "ExecuteTime": {
     "end_time": "2019-06-17T01:17:23.125143Z",
     "start_time": "2019-06-17T01:17:20.625946Z"
    },
    "colab": {},
    "colab_type": "code",
    "id": "-ecJn_1MLNO4"
   },
   "outputs": [],
   "source": [
    "## Import Libraries\n",
    "%matplotlib inline\n",
    "import matplotlib.pyplot as plt\n",
    "from collections import Counter\n",
    "\n",
    "import regex as re\n",
    "import spacy\n",
    "import nltk"
   ]
  },
  {
   "cell_type": "markdown",
   "metadata": {
    "colab_type": "text",
    "id": "OsSgzr8MLNO9"
   },
   "source": [
    "## Load data"
   ]
  },
  {
   "cell_type": "code",
   "execution_count": 2,
   "metadata": {
    "ExecuteTime": {
     "end_time": "2019-06-17T01:17:24.800475Z",
     "start_time": "2019-06-17T01:17:24.784516Z"
    },
    "colab": {},
    "colab_type": "code",
    "id": "HvyU9ZbtLNPA"
   },
   "outputs": [],
   "source": [
    "## Loading the data\n",
    "\n",
    "input_file = 'ncc-1701-D.txt'\n",
    "\n",
    "with open(input_file, 'r') as f:\n",
    "    text = f.read()"
   ]
  },
  {
   "cell_type": "markdown",
   "metadata": {
    "colab_type": "text",
    "id": "KF9gBdpALNPE"
   },
   "source": [
    "## Inspect the data"
   ]
  },
  {
   "cell_type": "code",
   "execution_count": 3,
   "metadata": {
    "ExecuteTime": {
     "end_time": "2019-06-17T01:17:28.662206Z",
     "start_time": "2019-06-17T01:17:28.656190Z"
    },
    "colab": {},
    "colab_type": "code",
    "id": "-JImxUzrLNPG",
    "outputId": "13ce31ea-531e-4abd-8f21-c726df89bb21",
    "scrolled": true
   },
   "outputs": [
    {
     "name": "stdout",
     "output_type": "stream",
     "text": [
      "USS Enterprise (NCC-1701-D)\n",
      "\n",
      "\"For five hundred years, every ship that has borne the name of the Enterprise has become a legend. This one is no different.\"\n",
      "\n",
      "The USS Enterprise (NCC-1701-D) was a 24th century United Federation of Planets Galaxy Class starship operated by Starfleet, and the fifth Federation ship to bear the name Enterprise. During her career, the Enterprise served as the Federation flagship. The Enterprise was destroyed during the Battle of Veridian III in 2371.\n",
      "\n",
      "==History==\n",
      "===Construction and launch===\n",
      "The Enterprise was built at Utopia Planitia Fleet Yards orbiting Mars in the Solar system. The construction was a massive undertaking, involving thousands of people across disciplines. Construction was supervised by Commander Orfil Quinteros. Dr. Leah Brahms was responsible for much of the Enterprise's warp propulsion system design. Some of the Enterprise's components were derived from technology originally developed on the USS Pegasus.\n",
      "\n",
      "One of the ship's nacelle tube was\n"
     ]
    }
   ],
   "source": [
    "print(text[:1000])"
   ]
  },
  {
   "cell_type": "markdown",
   "metadata": {
    "colab_type": "text",
    "id": "H5ePf_5bLNPK"
   },
   "source": [
    "## Work the data\n",
    "- if necessary or desired\n",
    "    - remove text or content, e.g. quotes (\") or metadata (===)\n",
    "    - add content or markers, e.g. (#FLAG, --NAME--)\n",
    "    - remove or convert special symbols, e.g. \"é\" to \"e\"\n",
    "    - remove or convert emoticons"
   ]
  },
  {
   "cell_type": "code",
   "execution_count": 4,
   "metadata": {
    "ExecuteTime": {
     "end_time": "2019-06-17T01:18:07.223561Z",
     "start_time": "2019-06-17T01:18:07.219572Z"
    },
    "colab": {},
    "colab_type": "code",
    "id": "BRq7VfoOLNPM"
   },
   "outputs": [],
   "source": [
    "# ANSWER\n",
    "text = re.sub(r'[=\"]', '', text)"
   ]
  },
  {
   "cell_type": "markdown",
   "metadata": {
    "colab_type": "text",
    "id": "xMG9Yim0LNPP"
   },
   "source": [
    "## Helper method"
   ]
  },
  {
   "cell_type": "code",
   "execution_count": 5,
   "metadata": {
    "ExecuteTime": {
     "end_time": "2019-06-17T01:18:44.351070Z",
     "start_time": "2019-06-17T01:18:44.330126Z"
    },
    "colab": {},
    "colab_type": "code",
    "id": "3oIPRH3gLNPQ"
   },
   "outputs": [],
   "source": [
    "# create a bar chart of the frequency of the words in the text\n",
    "def plot_words(tokens, top = 30):\n",
    "    tokens_counter = Counter(tokens)\n",
    "    tok = [t for (t, _) in tokens_counter.most_common()]\n",
    "    val = [v for (_, v) in tokens_counter.most_common()]\n",
    "\n",
    "    plt.figure(figsize = (16, 6))\n",
    "    plt.bar(tok[:top], val[:top])\n",
    "    plt.title('Number of terms: %d' % len(tokens_counter))\n",
    "    plt.xticks(rotation = 90)\n",
    "\n",
    "    plt.show()"
   ]
  },
  {
   "cell_type": "markdown",
   "metadata": {
    "colab_type": "text",
    "id": "U1FsFC6yLNPS"
   },
   "source": [
    "## spaCy model invocation and text processing\n",
    "spaCy does the processing of the text as part of the reading of the data."
   ]
  },
  {
   "cell_type": "code",
   "execution_count": 10,
   "metadata": {},
   "outputs": [
    {
     "name": "stdout",
     "output_type": "stream",
     "text": [
      "Requirement already satisfied: en_core_web_sm==2.3.1 from https://github.com/explosion/spacy-models/releases/download/en_core_web_sm-2.3.1/en_core_web_sm-2.3.1.tar.gz#egg=en_core_web_sm==2.3.1 in c:\\users\\aashna\\anaconda3\\lib\\site-packages (2.3.1)\n",
      "Requirement already satisfied: spacy<2.4.0,>=2.3.0 in c:\\users\\aashna\\anaconda3\\lib\\site-packages (from en_core_web_sm==2.3.1) (2.3.2)\n",
      "Requirement already satisfied: catalogue<1.1.0,>=0.0.7 in c:\\users\\aashna\\anaconda3\\lib\\site-packages (from spacy<2.4.0,>=2.3.0->en_core_web_sm==2.3.1) (1.0.0)\n",
      "Requirement already satisfied: srsly<1.1.0,>=1.0.2 in c:\\users\\aashna\\anaconda3\\lib\\site-packages (from spacy<2.4.0,>=2.3.0->en_core_web_sm==2.3.1) (1.0.4)\n",
      "Requirement already satisfied: preshed<3.1.0,>=3.0.2 in c:\\users\\aashna\\anaconda3\\lib\\site-packages (from spacy<2.4.0,>=2.3.0->en_core_web_sm==2.3.1) (3.0.4)\n",
      "Requirement already satisfied: numpy>=1.15.0 in c:\\users\\aashna\\anaconda3\\lib\\site-packages (from spacy<2.4.0,>=2.3.0->en_core_web_sm==2.3.1) (1.18.5)\n",
      "Requirement already satisfied: cymem<2.1.0,>=2.0.2 in c:\\users\\aashna\\anaconda3\\lib\\site-packages (from spacy<2.4.0,>=2.3.0->en_core_web_sm==2.3.1) (2.0.4)\n",
      "Requirement already satisfied: setuptools in c:\\users\\aashna\\anaconda3\\lib\\site-packages (from spacy<2.4.0,>=2.3.0->en_core_web_sm==2.3.1) (49.2.0.post20200714)\n",
      "Requirement already satisfied: blis<0.5.0,>=0.4.0 in c:\\users\\aashna\\anaconda3\\lib\\site-packages (from spacy<2.4.0,>=2.3.0->en_core_web_sm==2.3.1) (0.4.1)\n",
      "Requirement already satisfied: tqdm<5.0.0,>=4.38.0 in c:\\users\\aashna\\anaconda3\\lib\\site-packages (from spacy<2.4.0,>=2.3.0->en_core_web_sm==2.3.1) (4.56.0)\n",
      "Requirement already satisfied: murmurhash<1.1.0,>=0.28.0 in c:\\users\\aashna\\anaconda3\\lib\\site-packages (from spacy<2.4.0,>=2.3.0->en_core_web_sm==2.3.1) (1.0.4)\n",
      "Requirement already satisfied: requests<3.0.0,>=2.13.0 in c:\\users\\aashna\\anaconda3\\lib\\site-packages (from spacy<2.4.0,>=2.3.0->en_core_web_sm==2.3.1) (2.24.0)\n",
      "Requirement already satisfied: wasabi<1.1.0,>=0.4.0 in c:\\users\\aashna\\anaconda3\\lib\\site-packages (from spacy<2.4.0,>=2.3.0->en_core_web_sm==2.3.1) (0.8.0)\n",
      "Requirement already satisfied: thinc==7.4.1 in c:\\users\\aashna\\anaconda3\\lib\\site-packages (from spacy<2.4.0,>=2.3.0->en_core_web_sm==2.3.1) (7.4.1)\n",
      "Requirement already satisfied: plac<1.2.0,>=0.9.6 in c:\\users\\aashna\\anaconda3\\lib\\site-packages (from spacy<2.4.0,>=2.3.0->en_core_web_sm==2.3.1) (1.1.3)\n",
      "Requirement already satisfied: idna<3,>=2.5 in c:\\users\\aashna\\anaconda3\\lib\\site-packages (from requests<3.0.0,>=2.13.0->spacy<2.4.0,>=2.3.0->en_core_web_sm==2.3.1) (2.10)\n",
      "Requirement already satisfied: urllib3!=1.25.0,!=1.25.1,<1.26,>=1.21.1 in c:\\users\\aashna\\anaconda3\\lib\\site-packages (from requests<3.0.0,>=2.13.0->spacy<2.4.0,>=2.3.0->en_core_web_sm==2.3.1) (1.25.9)\n",
      "Requirement already satisfied: chardet<4,>=3.0.2 in c:\\users\\aashna\\anaconda3\\lib\\site-packages (from requests<3.0.0,>=2.13.0->spacy<2.4.0,>=2.3.0->en_core_web_sm==2.3.1) (3.0.4)\n",
      "Requirement already satisfied: certifi>=2017.4.17 in c:\\users\\aashna\\anaconda3\\lib\\site-packages (from requests<3.0.0,>=2.13.0->spacy<2.4.0,>=2.3.0->en_core_web_sm==2.3.1) (2020.6.20)\n",
      "[+] Download and installation successful\n",
      "You can now load the model via spacy.load('en_core_web_sm')\n"
     ]
    }
   ],
   "source": [
    "!python -m spacy download en_core_web_sm"
   ]
  },
  {
   "cell_type": "code",
   "execution_count": 11,
   "metadata": {},
   "outputs": [
    {
     "name": "stdout",
     "output_type": "stream",
     "text": [
      "Requirement already satisfied: en_core_web_sm==2.3.1 from https://github.com/explosion/spacy-models/releases/download/en_core_web_sm-2.3.1/en_core_web_sm-2.3.1.tar.gz#egg=en_core_web_sm==2.3.1 in c:\\users\\aashna\\anaconda3\\lib\\site-packages (2.3.1)\n",
      "Requirement already satisfied: spacy<2.4.0,>=2.3.0 in c:\\users\\aashna\\anaconda3\\lib\\site-packages (from en_core_web_sm==2.3.1) (2.3.2)\n",
      "Requirement already satisfied: thinc==7.4.1 in c:\\users\\aashna\\anaconda3\\lib\\site-packages (from spacy<2.4.0,>=2.3.0->en_core_web_sm==2.3.1) (7.4.1)\n",
      "Requirement already satisfied: plac<1.2.0,>=0.9.6 in c:\\users\\aashna\\anaconda3\\lib\\site-packages (from spacy<2.4.0,>=2.3.0->en_core_web_sm==2.3.1) (1.1.3)\n",
      "Requirement already satisfied: preshed<3.1.0,>=3.0.2 in c:\\users\\aashna\\anaconda3\\lib\\site-packages (from spacy<2.4.0,>=2.3.0->en_core_web_sm==2.3.1) (3.0.4)\n",
      "Requirement already satisfied: srsly<1.1.0,>=1.0.2 in c:\\users\\aashna\\anaconda3\\lib\\site-packages (from spacy<2.4.0,>=2.3.0->en_core_web_sm==2.3.1) (1.0.4)\n",
      "Requirement already satisfied: setuptools in c:\\users\\aashna\\anaconda3\\lib\\site-packages (from spacy<2.4.0,>=2.3.0->en_core_web_sm==2.3.1) (49.2.0.post20200714)\n",
      "Requirement already satisfied: blis<0.5.0,>=0.4.0 in c:\\users\\aashna\\anaconda3\\lib\\site-packages (from spacy<2.4.0,>=2.3.0->en_core_web_sm==2.3.1) (0.4.1)\n",
      "Requirement already satisfied: requests<3.0.0,>=2.13.0 in c:\\users\\aashna\\anaconda3\\lib\\site-packages (from spacy<2.4.0,>=2.3.0->en_core_web_sm==2.3.1) (2.24.0)\n",
      "Requirement already satisfied: wasabi<1.1.0,>=0.4.0 in c:\\users\\aashna\\anaconda3\\lib\\site-packages (from spacy<2.4.0,>=2.3.0->en_core_web_sm==2.3.1) (0.8.0)\n",
      "Requirement already satisfied: catalogue<1.1.0,>=0.0.7 in c:\\users\\aashna\\anaconda3\\lib\\site-packages (from spacy<2.4.0,>=2.3.0->en_core_web_sm==2.3.1) (1.0.0)\n",
      "Requirement already satisfied: murmurhash<1.1.0,>=0.28.0 in c:\\users\\aashna\\anaconda3\\lib\\site-packages (from spacy<2.4.0,>=2.3.0->en_core_web_sm==2.3.1) (1.0.4)\n",
      "Requirement already satisfied: tqdm<5.0.0,>=4.38.0 in c:\\users\\aashna\\anaconda3\\lib\\site-packages (from spacy<2.4.0,>=2.3.0->en_core_web_sm==2.3.1) (4.56.0)\n",
      "Requirement already satisfied: cymem<2.1.0,>=2.0.2 in c:\\users\\aashna\\anaconda3\\lib\\site-packages (from spacy<2.4.0,>=2.3.0->en_core_web_sm==2.3.1) (2.0.4)\n",
      "Requirement already satisfied: numpy>=1.15.0 in c:\\users\\aashna\\anaconda3\\lib\\site-packages (from spacy<2.4.0,>=2.3.0->en_core_web_sm==2.3.1) (1.18.5)\n",
      "Requirement already satisfied: chardet<4,>=3.0.2 in c:\\users\\aashna\\anaconda3\\lib\\site-packages (from requests<3.0.0,>=2.13.0->spacy<2.4.0,>=2.3.0->en_core_web_sm==2.3.1) (3.0.4)\n",
      "Requirement already satisfied: urllib3!=1.25.0,!=1.25.1,<1.26,>=1.21.1 in c:\\users\\aashna\\anaconda3\\lib\\site-packages (from requests<3.0.0,>=2.13.0->spacy<2.4.0,>=2.3.0->en_core_web_sm==2.3.1) (1.25.9)\n",
      "Requirement already satisfied: idna<3,>=2.5 in c:\\users\\aashna\\anaconda3\\lib\\site-packages (from requests<3.0.0,>=2.13.0->spacy<2.4.0,>=2.3.0->en_core_web_sm==2.3.1) (2.10)\n",
      "Requirement already satisfied: certifi>=2017.4.17 in c:\\users\\aashna\\anaconda3\\lib\\site-packages (from requests<3.0.0,>=2.13.0->spacy<2.4.0,>=2.3.0->en_core_web_sm==2.3.1) (2020.6.20)\n",
      "[+] Download and installation successful\n",
      "You can now load the model via spacy.load('en_core_web_sm')\n",
      "[x] Couldn't link model to 'en'\n",
      "Creating a symlink in spacy/data failed. Make sure you have the required\n",
      "permissions and try re-running the command as admin, or use a virtualenv. You\n",
      "can still import the model as a module and call its load() method, or create the\n",
      "symlink manually.\n",
      "C:\\Users\\Aashna\\anaconda3\\lib\\site-packages\\en_core_web_sm -->\n",
      "C:\\Users\\Aashna\\anaconda3\\lib\\site-packages\\spacy\\data\\en\n",
      "[!] Download successful but linking failed\n",
      "Creating a shortcut link for 'en' didn't work (maybe you don't have admin\n",
      "permissions?), but you can still load the model via its full package name: nlp =\n",
      "spacy.load('en_core_web_sm')\n"
     ]
    },
    {
     "name": "stderr",
     "output_type": "stream",
     "text": [
      "You do not have sufficient privilege to perform this operation.\n"
     ]
    }
   ],
   "source": [
    "!python -m spacy download en"
   ]
  },
  {
   "cell_type": "code",
   "execution_count": 14,
   "metadata": {
    "ExecuteTime": {
     "end_time": "2019-06-17T01:18:18.119766Z",
     "start_time": "2019-06-17T01:18:16.984471Z"
    },
    "colab": {},
    "colab_type": "code",
    "id": "JgM48u-dLNPU"
   },
   "outputs": [],
   "source": [
    "# load spaCy and the English model\n",
    "#nlp = spacy.load('en')\n",
    "\n",
    "nlp = spacy.load('en_core_web_sm')\n",
    "\n",
    "# process the text\n",
    "doc = nlp(text)"
   ]
  },
  {
   "cell_type": "markdown",
   "metadata": {
    "colab_type": "text",
    "id": "z8--KeYzLNPW"
   },
   "source": [
    "## Tokenise"
   ]
  },
  {
   "cell_type": "code",
   "execution_count": 15,
   "metadata": {
    "ExecuteTime": {
     "end_time": "2019-06-17T01:18:58.447329Z",
     "start_time": "2019-06-17T01:18:58.401479Z"
    },
    "colab": {},
    "colab_type": "code",
    "id": "-7lVWo5DLNPe",
    "outputId": "b679dc9c-f19f-4ad2-fdbd-9b6755c17bae"
   },
   "outputs": [
    {
     "name": "stdout",
     "output_type": "stream",
     "text": [
      " 1| 'USS'\n",
      " 2| 'Enterprise'\n",
      " 3| '('\n",
      " 4| 'NCC-1701-D'\n",
      " 5| ')'\n",
      " 6| '\\n\\n'\n",
      " 7| 'For'\n",
      " 8| 'five'\n",
      " 9| 'hundred'\n",
      "10| 'years'\n",
      "11| ','\n",
      "12| 'every'\n",
      "13| 'ship'\n",
      "14| 'that'\n",
      "15| 'has'\n",
      "16| 'borne'\n",
      "17| 'the'\n",
      "18| 'name'\n",
      "19| 'of'\n",
      "20| 'the'\n",
      "21| 'Enterprise'\n",
      "22| 'has'\n",
      "23| 'become'\n",
      "24| 'a'\n",
      "25| 'legend'\n",
      "26| '.'\n"
     ]
    }
   ],
   "source": [
    "# only show the results\n",
    "# spaCy has done it already\n",
    "for i, t in enumerate(doc):\n",
    "    print('%2d| %r' % (i+1, t.text))\n",
    "    if t.text == '.':\n",
    "        break"
   ]
  },
  {
   "cell_type": "code",
   "execution_count": 16,
   "metadata": {
    "ExecuteTime": {
     "end_time": "2019-06-17T01:19:56.492190Z",
     "start_time": "2019-06-17T01:19:56.488201Z"
    },
    "colab": {},
    "colab_type": "code",
    "id": "Gcg4Hkx4LNPh",
    "scrolled": false
   },
   "outputs": [
    {
     "data": {
      "image/png": "[encoded data removed]",
      "text/plain": [
       "<Figure size 1152x432 with 1 Axes>"
      ]
     },
     "metadata": {
      "needs_background": "light"
     },
     "output_type": "display_data"
    }
   ],
   "source": [
    "# ANSWER\n",
    "plot_words(['%r' % t.text for t in doc])"
   ]
  },
  {
   "cell_type": "markdown",
   "metadata": {
    "colab_type": "text",
    "id": "iAtMzEZTLNPj"
   },
   "source": [
    "### Stop Words"
   ]
  },
  {
   "cell_type": "code",
   "execution_count": 17,
   "metadata": {
    "ExecuteTime": {
     "end_time": "2019-06-17T01:24:08.828052Z",
     "start_time": "2019-06-17T01:24:08.777179Z"
    },
    "colab": {},
    "colab_type": "code",
    "id": "zOzudmrILNPq",
    "outputId": "1e58fcfc-674d-42f1-e82a-63f7d61a837a"
   },
   "outputs": [
    {
     "name": "stdout",
     "output_type": "stream",
     "text": [
      "i | with stop words without\n",
      "--| --------------- ------------\n",
      " 1| 'USS'           'USS'\n",
      " 2| 'Enterprise'    'Enterprise'\n",
      " 3| '('             '('\n",
      " 4| 'NCC-1701-D'    'NCC-1701-D'\n",
      " 5| ')'             ')'\n",
      " 6| '\\n\\n'          '\\n\\n'\n",
      " 7| 'For'           ''\n",
      " 8| 'five'          ''\n",
      " 9| 'hundred'       ''\n",
      "10| 'years'         'years'\n",
      "11| ','             ','\n",
      "12| 'every'         ''\n",
      "13| 'ship'          'ship'\n",
      "14| 'that'          ''\n",
      "15| 'has'           ''\n",
      "16| 'borne'         'borne'\n",
      "17| 'the'           ''\n",
      "18| 'name'          ''\n",
      "19| 'of'            ''\n",
      "20| 'the'           ''\n",
      "21| 'Enterprise'    'Enterprise'\n",
      "22| 'has'           ''\n",
      "23| 'become'        ''\n",
      "24| 'a'             ''\n",
      "25| 'legend'        'legend'\n",
      "26| '.'             '.'\n"
     ]
    }
   ],
   "source": [
    "## spaCy\n",
    "print('i | with stop words without')\n",
    "print('--| --------------- ------------')\n",
    "\n",
    "# for all the tokens\n",
    "for i, t in enumerate(doc):\n",
    "    print('%2d| %-15r %r' % (i+1, t.text, ('' if t.is_stop else t.text)))\n",
    "\n",
    "    # break after the first sentence\n",
    "    if t.text == '.':\n",
    "        break"
   ]
  },
  {
   "cell_type": "code",
   "execution_count": 18,
   "metadata": {
    "ExecuteTime": {
     "end_time": "2019-06-17T01:22:05.293365Z",
     "start_time": "2019-06-17T01:22:04.981199Z"
    },
    "colab": {},
    "colab_type": "code",
    "id": "B2LoqLmULNPs",
    "outputId": "63f83744-f889-462f-f166-d8add6a03f7e"
   },
   "outputs": [
    {
     "data": {
      "image/png": "[encoded data removed]",
      "text/plain": [
       "<Figure size 1152x432 with 1 Axes>"
      ]
     },
     "metadata": {
      "needs_background": "light"
     },
     "output_type": "display_data"
    }
   ],
   "source": [
    "plot_words(['%r' % t.text for t in doc if not (t.is_stop | t.is_punct)])"
   ]
  },
  {
   "cell_type": "markdown",
   "metadata": {
    "colab_type": "text",
    "id": "9uqME12uLNPu"
   },
   "source": [
    "### Check Part of Speech"
   ]
  },
  {
   "cell_type": "code",
   "execution_count": 19,
   "metadata": {
    "ExecuteTime": {
     "end_time": "2019-06-17T01:22:17.213316Z",
     "start_time": "2019-06-17T01:22:17.169434Z"
    },
    "colab": {},
    "colab_type": "code",
    "id": "vD-BrcLALNPz",
    "outputId": "a26b4e4f-095a-4086-a8fe-841cbbfb5b05"
   },
   "outputs": [
    {
     "name": "stdout",
     "output_type": "stream",
     "text": [
      " 1|'USS'        : PROPN NNP\n",
      " 2|'Enterprise' : PROPN NNP\n",
      " 3|'('          : PUNCT -LRB-\n",
      " 4|'NCC-1701-D' : PROPN NNP\n",
      " 5|')'          : PUNCT -RRB-\n",
      " 6|'\\n\\n'       : SPACE _SP\n",
      " 7|'For'        : ADP   IN\n",
      " 8|'five'       : NUM   CD\n",
      " 9|'hundred'    : NUM   CD\n",
      "10|'years'      : NOUN  NNS\n",
      "11|','          : PUNCT ,\n",
      "12|'every'      : DET   DT\n",
      "13|'ship'       : NOUN  NN\n",
      "14|'that'       : DET   WDT\n",
      "15|'has'        : AUX   VBZ\n",
      "16|'borne'      : VERB  VBN\n",
      "17|'the'        : DET   DT\n",
      "18|'name'       : NOUN  NN\n",
      "19|'of'         : ADP   IN\n",
      "20|'the'        : DET   DT\n",
      "21|'Enterprise' : PROPN NNP\n",
      "22|'has'        : AUX   VBZ\n",
      "23|'become'     : VERB  VBN\n",
      "24|'a'          : DET   DT\n",
      "25|'legend'     : NOUN  NN\n",
      "26|'.'          : PUNCT .\n"
     ]
    }
   ],
   "source": [
    "## spaCy\n",
    "for i, t in enumerate(doc):\n",
    "    print('%2d|%-12r : %-5s %s' % (i+1, t.text, t.pos_, t.tag_))\n",
    "    if t.text == '.':\n",
    "        break"
   ]
  },
  {
   "cell_type": "markdown",
   "metadata": {},
   "source": [
    "### Lemmatisation"
   ]
  },
  {
   "cell_type": "code",
   "execution_count": 20,
   "metadata": {
    "ExecuteTime": {
     "end_time": "2019-06-17T01:22:53.270758Z",
     "start_time": "2019-06-17T01:22:53.220888Z"
    },
    "colab": {},
    "colab_type": "code",
    "id": "448zp9_vLNQC",
    "outputId": "561168c1-3a42-449d-9be3-dd22182459c3"
   },
   "outputs": [
    {
     "name": "stdout",
     "output_type": "stream",
     "text": [
      "i | Token        Lemma\n",
      "--| ------------ ------------\n",
      " 1| 'USS'        'USS'\n",
      " 2| 'Enterprise' 'Enterprise'\n",
      " 3| '('          '('\n",
      " 4| 'NCC-1701-D' 'NCC-1701-D'\n",
      " 5| ')'          ')'\n",
      " 6| '\\n\\n'       '\\n\\n'\n",
      " 7| 'For'        'for'\n",
      " 8| 'five'       'five'\n",
      " 9| 'hundred'    'hundred'\n",
      "10| 'years'      'year'\n",
      "11| ','          ','\n",
      "12| 'every'      'every'\n",
      "13| 'ship'       'ship'\n",
      "14| 'that'       'that'\n",
      "15| 'has'        'have'\n",
      "16| 'borne'      'bear'\n",
      "17| 'the'        'the'\n",
      "18| 'name'       'name'\n",
      "19| 'of'         'of'\n",
      "20| 'the'        'the'\n",
      "21| 'Enterprise' 'Enterprise'\n",
      "22| 'has'        'have'\n",
      "23| 'become'     'become'\n",
      "24| 'a'          'a'\n",
      "25| 'legend'     'legend'\n",
      "26| '.'          '.'\n"
     ]
    }
   ],
   "source": [
    "## spaCy\n",
    "print('i | Token        Lemma')\n",
    "print('--| ------------ ------------')\n",
    "for i, t in enumerate(doc):\n",
    "    print('%2d| %-12r %r' % (i+1, t.text, t.lemma_))\n",
    "    if t.text == '.':\n",
    "        break"
   ]
  },
  {
   "cell_type": "code",
   "execution_count": 21,
   "metadata": {
    "ExecuteTime": {
     "end_time": "2019-06-17T01:22:56.143434Z",
     "start_time": "2019-06-17T01:22:55.839376Z"
    },
    "colab": {},
    "colab_type": "code",
    "id": "i-7pqVMxLNQD",
    "outputId": "6deff35e-0d28-4351-bbab-7600618eb817"
   },
   "outputs": [
    {
     "data": {
      "image/png": "[encoded data removed]",
      "text/plain": [
       "<Figure size 1152x432 with 1 Axes>"
      ]
     },
     "metadata": {
      "needs_background": "light"
     },
     "output_type": "display_data"
    }
   ],
   "source": [
    "plot_words(['%r' % t.lemma_ for t in doc if not (t.is_stop | t.is_punct)])"
   ]
  },
  {
   "cell_type": "markdown",
   "metadata": {
    "colab_type": "text",
    "id": "RHUdgHM7LNQF"
   },
   "source": [
    "### Entity Recognition"
   ]
  },
  {
   "cell_type": "code",
   "execution_count": 22,
   "metadata": {
    "ExecuteTime": {
     "end_time": "2019-06-17T01:23:02.688863Z",
     "start_time": "2019-06-17T01:23:02.464460Z"
    },
    "colab": {},
    "colab_type": "code",
    "id": "yyOrZ42oLNQH",
    "outputId": "dfcee498-0002-4064-98ca-fa11668978d5",
    "scrolled": false
   },
   "outputs": [
    {
     "name": "stdout",
     "output_type": "stream",
     "text": [
      " 0: USS Enterprise (NCC-1701-D)\n",
      "================================================================================\n",
      " 1: For five hundred years, every ship that has borne the name of the Enterprise has become a legend.\n",
      "--------------------------------------------------------------------------------\n",
      "DATE       : five hundred years\n",
      "================================================================================\n",
      " 2: This one is no different.\n",
      "================================================================================\n",
      " 3: The USS Enterprise (NCC-1701-D) was a 24th century United Federation of Planets Galaxy Class starship operated by Starfleet, and the fifth Federation ship to bear the name Enterprise.\n",
      "--------------------------------------------------------------------------------\n",
      "PRODUCT    : The USS Enterprise\n",
      "PRODUCT    : NCC-1701-D\n",
      "DATE       : a 24th century\n",
      "ORG        : United Federation of Planets Galaxy Class\n",
      "GPE        : Starfleet\n",
      "ORDINAL    : fifth\n",
      "================================================================================\n",
      " 4: During her career, the Enterprise served as the Federation flagship.\n",
      "--------------------------------------------------------------------------------\n",
      "ORG        : Federation\n",
      "================================================================================\n",
      " 5: The Enterprise was destroyed during the Battle of Veridian III in 2371.\n",
      "--------------------------------------------------------------------------------\n",
      "EVENT      : the Battle of Veridian III\n",
      "DATE       : 2371\n",
      "================================================================================\n",
      " 6: HistoryConstruction and launch\n",
      "================================================================================\n",
      " 7: The Enterprise was built at Utopia Planitia Fleet Yards orbiting Mars in the Solar system.\n",
      "--------------------------------------------------------------------------------\n",
      "ORG        : Utopia Planitia Fleet Yards\n",
      "LOC        : Mars\n",
      "GPE        : Solar\n",
      "================================================================================\n",
      " 8: The construction was a massive undertaking, involving thousands of people across disciplines.\n",
      "--------------------------------------------------------------------------------\n",
      "CARDINAL   : thousands\n",
      "================================================================================\n",
      " 9: Construction was supervised by Commander Orfil Quinteros.\n",
      "--------------------------------------------------------------------------------\n",
      "PERSON     : Orfil Quinteros\n",
      "================================================================================\n",
      "10: Dr. Leah Brahms was responsible for much of the Enterprise's warp propulsion system design.\n",
      "--------------------------------------------------------------------------------\n",
      "PERSON     : Leah Brahms\n",
      "================================================================================\n",
      "11: Some of the Enterprise's components were derived from technology originally developed on the USS Pegasus.\n",
      "--------------------------------------------------------------------------------\n",
      "PRODUCT    : the USS Pegasus\n",
      "================================================================================\n",
      "12: One of the ship's nacelle tube was the site of a multiple murder-suicide while she was still under construction at Utopia Planitia.\n",
      "--------------------------------------------------------------------------------\n",
      "CARDINAL   : One\n",
      "ORG        : Utopia Planitia\n",
      "================================================================================\n",
      "13: A member of the construction team, Walter Pierce, became jealous of a former lover's new relationship.\n",
      "--------------------------------------------------------------------------------\n",
      "PERSON     : Walter Pierce\n",
      "================================================================================\n",
      "14: He killed the two officers, Marla Finn and William Hodges, then disposed of their bodies in the plasma stream.\n",
      "--------------------------------------------------------------------------------\n",
      "CARDINAL   : two\n",
      "PERSON     : Marla Finn\n",
      "PERSON     : William Hodges\n",
      "================================================================================\n",
      "15: Pierce committed suicide in the same manner, leaving a telepathic imprint in a bulkhead that was not discovered until 2370.\n",
      "--------------------------------------------------------------------------------\n",
      "DATE       : 2370\n",
      "================================================================================\n",
      "16: On stardate 40759.5, in the year 2363, the Enterprise was launched from Mars.\n",
      "--------------------------------------------------------------------------------\n",
      "CARDINAL   : 40759.5\n",
      "DATE       : the year 2363\n",
      "LOC        : Mars\n",
      "================================================================================\n",
      "17: On stardate 41025.5, the Enterprise was commissioned.\n",
      "--------------------------------------------------------------------------------\n",
      "CARDINAL   : 41025.5\n",
      "================================================================================\n",
      "18: These stardates weren't mentioned in dialog; they were from the Enterprise dedication plaque.\n",
      "================================================================================\n",
      "19: Final systems completion and shakedown was conducted at Earth Station McKinley.\n",
      "--------------------------------------------------------------------------------\n",
      "FAC        : Earth Station McKinley\n",
      "================================================================================\n",
      "20: Captain Jean-Luc Picard took command of the ship on stardate 41148 at the order of Rear Admiral Norah Satie.\n",
      "--------------------------------------------------------------------------------\n",
      "PERSON     : Jean-Luc Picard\n",
      "DATE       : 41148\n",
      "ORG        : Rear Admiral Norah Satie\n",
      "================================================================================\n",
      "21: LegacyCommander Riker was upset over the loss of the Enterprise.\n",
      "--------------------------------------------------------------------------------\n",
      "PERSON     : Riker\n",
      "================================================================================\n",
      "22: Having hoped he would one day command the ship, he was disappointed that he never got that opportunity.\n",
      "================================================================================\n",
      "23: However, Picard expressed doubt that the Enterprise-D would be the last vessel to carry the name.\n",
      "--------------------------------------------------------------------------------\n",
      "PERSON     : Picard\n",
      "================================================================================\n",
      "24: The Enterprise was so dear to Worf that, shortly after being reassigned to Deep Space 9 in 2372, he briefly considered resigning from Starfleet.\n",
      "--------------------------------------------------------------------------------\n",
      "ORG        : Worf\n",
      "EVENT      : Deep Space 9\n",
      "DATE       : 2372\n",
      "GPE        : Starfleet\n",
      "================================================================================\n",
      "25: Station commander Captain Benjamin Sisko expressed regret on the loss of the Enterprise and offered his condolences over the destruction of the ship to Worf, saying the Enterprise was a good ship.\n",
      "--------------------------------------------------------------------------------\n",
      "PERSON     : Benjamin Sisko\n",
      "ORG        : Worf\n",
      "================================================================================\n",
      "26: Captain Picard's belief that the Enterprise-D would not be the final ship to bear the name was borne out with the christening of the Class Sovereign USS Enterprise NCC-1701-E, later the same year.\n",
      "--------------------------------------------------------------------------------\n",
      "PERSON     : Picard\n",
      "LAW        : the Class Sovereign USS Enterprise NCC-1701-E\n",
      "DATE       : later the same year\n",
      "================================================================================\n",
      "27: In that instance, the legacy of the Enterprise continued with Picard reprising his role as CO and selecting most of the former crew from the Enterprise-D, with the notable exception of Worf due to his most recent assignment to DS9 (though he temporarily joined the Enterprise-E crew on several of their more notable missions).\n",
      "--------------------------------------------------------------------------------\n",
      "ORG        : Worf\n",
      "================================================================================\n"
     ]
    }
   ],
   "source": [
    "## spaCy\n",
    "for i, s in enumerate(doc.sents):\n",
    "    print('%2d: %s' % (i, re.sub(r'\\n+', '', s.text)))\n",
    "    if s.as_doc().ents:\n",
    "        print('-'*80)\n",
    "        for e in s.as_doc().ents:\n",
    "            print('%-11s: %s' % (e.label_, re.sub(r'\\n+', '', e.text)))\n",
    "    print('='*80)"
   ]
  },
  {
   "cell_type": "markdown",
   "metadata": {},
   "source": [
    "## Extra: Using NLTK for NLP\n",
    "\n",
    "### Tokenise"
   ]
  },
  {
   "cell_type": "code",
   "execution_count": 25,
   "metadata": {
    "ExecuteTime": {
     "end_time": "2019-06-17T01:18:26.276966Z",
     "start_time": "2019-06-17T01:18:26.186212Z"
    },
    "colab": {},
    "colab_type": "code",
    "id": "pML63M9KLNPX",
    "outputId": "29a6c627-0eee-4ece-bb34-47eacbbb53ff",
    "scrolled": true
   },
   "outputs": [
    {
     "name": "stdout",
     "output_type": "stream",
     "text": [
      " 1| 'USS'\n",
      " 2| 'Enterprise'\n",
      " 3| '('\n",
      " 4| 'NCC-1701-D'\n",
      " 5| ')'\n",
      " 6| 'For'\n",
      " 7| 'five'\n",
      " 8| 'hundred'\n",
      " 9| 'years'\n",
      "10| ','\n",
      "11| 'every'\n",
      "12| 'ship'\n",
      "13| 'that'\n",
      "14| 'has'\n",
      "15| 'borne'\n",
      "16| 'the'\n",
      "17| 'name'\n",
      "18| 'of'\n",
      "19| 'the'\n",
      "20| 'Enterprise'\n",
      "21| 'has'\n",
      "22| 'become'\n",
      "23| 'a'\n",
      "24| 'legend'\n",
      "25| '.'\n"
     ]
    }
   ],
   "source": [
    "# use nltk to find tokens\n",
    "tokens = nltk.word_tokenize(text)\n",
    "\n",
    "for i, t in enumerate(tokens[:25]):\n",
    "    print('%2d| %r' % (i+1, t))"
   ]
  },
  {
   "cell_type": "code",
   "execution_count": 26,
   "metadata": {
    "ExecuteTime": {
     "end_time": "2019-06-17T01:18:48.978316Z",
     "start_time": "2019-06-17T01:18:48.686799Z"
    },
    "colab": {},
    "colab_type": "code",
    "id": "G5C3ituYLNPZ",
    "outputId": "db39aade-f506-4b45-ed1e-56327c19e4f7"
   },
   "outputs": [
    {
     "data": {
      "image/png": "[encoded data removed]",
      "text/plain": [
       "<Figure size 1152x432 with 1 Axes>"
      ]
     },
     "metadata": {
      "needs_background": "light"
     },
     "output_type": "display_data"
    }
   ],
   "source": [
    "plot_words(tokens)"
   ]
  },
  {
   "cell_type": "code",
   "execution_count": 28,
   "metadata": {},
   "outputs": [
    {
     "name": "stderr",
     "output_type": "stream",
     "text": [
      "[nltk_data] Downloading package stopwords to\n",
      "[nltk_data]     C:\\Users\\Aashna\\AppData\\Roaming\\nltk_data...\n",
      "[nltk_data]   Unzipping corpora\\stopwords.zip.\n"
     ]
    },
    {
     "data": {
      "text/plain": [
       "True"
      ]
     },
     "execution_count": 28,
     "metadata": {},
     "output_type": "execute_result"
    }
   ],
   "source": [
    "nltk.download('stopwords')"
   ]
  },
  {
   "cell_type": "markdown",
   "metadata": {},
   "source": [
    "### Stop words"
   ]
  },
  {
   "cell_type": "code",
   "execution_count": 29,
   "metadata": {
    "ExecuteTime": {
     "end_time": "2019-06-17T01:20:00.638483Z",
     "start_time": "2019-06-17T01:20:00.617539Z"
    },
    "colab": {},
    "colab_type": "code",
    "id": "BnY2rFzuLNPj",
    "outputId": "f64087cd-8e4b-4df5-fb2d-7b04851bde34",
    "scrolled": true
   },
   "outputs": [
    {
     "name": "stdout",
     "output_type": "stream",
     "text": [
      "a, about, above, after, again, against, ain, all, am, an, and, any, are, aren, aren't, as, at, be, because, been, before, being, below, between, both, but, by, can, couldn, couldn't, d, did, didn, didn't, do, does, doesn, doesn't, doing, don, don't, down, during, each, few, for, from, further, had, hadn, hadn't, has, hasn, hasn't, have, haven, haven't, having, he, her, here, hers, herself, him, himself, his, how, i, if, in, into, is, isn, isn't, it, it's, its, itself, just, ll, m, ma, me, mightn, mightn't, more, most, mustn, mustn't, my, myself, needn, needn't, no, nor, not, now, o, of, off, on, once, only, or, other, our, ours, ourselves, out, over, own, re, s, same, shan, shan't, she, she's, should, should've, shouldn, shouldn't, so, some, such, t, than, that, that'll, the, their, theirs, them, themselves, then, there, these, they, this, those, through, to, too, under, until, up, ve, very, was, wasn, wasn't, we, were, weren, weren't, what, when, where, which, while, who, whom, why, will, with, won, won't, wouldn, wouldn't, y, you, you'd, you'll, you're, you've, your, yours, yourself, yourselves\n"
     ]
    }
   ],
   "source": [
    "stopWords = nltk.corpus.stopwords.words('english')\n",
    "\n",
    "stopWords.sort()\n",
    "print(', '.join(stopWords))"
   ]
  },
  {
   "cell_type": "code",
   "execution_count": 31,
   "metadata": {
    "colab": {},
    "colab_type": "code",
    "id": "dksPJF7YcI1o"
   },
   "outputs": [],
   "source": [
    "# ANSWER\n",
    "# NOTE: see the `.lower()` method applied to token\n",
    "tokens_no_stop = [t for t in tokens if t.lower() not in stopWords]# create a list of tokens withOUT the stop words "
   ]
  },
  {
   "cell_type": "code",
   "execution_count": 32,
   "metadata": {
    "ExecuteTime": {
     "end_time": "2019-06-17T01:21:23.469455Z",
     "start_time": "2019-06-17T01:21:23.412608Z"
    },
    "colab": {},
    "colab_type": "code",
    "id": "a82KBILRLNPm",
    "outputId": "b33cef88-79ab-4e06-9c0e-9f2a4a588306"
   },
   "outputs": [
    {
     "name": "stdout",
     "output_type": "stream",
     "text": [
      "i | with stop words without\n",
      "--| --------------- ------------\n",
      " 1| 'USS'           'USS'\n",
      " 2| 'Enterprise'    'Enterprise'\n",
      " 3| '('             '('\n",
      " 4| 'NCC-1701-D'    'NCC-1701-D'\n",
      " 5| ')'             ')'\n",
      " 6| 'For'          \n",
      " 7| 'five'          'five'\n",
      " 8| 'hundred'       'hundred'\n",
      " 9| 'years'         'years'\n",
      "10| ','             ','\n",
      "11| 'every'         'every'\n",
      "12| 'ship'          'ship'\n",
      "13| 'that'         \n",
      "14| 'has'          \n",
      "15| 'borne'         'borne'\n",
      "16| 'the'          \n",
      "17| 'name'          'name'\n",
      "18| 'of'           \n",
      "19| 'the'          \n",
      "20| 'Enterprise'    'Enterprise'\n",
      "21| 'has'          \n",
      "22| 'become'        'become'\n",
      "23| 'a'            \n",
      "24| 'legend'        'legend'\n",
      "25| '.'             '.'\n"
     ]
    }
   ],
   "source": [
    "## NLTK\n",
    "i = 0\n",
    "j = 0\n",
    "\n",
    "print('i | with stop words without')\n",
    "print('--| --------------- ------------')\n",
    "\n",
    "# for all the tokens\n",
    "while i < len(tokens):\n",
    "    # same word\n",
    "    if tokens[i] == tokens_no_stop[j]:\n",
    "        print('%2d| %-15r %r' % (i+1, tokens[i], tokens_no_stop[j]))\n",
    "        j += 1\n",
    "    # not the same word\n",
    "    else:\n",
    "        print('%2d| %-15r' % (i+1, tokens[i]))\n",
    "\n",
    "    # next word\n",
    "    i += 1\n",
    "    # break after the first sentence\n",
    "    if tokens[i-1] == '.':\n",
    "        break"
   ]
  },
  {
   "cell_type": "code",
   "execution_count": 33,
   "metadata": {
    "ExecuteTime": {
     "end_time": "2019-06-17T01:24:39.503538Z",
     "start_time": "2019-06-17T01:24:39.498514Z"
    },
    "colab": {},
    "colab_type": "code",
    "id": "uPtOoiwuLNPo"
   },
   "outputs": [
    {
     "data": {
      "image/png": "[encoded data removed]",
      "text/plain": [
       "<Figure size 1152x432 with 1 Axes>"
      ]
     },
     "metadata": {
      "needs_background": "light"
     },
     "output_type": "display_data"
    }
   ],
   "source": [
    "# Create plot of words without stopword\n",
    "# ANSWER\n",
    "plot_words(tokens_no_stop)"
   ]
  },
  {
   "cell_type": "markdown",
   "metadata": {},
   "source": [
    "### Check Part of Speech"
   ]
  },
  {
   "cell_type": "code",
   "execution_count": 34,
   "metadata": {
    "ExecuteTime": {
     "end_time": "2019-06-17T01:22:10.130223Z",
     "start_time": "2019-06-17T01:22:10.100306Z"
    },
    "colab": {},
    "colab_type": "code",
    "id": "KRupju0sLNPv"
   },
   "outputs": [],
   "source": [
    "# define PoS\n",
    "pos_list = {\n",
    "    'CC':   'coordinating conjunction',\n",
    "    'CD':   'cardinal digit',\n",
    "    'DT':   'determiner',\n",
    "    'EX':   'existential there (like: \"there is\" ... think of it like \"there exists\")',\n",
    "    'FW':   'foreign word',\n",
    "    'IN':   'preposition/subordinating conjunction',\n",
    "    'JJ':   'adjective \"big\"',\n",
    "    'JJR':  'adjective, comparative \"bigger\"',\n",
    "    'JJS':  'adjective, superlative \"biggest\"',\n",
    "    'LS':   'list marker 1)',\n",
    "    'MD':   'modal could, will',\n",
    "    'NN':   'noun, singular \"desk\"',\n",
    "    'NNS':  'noun plural \"desks\"',\n",
    "    'NNP':  'proper noun, singular \"Harrison\"',\n",
    "    'NNPS': 'proper noun, plural \"Americans\"',\n",
    "    'PDT':  'predeterminer \"all the kids\"',\n",
    "    'POS':  'possessive ending parent\"s',\n",
    "    'PRP':  'personal pronoun I, he, she',\n",
    "    'PRP$': 'possessive pronoun my, his, hers',\n",
    "    'RB':   'adverb very, silently,',\n",
    "    'RBR':  'adverb, comparative better',\n",
    "    'RBS':  'adverb, superlative best',\n",
    "    'RP':   'particle give up',\n",
    "    'TO':   'to go \"to\" the store.',\n",
    "    'UH':   'interjection errrrrrrrm',\n",
    "    'VB':   'verb, base form take',\n",
    "    'VBD':  'verb, past tense took',\n",
    "    'VBG':  'verb, gerund/present participle taking',\n",
    "    'VBN':  'verb, past participle taken',\n",
    "    'VBP':  'verb, sing. present, non-3d take',\n",
    "    'VBZ':  'verb, 3rd person sing. present takes',\n",
    "    'WDT':  'wh-determiner which',\n",
    "    'WP':   'wh-pronoun who, what',\n",
    "    'WP$':  'possessive wh-pronoun whose',\n",
    "    'WRB':  'wh-abverb where, when',\n",
    "}"
   ]
  },
  {
   "cell_type": "code",
   "execution_count": 36,
   "metadata": {},
   "outputs": [
    {
     "name": "stderr",
     "output_type": "stream",
     "text": [
      "[nltk_data] Downloading package averaged_perceptron_tagger to\n",
      "[nltk_data]     C:\\Users\\Aashna\\AppData\\Roaming\\nltk_data...\n",
      "[nltk_data]   Unzipping taggers\\averaged_perceptron_tagger.zip.\n"
     ]
    },
    {
     "data": {
      "text/plain": [
       "True"
      ]
     },
     "execution_count": 36,
     "metadata": {},
     "output_type": "execute_result"
    }
   ],
   "source": [
    "nltk.download('averaged_perceptron_tagger')"
   ]
  },
  {
   "cell_type": "code",
   "execution_count": 37,
   "metadata": {
    "ExecuteTime": {
     "end_time": "2019-06-17T01:22:13.969590Z",
     "start_time": "2019-06-17T01:22:13.665232Z"
    },
    "colab": {},
    "colab_type": "code",
    "id": "asqUoCHgLNPx",
    "outputId": "6e3cab17-f736-49f3-ce62-8e759d72ac35",
    "scrolled": false
   },
   "outputs": [
    {
     "name": "stdout",
     "output_type": "stream",
     "text": [
      " 1|'USS'        : NNP  proper noun, singular \"Harrison\"\n",
      " 2|'Enterprise' : NNP  proper noun, singular \"Harrison\"\n",
      " 3|'('          : (    -\n",
      " 4|'NCC-1701-D' : NNP  proper noun, singular \"Harrison\"\n",
      " 5|')'          : )    -\n",
      " 6|'For'        : IN   preposition/subordinating conjunction\n",
      " 7|'five'       : CD   cardinal digit\n",
      " 8|'hundred'    : CD   cardinal digit\n",
      " 9|'years'      : NNS  noun plural \"desks\"\n",
      "10|','          : ,    -\n",
      "11|'every'      : DT   determiner\n",
      "12|'ship'       : NN   noun, singular \"desk\"\n",
      "13|'that'       : WDT  wh-determiner which\n",
      "14|'has'        : VBZ  verb, 3rd person sing. present takes\n",
      "15|'borne'      : VBN  verb, past participle taken\n",
      "16|'the'        : DT   determiner\n",
      "17|'name'       : NN   noun, singular \"desk\"\n",
      "18|'of'         : IN   preposition/subordinating conjunction\n",
      "19|'the'        : DT   determiner\n",
      "20|'Enterprise' : NNP  proper noun, singular \"Harrison\"\n",
      "21|'has'        : VBZ  verb, 3rd person sing. present takes\n",
      "22|'become'     : VBN  verb, past participle taken\n",
      "23|'a'          : DT   determiner\n",
      "24|'legend'     : NN   noun, singular \"desk\"\n",
      "25|'.'          : .    -\n"
     ]
    }
   ],
   "source": [
    "## nltk\n",
    "tagged = nltk.pos_tag(tokens)\n",
    "\n",
    "for i, t in enumerate(tagged[:25]):\n",
    "    print('%2d|%-12r : %-4s %s' % (i+1, t[0], t[1], (pos_list[t[1]] if t[1] in pos_list else '-')))"
   ]
  },
  {
   "cell_type": "markdown",
   "metadata": {
    "colab_type": "text",
    "id": "_n9qMgyULNP1"
   },
   "source": [
    "### Stemming"
   ]
  },
  {
   "cell_type": "code",
   "execution_count": 38,
   "metadata": {
    "ExecuteTime": {
     "end_time": "2019-06-17T01:22:29.259531Z",
     "start_time": "2019-06-17T01:22:29.243588Z"
    },
    "colab": {},
    "colab_type": "code",
    "id": "pL1vRUzxLNP2"
   },
   "outputs": [],
   "source": [
    "## nltk\n",
    "ps = nltk.porter.PorterStemmer()\n",
    "stemmed = ' '.join([ps.stem(word) for word in text.split()])"
   ]
  },
  {
   "cell_type": "code",
   "execution_count": null,
   "metadata": {},
   "outputs": [],
   "source": []
  },
  {
   "cell_type": "markdown",
   "metadata": {
    "colab_type": "text",
    "id": "2d9a6QazLNP4"
   },
   "source": [
    "### Lemmatisation"
   ]
  },
  {
   "cell_type": "code",
   "execution_count": 42,
   "metadata": {},
   "outputs": [
    {
     "name": "stderr",
     "output_type": "stream",
     "text": [
      "[nltk_data] Downloading package wordnet to\n",
      "[nltk_data]     C:\\Users\\Aashna\\AppData\\Roaming\\nltk_data...\n",
      "[nltk_data]   Unzipping corpora\\wordnet.zip.\n"
     ]
    },
    {
     "data": {
      "text/plain": [
       "True"
      ]
     },
     "execution_count": 42,
     "metadata": {},
     "output_type": "execute_result"
    }
   ],
   "source": [
    "nltk.download('wordnet')"
   ]
  },
  {
   "cell_type": "code",
   "execution_count": 43,
   "metadata": {
    "ExecuteTime": {
     "end_time": "2019-06-17T01:22:33.219077Z",
     "start_time": "2019-06-17T01:22:31.251647Z"
    },
    "colab": {},
    "colab_type": "code",
    "id": "OAbriUsXLNP7",
    "scrolled": true
   },
   "outputs": [],
   "source": [
    "## nltk\n",
    "wl = nltk.stem.WordNetLemmatizer()\n",
    "lemma = ' '.join([wl.lemmatize(word) for word in text.split()])"
   ]
  },
  {
   "cell_type": "code",
   "execution_count": 44,
   "metadata": {
    "ExecuteTime": {
     "end_time": "2019-06-17T01:22:40.296601Z",
     "start_time": "2019-06-17T01:22:40.251721Z"
    },
    "colab": {},
    "colab_type": "code",
    "id": "yVIqX7HBLNP9",
    "outputId": "26f47e5f-7927-4ceb-e7aa-148b1a0d6798"
   },
   "outputs": [
    {
     "name": "stdout",
     "output_type": "stream",
     "text": [
      "i | Stem           Lemma\n",
      "--| -------------- ------------\n",
      " 1| 'uss'          'USS'       \n",
      " 2| 'enterpris'    'Enterprise'\n",
      " 3| '(ncc-1701-d)'   '(NCC-1701-D)'\n",
      " 4| 'for'          'For'       \n",
      " 5| 'five'         'five'      \n",
      " 6| 'hundr'        'hundred'   \n",
      " 7| 'years,'       'years,'    \n",
      " 8| 'everi'        'every'     \n",
      " 9| 'ship'         'ship'      \n",
      "10| 'that'         'that'      \n",
      "11| 'ha'           'ha'        \n",
      "12| 'born'         'borne'     \n",
      "13| 'the'          'the'       \n",
      "14| 'name'         'name'      \n",
      "15| 'of'           'of'        \n",
      "16| 'the'          'the'       \n",
      "17| 'enterpris'    'Enterprise'\n",
      "18| 'ha'           'ha'        \n",
      "19| 'becom'        'become'    \n",
      "20| 'a'            'a'         \n",
      "21| 'legend.'      'legend.'   \n"
     ]
    }
   ],
   "source": [
    "## nltk\n",
    "dot = stemmed.find('.') + 1\n",
    "sl = stemmed[:dot].split()\n",
    "dot = lemma.find('.') + 1\n",
    "ll = lemma[:dot].split()\n",
    "\n",
    "print('i | Stem           Lemma')\n",
    "print('--| -------------- ------------')\n",
    "for i, p in enumerate(zip(sl, ll)):\n",
    "    print('%2d| %-12r   %-12r' % (i+1, p[0], p[1]))"
   ]
  },
  {
   "cell_type": "code",
   "execution_count": 45,
   "metadata": {
    "ExecuteTime": {
     "end_time": "2019-06-17T01:22:47.305414Z",
     "start_time": "2019-06-17T01:22:47.017187Z"
    },
    "colab": {},
    "colab_type": "code",
    "id": "eG4yOgwVLNP-",
    "outputId": "70476f16-7ac6-4c40-e39f-7a6547c11fec"
   },
   "outputs": [
    {
     "data": {
      "image/png": "[encoded data removed]",
      "text/plain": [
       "<Figure size 1152x432 with 1 Axes>"
      ]
     },
     "metadata": {
      "needs_background": "light"
     },
     "output_type": "display_data"
    }
   ],
   "source": [
    "plot_words(stemmed.split())"
   ]
  },
  {
   "cell_type": "code",
   "execution_count": 46,
   "metadata": {
    "ExecuteTime": {
     "end_time": "2019-06-17T01:22:50.433861Z",
     "start_time": "2019-06-17T01:22:50.144603Z"
    },
    "colab": {},
    "colab_type": "code",
    "id": "uEJR57TYLNQA",
    "outputId": "e96f9bb4-cdfc-432c-b0af-bcdb3a6c2c6c",
    "scrolled": true
   },
   "outputs": [
    {
     "data": {
      "image/png": "[encoded data removed]",
      "text/plain": [
       "<Figure size 1152x432 with 1 Axes>"
      ]
     },
     "metadata": {
      "needs_background": "light"
     },
     "output_type": "display_data"
    }
   ],
   "source": [
    "plot_words(lemma.split())"
   ]
  },
  {
   "cell_type": "code",
   "execution_count": null,
   "metadata": {},
   "outputs": [],
   "source": []
  },
  {
   "cell_type": "markdown",
   "metadata": {},
   "source": [
    "### Entity recognition"
   ]
  },
  {
   "cell_type": "code",
   "execution_count": 48,
   "metadata": {},
   "outputs": [
    {
     "name": "stderr",
     "output_type": "stream",
     "text": [
      "[nltk_data] Downloading package maxent_ne_chunker to\n",
      "[nltk_data]     C:\\Users\\Aashna\\AppData\\Roaming\\nltk_data...\n",
      "[nltk_data]   Unzipping chunkers\\maxent_ne_chunker.zip.\n"
     ]
    },
    {
     "data": {
      "text/plain": [
       "True"
      ]
     },
     "execution_count": 48,
     "metadata": {},
     "output_type": "execute_result"
    }
   ],
   "source": [
    "nltk.download('maxent_ne_chunker')"
   ]
  },
  {
   "cell_type": "code",
   "execution_count": 50,
   "metadata": {},
   "outputs": [
    {
     "name": "stderr",
     "output_type": "stream",
     "text": [
      "[nltk_data] Downloading package words to\n",
      "[nltk_data]     C:\\Users\\Aashna\\AppData\\Roaming\\nltk_data...\n",
      "[nltk_data]   Unzipping corpora\\words.zip.\n"
     ]
    },
    {
     "data": {
      "text/plain": [
       "True"
      ]
     },
     "execution_count": 50,
     "metadata": {},
     "output_type": "execute_result"
    }
   ],
   "source": [
    "nltk.download('words')"
   ]
  },
  {
   "cell_type": "code",
   "execution_count": 51,
   "metadata": {
    "ExecuteTime": {
     "end_time": "2019-06-17T01:22:59.142869Z",
     "start_time": "2019-06-17T01:22:58.754906Z"
    },
    "colab": {},
    "colab_type": "code",
    "id": "sw6fYdgXLNQG",
    "outputId": "a83ea9db-825d-4031-8112-f022b71f565b"
   },
   "outputs": [
    {
     "name": "stdout",
     "output_type": "stream",
     "text": [
      "ORGANIZATION: USS Enterprise\n",
      "ORGANIZATION: Enterprise\n",
      "ORGANIZATION: USS Enterprise\n",
      "PERSON      : United Federation\n",
      "ORGANIZATION: Planets Galaxy\n",
      "PERSON      : Starfleet\n",
      "ORGANIZATION: Enterprise\n",
      "ORGANIZATION: Federation\n",
      "ORGANIZATION: Battle\n",
      "GPE         : Veridian\n",
      "PERSON      : History Construction\n",
      "ORGANIZATION: Enterprise\n",
      "ORGANIZATION: Utopia Planitia Fleet\n",
      "PERSON      : Mars\n",
      "ORGANIZATION: Solar\n",
      "ORGANIZATION: Commander Orfil Quinteros\n",
      "PERSON      : Brahms\n",
      "ORGANIZATION: Enterprise\n",
      "ORGANIZATION: Enterprise\n",
      "ORGANIZATION: USS Pegasus\n",
      "ORGANIZATION: Utopia Planitia\n",
      "PERSON      : Walter Pierce\n",
      "PERSON      : Marla Finn\n",
      "PERSON      : William Hodges\n",
      "PERSON      : Pierce\n",
      "ORGANIZATION: Enterprise\n",
      "PERSON      : Mars\n",
      "ORGANIZATION: Enterprise\n",
      "ORGANIZATION: Enterprise\n",
      "FACILITY    : Earth Station McKinley\n",
      "PERSON      : Captain Jean-Luc Picard\n",
      "ORGANIZATION: Rear Admiral Norah Satie\n",
      "PERSON      : Legacy Commander Riker\n",
      "ORGANIZATION: Enterprise\n",
      "PERSON      : Picard\n",
      "PERSON      : Deep Space\n",
      "GPE         : Starfleet\n",
      "PERSON      : Captain Benjamin Sisko\n",
      "ORGANIZATION: Enterprise\n",
      "GPE         : Worf\n",
      "ORGANIZATION: Enterprise\n",
      "PERSON      : Captain Picard\n",
      "ORGANIZATION: Class Sovereign\n",
      "ORGANIZATION: Enterprise\n",
      "PERSON      : Picard\n",
      "ORGANIZATION: CO\n",
      "GPE         : Worf\n",
      "ORGANIZATION: DS9\n"
     ]
    }
   ],
   "source": [
    "## nltk\n",
    "entities = nltk.chunk.ne_chunk(tagged)\n",
    "\n",
    "for e in entities:\n",
    "    s = re.sub(r'[\\(\\)]', '', str(e))\n",
    "    if s.find('/NNP') > 0:\n",
    "        t = s.split()[0]\n",
    "        n = ' '.join([re.sub(r'/NNP', '', x) for x in s.split()[1:]])\n",
    "        print('%-12s: %s' % (t, n))"
   ]
  },
  {
   "cell_type": "markdown",
   "metadata": {
    "colab_type": "text",
    "id": "IS5Tc4z9FoYy"
   },
   "source": [
    ">"
   ]
  },
  {
   "cell_type": "markdown",
   "metadata": {
    "colab_type": "text",
    "id": "mxI2We9OFpfs"
   },
   "source": [
    ">"
   ]
  },
  {
   "cell_type": "markdown",
   "metadata": {
    "colab_type": "text",
    "id": "81DoNxN1FqGN"
   },
   "source": [
    ">"
   ]
  },
  {
   "cell_type": "markdown",
   "metadata": {
    "colab_type": "text",
    "id": "RERADKgNFq9T"
   },
   "source": [
    "\n",
    "\n",
    "---\n",
    "\n",
    "\n",
    "\n",
    "---\n",
    "\n",
    "\n",
    "\n",
    "> > > > > > > > > © 2019 Institute of Data\n",
    "\n",
    "\n",
    "---\n",
    "\n",
    "\n",
    "\n",
    "---\n",
    "\n",
    "\n",
    "\n"
   ]
  }
 ],
 "metadata": {
  "colab": {
   "collapsed_sections": [],
   "name": "IOD_Lab-9_5.ipynb",
   "provenance": []
  },
  "kernelspec": {
   "display_name": "Python 3",
   "language": "python",
   "name": "python3"
  },
  "language_info": {
   "codemirror_mode": {
    "name": "ipython",
    "version": 3
   },
   "file_extension": ".py",
   "mimetype": "text/x-python",
   "name": "python",
   "nbconvert_exporter": "python",
   "pygments_lexer": "ipython3",
   "version": "3.8.3"
  },
  "varInspector": {
   "cols": {
    "lenName": 16,
    "lenType": 16,
    "lenVar": 40
   },
   "kernels_config": {
    "python": {
     "delete_cmd_postfix": "",
     "delete_cmd_prefix": "del ",
     "library": "var_list.py",
     "varRefreshCmd": "print(var_dic_list())"
    },
    "r": {
     "delete_cmd_postfix": ") ",
     "delete_cmd_prefix": "rm(",
     "library": "var_list.r",
     "varRefreshCmd": "cat(var_dic_list()) "
    }
   },
   "types_to_exclude": [
    "module",
    "function",
    "builtin_function_or_method",
    "instance",
    "_Feature"
   ],
   "window_display": false
  }
 },
 "nbformat": 4,
 "nbformat_minor": 1
}
