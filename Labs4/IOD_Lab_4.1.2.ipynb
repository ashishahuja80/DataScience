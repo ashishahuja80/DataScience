{
 "cells": [
  {
   "cell_type": "markdown",
   "metadata": {
    "colab_type": "text",
    "id": "fpsJ8d42XWua"
   },
   "source": [
    "<div>\n",
    "<img src=https://www.institutedata.com/wp-content/uploads/2019/10/iod_h_tp_primary_c.svg width=\"300\">\n",
    "</div>"
   ]
  },
  {
   "cell_type": "markdown",
   "metadata": {
    "colab_type": "text",
    "id": "CSHa05-1XWub"
   },
   "source": [
    "# Lab 4.1.2 Linear Regression"
   ]
  },
  {
   "cell_type": "markdown",
   "metadata": {
    "colab_type": "text",
    "id": "lZ0RQEDgXWuc"
   },
   "source": [
    "## Prediction of House Price Using Linear Regression"
   ]
  },
  {
   "cell_type": "markdown",
   "metadata": {
    "colab_type": "text",
    "id": "96_GqGXCXWud"
   },
   "source": [
    "### Data\n",
    "\n",
    "The Sacramento real estate transactions file is a list of 985 real estate transactions in the Sacramento area reported over a five-day period, as reported by the Sacramento Bee."
   ]
  },
  {
   "cell_type": "code",
   "execution_count": 9,
   "metadata": {
    "colab": {},
    "colab_type": "code",
    "id": "l1leeqkAXWug"
   },
   "outputs": [],
   "source": [
    "import pandas as pd\n",
    "import numpy as np\n",
    "import pandas as pd\n",
    "import seaborn as sns\n",
    "\n",
    "%matplotlib inline"
   ]
  },
  {
   "cell_type": "markdown",
   "metadata": {
    "colab_type": "text",
    "id": "S0zFU75NXWuj"
   },
   "source": [
    "### 1. Explore Data"
   ]
  },
  {
   "cell_type": "markdown",
   "metadata": {
    "colab_type": "text",
    "id": "kaShnXBCXWuk"
   },
   "source": [
    "Perform EDA on this dataset. Find Dependent and Independent Variables to predict house price."
   ]
  },
  {
   "cell_type": "code",
   "execution_count": 3,
   "metadata": {
    "colab": {},
    "colab_type": "code",
    "id": "oj3kd7vqXWul"
   },
   "outputs": [],
   "source": [
    "# Read CSV\n",
    "house_csv = \"Sacramento_transactions.csv\"\n",
    "data = pd.read_csv(house_csv)"
   ]
  },
  {
   "cell_type": "code",
   "execution_count": 4,
   "metadata": {},
   "outputs": [
    {
     "data": {
      "text/html": [
       "<div>\n",
       "<style scoped>\n",
       "    .dataframe tbody tr th:only-of-type {\n",
       "        vertical-align: middle;\n",
       "    }\n",
       "\n",
       "    .dataframe tbody tr th {\n",
       "        vertical-align: top;\n",
       "    }\n",
       "\n",
       "    .dataframe thead th {\n",
       "        text-align: right;\n",
       "    }\n",
       "</style>\n",
       "<table border=\"1\" class=\"dataframe\">\n",
       "  <thead>\n",
       "    <tr style=\"text-align: right;\">\n",
       "      <th></th>\n",
       "      <th>street</th>\n",
       "      <th>city</th>\n",
       "      <th>zip</th>\n",
       "      <th>state</th>\n",
       "      <th>beds</th>\n",
       "      <th>baths</th>\n",
       "      <th>sq__ft</th>\n",
       "      <th>type</th>\n",
       "      <th>sale_date</th>\n",
       "      <th>price</th>\n",
       "      <th>latitude</th>\n",
       "      <th>longitude</th>\n",
       "    </tr>\n",
       "  </thead>\n",
       "  <tbody>\n",
       "    <tr>\n",
       "      <th>0</th>\n",
       "      <td>3526 HIGH ST</td>\n",
       "      <td>SACRAMENTO</td>\n",
       "      <td>95838</td>\n",
       "      <td>CA</td>\n",
       "      <td>2</td>\n",
       "      <td>1</td>\n",
       "      <td>836</td>\n",
       "      <td>Residential</td>\n",
       "      <td>Wed May 21 00:00:00 EDT 2008</td>\n",
       "      <td>59222</td>\n",
       "      <td>38.631913</td>\n",
       "      <td>-121.434879</td>\n",
       "    </tr>\n",
       "    <tr>\n",
       "      <th>1</th>\n",
       "      <td>51 OMAHA CT</td>\n",
       "      <td>SACRAMENTO</td>\n",
       "      <td>95823</td>\n",
       "      <td>CA</td>\n",
       "      <td>3</td>\n",
       "      <td>1</td>\n",
       "      <td>1167</td>\n",
       "      <td>Residential</td>\n",
       "      <td>Wed May 21 00:00:00 EDT 2008</td>\n",
       "      <td>68212</td>\n",
       "      <td>38.478902</td>\n",
       "      <td>-121.431028</td>\n",
       "    </tr>\n",
       "    <tr>\n",
       "      <th>2</th>\n",
       "      <td>2796 BRANCH ST</td>\n",
       "      <td>SACRAMENTO</td>\n",
       "      <td>95815</td>\n",
       "      <td>CA</td>\n",
       "      <td>2</td>\n",
       "      <td>1</td>\n",
       "      <td>796</td>\n",
       "      <td>Residential</td>\n",
       "      <td>Wed May 21 00:00:00 EDT 2008</td>\n",
       "      <td>68880</td>\n",
       "      <td>38.618305</td>\n",
       "      <td>-121.443839</td>\n",
       "    </tr>\n",
       "    <tr>\n",
       "      <th>3</th>\n",
       "      <td>2805 JANETTE WAY</td>\n",
       "      <td>SACRAMENTO</td>\n",
       "      <td>95815</td>\n",
       "      <td>CA</td>\n",
       "      <td>2</td>\n",
       "      <td>1</td>\n",
       "      <td>852</td>\n",
       "      <td>Residential</td>\n",
       "      <td>Wed May 21 00:00:00 EDT 2008</td>\n",
       "      <td>69307</td>\n",
       "      <td>38.616835</td>\n",
       "      <td>-121.439146</td>\n",
       "    </tr>\n",
       "    <tr>\n",
       "      <th>4</th>\n",
       "      <td>6001 MCMAHON DR</td>\n",
       "      <td>SACRAMENTO</td>\n",
       "      <td>95824</td>\n",
       "      <td>CA</td>\n",
       "      <td>2</td>\n",
       "      <td>1</td>\n",
       "      <td>797</td>\n",
       "      <td>Residential</td>\n",
       "      <td>Wed May 21 00:00:00 EDT 2008</td>\n",
       "      <td>81900</td>\n",
       "      <td>38.519470</td>\n",
       "      <td>-121.435768</td>\n",
       "    </tr>\n",
       "  </tbody>\n",
       "</table>\n",
       "</div>"
      ],
      "text/plain": [
       "             street        city    zip state  beds  baths  sq__ft  \\\n",
       "0      3526 HIGH ST  SACRAMENTO  95838    CA     2      1     836   \n",
       "1       51 OMAHA CT  SACRAMENTO  95823    CA     3      1    1167   \n",
       "2    2796 BRANCH ST  SACRAMENTO  95815    CA     2      1     796   \n",
       "3  2805 JANETTE WAY  SACRAMENTO  95815    CA     2      1     852   \n",
       "4   6001 MCMAHON DR  SACRAMENTO  95824    CA     2      1     797   \n",
       "\n",
       "          type                     sale_date  price   latitude   longitude  \n",
       "0  Residential  Wed May 21 00:00:00 EDT 2008  59222  38.631913 -121.434879  \n",
       "1  Residential  Wed May 21 00:00:00 EDT 2008  68212  38.478902 -121.431028  \n",
       "2  Residential  Wed May 21 00:00:00 EDT 2008  68880  38.618305 -121.443839  \n",
       "3  Residential  Wed May 21 00:00:00 EDT 2008  69307  38.616835 -121.439146  \n",
       "4  Residential  Wed May 21 00:00:00 EDT 2008  81900  38.519470 -121.435768  "
      ]
     },
     "execution_count": 4,
     "metadata": {},
     "output_type": "execute_result"
    }
   ],
   "source": [
    "data.head()"
   ]
  },
  {
   "cell_type": "code",
   "execution_count": 36,
   "metadata": {},
   "outputs": [
    {
     "data": {
      "text/plain": [
       "7 CRYSTALWOOD CIR       2\n",
       "1223 LAMBERTON CIR      2\n",
       "4734 14TH AVE           2\n",
       "8306 CURLEW CT          2\n",
       "9507 SEA CLIFF WAY      1\n",
       "                       ..\n",
       "4225 46TH AVE           1\n",
       "4085 COUNTRY DR         1\n",
       "2636 TRONERO WAY        1\n",
       "1347 HIDALGO CIR        1\n",
       "4741 PACIFIC PARK DR    1\n",
       "Name: street, Length: 981, dtype: int64"
      ]
     },
     "execution_count": 36,
     "metadata": {},
     "output_type": "execute_result"
    }
   ],
   "source": [
    "data.street.value_counts()"
   ]
  },
  {
   "cell_type": "code",
   "execution_count": 47,
   "metadata": {},
   "outputs": [],
   "source": [
    "data['street_name'] = data.street.apply(lambda x: x[x.find(' ')+1:len(x)])"
   ]
  },
  {
   "cell_type": "code",
   "execution_count": 46,
   "metadata": {},
   "outputs": [
    {
     "data": {
      "text/plain": [
       "CRYSTALWOOD CIR     33\n",
       "E ST                 9\n",
       "22ND AVE             4\n",
       "1ST ST               4\n",
       "14TH AVE             3\n",
       "                    ..\n",
       "CRESTA WAY           1\n",
       "BLACKMAN WAY         1\n",
       "MAPLEPLAIN AVE       1\n",
       "ANGELINA AVE         1\n",
       "HAMPTON COVE WAY     1\n",
       "Name: street, Length: 872, dtype: int64"
      ]
     },
     "execution_count": 46,
     "metadata": {},
     "output_type": "execute_result"
    }
   ],
   "source": [
    "street_name.value_counts()"
   ]
  },
  {
   "cell_type": "code",
   "execution_count": 48,
   "metadata": {},
   "outputs": [],
   "source": [
    "import category_encoders as ce"
   ]
  },
  {
   "cell_type": "code",
   "execution_count": 49,
   "metadata": {},
   "outputs": [],
   "source": [
    "street_name_encoded = pd.get_dummies(data=data['street_name'],drop_first=False)"
   ]
  },
  {
   "cell_type": "code",
   "execution_count": 50,
   "metadata": {},
   "outputs": [
    {
     "data": {
      "text/html": [
       "<div>\n",
       "<style scoped>\n",
       "    .dataframe tbody tr th:only-of-type {\n",
       "        vertical-align: middle;\n",
       "    }\n",
       "\n",
       "    .dataframe tbody tr th {\n",
       "        vertical-align: top;\n",
       "    }\n",
       "\n",
       "    .dataframe thead th {\n",
       "        text-align: right;\n",
       "    }\n",
       "</style>\n",
       "<table border=\"1\" class=\"dataframe\">\n",
       "  <thead>\n",
       "    <tr style=\"text-align: right;\">\n",
       "      <th></th>\n",
       "      <th>10TH AVE</th>\n",
       "      <th>10TH ST</th>\n",
       "      <th>11TH AVE</th>\n",
       "      <th>12TH AVE</th>\n",
       "      <th>14TH AVE</th>\n",
       "      <th>17TH AVE</th>\n",
       "      <th>19TH AVE</th>\n",
       "      <th>1ST ST</th>\n",
       "      <th>20TH AVE</th>\n",
       "      <th>21ST AVE</th>\n",
       "      <th>...</th>\n",
       "      <th>WOODSIDE DR</th>\n",
       "      <th>WOODYARD WAY</th>\n",
       "      <th>WRINGER DR</th>\n",
       "      <th>Y ST</th>\n",
       "      <th>YARNELL WAY</th>\n",
       "      <th>YELLOWSTONE LN</th>\n",
       "      <th>YORK GLEN WAY</th>\n",
       "      <th>YORKTON WAY</th>\n",
       "      <th>YOUNGS AVE</th>\n",
       "      <th>YUMA CT</th>\n",
       "    </tr>\n",
       "  </thead>\n",
       "  <tbody>\n",
       "    <tr>\n",
       "      <th>0</th>\n",
       "      <td>0</td>\n",
       "      <td>0</td>\n",
       "      <td>0</td>\n",
       "      <td>0</td>\n",
       "      <td>0</td>\n",
       "      <td>0</td>\n",
       "      <td>0</td>\n",
       "      <td>0</td>\n",
       "      <td>0</td>\n",
       "      <td>0</td>\n",
       "      <td>...</td>\n",
       "      <td>0</td>\n",
       "      <td>0</td>\n",
       "      <td>0</td>\n",
       "      <td>0</td>\n",
       "      <td>0</td>\n",
       "      <td>0</td>\n",
       "      <td>0</td>\n",
       "      <td>0</td>\n",
       "      <td>0</td>\n",
       "      <td>0</td>\n",
       "    </tr>\n",
       "    <tr>\n",
       "      <th>1</th>\n",
       "      <td>0</td>\n",
       "      <td>0</td>\n",
       "      <td>0</td>\n",
       "      <td>0</td>\n",
       "      <td>0</td>\n",
       "      <td>0</td>\n",
       "      <td>0</td>\n",
       "      <td>0</td>\n",
       "      <td>0</td>\n",
       "      <td>0</td>\n",
       "      <td>...</td>\n",
       "      <td>0</td>\n",
       "      <td>0</td>\n",
       "      <td>0</td>\n",
       "      <td>0</td>\n",
       "      <td>0</td>\n",
       "      <td>0</td>\n",
       "      <td>0</td>\n",
       "      <td>0</td>\n",
       "      <td>0</td>\n",
       "      <td>0</td>\n",
       "    </tr>\n",
       "    <tr>\n",
       "      <th>2</th>\n",
       "      <td>0</td>\n",
       "      <td>0</td>\n",
       "      <td>0</td>\n",
       "      <td>0</td>\n",
       "      <td>0</td>\n",
       "      <td>0</td>\n",
       "      <td>0</td>\n",
       "      <td>0</td>\n",
       "      <td>0</td>\n",
       "      <td>0</td>\n",
       "      <td>...</td>\n",
       "      <td>0</td>\n",
       "      <td>0</td>\n",
       "      <td>0</td>\n",
       "      <td>0</td>\n",
       "      <td>0</td>\n",
       "      <td>0</td>\n",
       "      <td>0</td>\n",
       "      <td>0</td>\n",
       "      <td>0</td>\n",
       "      <td>0</td>\n",
       "    </tr>\n",
       "    <tr>\n",
       "      <th>3</th>\n",
       "      <td>0</td>\n",
       "      <td>0</td>\n",
       "      <td>0</td>\n",
       "      <td>0</td>\n",
       "      <td>0</td>\n",
       "      <td>0</td>\n",
       "      <td>0</td>\n",
       "      <td>0</td>\n",
       "      <td>0</td>\n",
       "      <td>0</td>\n",
       "      <td>...</td>\n",
       "      <td>0</td>\n",
       "      <td>0</td>\n",
       "      <td>0</td>\n",
       "      <td>0</td>\n",
       "      <td>0</td>\n",
       "      <td>0</td>\n",
       "      <td>0</td>\n",
       "      <td>0</td>\n",
       "      <td>0</td>\n",
       "      <td>0</td>\n",
       "    </tr>\n",
       "    <tr>\n",
       "      <th>4</th>\n",
       "      <td>0</td>\n",
       "      <td>0</td>\n",
       "      <td>0</td>\n",
       "      <td>0</td>\n",
       "      <td>0</td>\n",
       "      <td>0</td>\n",
       "      <td>0</td>\n",
       "      <td>0</td>\n",
       "      <td>0</td>\n",
       "      <td>0</td>\n",
       "      <td>...</td>\n",
       "      <td>0</td>\n",
       "      <td>0</td>\n",
       "      <td>0</td>\n",
       "      <td>0</td>\n",
       "      <td>0</td>\n",
       "      <td>0</td>\n",
       "      <td>0</td>\n",
       "      <td>0</td>\n",
       "      <td>0</td>\n",
       "      <td>0</td>\n",
       "    </tr>\n",
       "  </tbody>\n",
       "</table>\n",
       "<p>5 rows × 872 columns</p>\n",
       "</div>"
      ],
      "text/plain": [
       "   10TH AVE  10TH ST  11TH AVE  12TH AVE  14TH AVE  17TH AVE  19TH AVE  \\\n",
       "0         0        0         0         0         0         0         0   \n",
       "1         0        0         0         0         0         0         0   \n",
       "2         0        0         0         0         0         0         0   \n",
       "3         0        0         0         0         0         0         0   \n",
       "4         0        0         0         0         0         0         0   \n",
       "\n",
       "   1ST ST  20TH AVE  21ST AVE  ...  WOODSIDE DR  WOODYARD WAY  WRINGER DR  \\\n",
       "0       0         0         0  ...            0             0           0   \n",
       "1       0         0         0  ...            0             0           0   \n",
       "2       0         0         0  ...            0             0           0   \n",
       "3       0         0         0  ...            0             0           0   \n",
       "4       0         0         0  ...            0             0           0   \n",
       "\n",
       "   Y ST  YARNELL WAY  YELLOWSTONE LN  YORK GLEN WAY  YORKTON WAY  YOUNGS AVE  \\\n",
       "0     0            0               0              0            0           0   \n",
       "1     0            0               0              0            0           0   \n",
       "2     0            0               0              0            0           0   \n",
       "3     0            0               0              0            0           0   \n",
       "4     0            0               0              0            0           0   \n",
       "\n",
       "   YUMA CT  \n",
       "0        0  \n",
       "1        0  \n",
       "2        0  \n",
       "3        0  \n",
       "4        0  \n",
       "\n",
       "[5 rows x 872 columns]"
      ]
     },
     "execution_count": 50,
     "metadata": {},
     "output_type": "execute_result"
    }
   ],
   "source": [
    "street_name_encoded.head()"
   ]
  },
  {
   "cell_type": "markdown",
   "metadata": {
    "colab_type": "text",
    "id": "kQ_sd0-VXWuo"
   },
   "source": [
    "### 2. Predict Price"
   ]
  },
  {
   "cell_type": "markdown",
   "metadata": {
    "colab_type": "text",
    "id": "BsxIS3qqXWuq"
   },
   "source": [
    "We are going to predict `price` from available information."
   ]
  },
  {
   "cell_type": "markdown",
   "metadata": {
    "colab_type": "text",
    "id": "l9DkEfzHXWur"
   },
   "source": [
    "#### 2.1 What is the Target Variable? Why?"
   ]
  },
  {
   "cell_type": "code",
   "execution_count": 5,
   "metadata": {
    "colab": {},
    "colab_type": "code",
    "id": "HGONOtfFXWut"
   },
   "outputs": [],
   "source": [
    "# ANSWER Target variable is the price as it is being predicted"
   ]
  },
  {
   "cell_type": "markdown",
   "metadata": {
    "colab_type": "text",
    "id": "MDAu8eeXXWuz"
   },
   "source": [
    "#### 2.2 List all possible variables which might be Independent/Predictor variable."
   ]
  },
  {
   "cell_type": "code",
   "execution_count": 6,
   "metadata": {
    "colab": {},
    "colab_type": "code",
    "id": "PEDRGP1EXWu1"
   },
   "outputs": [],
   "source": [
    "# ANSWER Independent/Predictor variables = beds, bath, sq_ft, type, latitude, longitude"
   ]
  },
  {
   "cell_type": "markdown",
   "metadata": {
    "colab_type": "text",
    "id": "w9x9iKhcXWu4"
   },
   "source": [
    "#### 2.3 Find correlation between variables\n",
    "\n",
    "Find correlation between variables. Which is the best predictor? Why? State your reason."
   ]
  },
  {
   "cell_type": "code",
   "execution_count": 7,
   "metadata": {
    "colab": {},
    "colab_type": "code",
    "id": "5OZ6kJeyXWu5"
   },
   "outputs": [
    {
     "data": {
      "text/html": [
       "<div>\n",
       "<style scoped>\n",
       "    .dataframe tbody tr th:only-of-type {\n",
       "        vertical-align: middle;\n",
       "    }\n",
       "\n",
       "    .dataframe tbody tr th {\n",
       "        vertical-align: top;\n",
       "    }\n",
       "\n",
       "    .dataframe thead th {\n",
       "        text-align: right;\n",
       "    }\n",
       "</style>\n",
       "<table border=\"1\" class=\"dataframe\">\n",
       "  <thead>\n",
       "    <tr style=\"text-align: right;\">\n",
       "      <th></th>\n",
       "      <th>zip</th>\n",
       "      <th>beds</th>\n",
       "      <th>baths</th>\n",
       "      <th>sq__ft</th>\n",
       "      <th>price</th>\n",
       "      <th>latitude</th>\n",
       "      <th>longitude</th>\n",
       "    </tr>\n",
       "  </thead>\n",
       "  <tbody>\n",
       "    <tr>\n",
       "      <th>zip</th>\n",
       "      <td>1.000000</td>\n",
       "      <td>0.125319</td>\n",
       "      <td>0.069165</td>\n",
       "      <td>0.130108</td>\n",
       "      <td>-0.093353</td>\n",
       "      <td>-0.290389</td>\n",
       "      <td>-0.539904</td>\n",
       "    </tr>\n",
       "    <tr>\n",
       "      <th>beds</th>\n",
       "      <td>0.125319</td>\n",
       "      <td>1.000000</td>\n",
       "      <td>0.839650</td>\n",
       "      <td>0.684041</td>\n",
       "      <td>0.342024</td>\n",
       "      <td>-0.291307</td>\n",
       "      <td>-0.053993</td>\n",
       "    </tr>\n",
       "    <tr>\n",
       "      <th>baths</th>\n",
       "      <td>0.069165</td>\n",
       "      <td>0.839650</td>\n",
       "      <td>1.000000</td>\n",
       "      <td>0.665690</td>\n",
       "      <td>0.416208</td>\n",
       "      <td>-0.235792</td>\n",
       "      <td>0.016582</td>\n",
       "    </tr>\n",
       "    <tr>\n",
       "      <th>sq__ft</th>\n",
       "      <td>0.130108</td>\n",
       "      <td>0.684041</td>\n",
       "      <td>0.665690</td>\n",
       "      <td>1.000000</td>\n",
       "      <td>0.333897</td>\n",
       "      <td>-0.383274</td>\n",
       "      <td>-0.177742</td>\n",
       "    </tr>\n",
       "    <tr>\n",
       "      <th>price</th>\n",
       "      <td>-0.093353</td>\n",
       "      <td>0.342024</td>\n",
       "      <td>0.416208</td>\n",
       "      <td>0.333897</td>\n",
       "      <td>1.000000</td>\n",
       "      <td>-0.039573</td>\n",
       "      <td>0.284485</td>\n",
       "    </tr>\n",
       "    <tr>\n",
       "      <th>latitude</th>\n",
       "      <td>-0.290389</td>\n",
       "      <td>-0.291307</td>\n",
       "      <td>-0.235792</td>\n",
       "      <td>-0.383274</td>\n",
       "      <td>-0.039573</td>\n",
       "      <td>1.000000</td>\n",
       "      <td>0.387925</td>\n",
       "    </tr>\n",
       "    <tr>\n",
       "      <th>longitude</th>\n",
       "      <td>-0.539904</td>\n",
       "      <td>-0.053993</td>\n",
       "      <td>0.016582</td>\n",
       "      <td>-0.177742</td>\n",
       "      <td>0.284485</td>\n",
       "      <td>0.387925</td>\n",
       "      <td>1.000000</td>\n",
       "    </tr>\n",
       "  </tbody>\n",
       "</table>\n",
       "</div>"
      ],
      "text/plain": [
       "                zip      beds     baths    sq__ft     price  latitude  \\\n",
       "zip        1.000000  0.125319  0.069165  0.130108 -0.093353 -0.290389   \n",
       "beds       0.125319  1.000000  0.839650  0.684041  0.342024 -0.291307   \n",
       "baths      0.069165  0.839650  1.000000  0.665690  0.416208 -0.235792   \n",
       "sq__ft     0.130108  0.684041  0.665690  1.000000  0.333897 -0.383274   \n",
       "price     -0.093353  0.342024  0.416208  0.333897  1.000000 -0.039573   \n",
       "latitude  -0.290389 -0.291307 -0.235792 -0.383274 -0.039573  1.000000   \n",
       "longitude -0.539904 -0.053993  0.016582 -0.177742  0.284485  0.387925   \n",
       "\n",
       "           longitude  \n",
       "zip        -0.539904  \n",
       "beds       -0.053993  \n",
       "baths       0.016582  \n",
       "sq__ft     -0.177742  \n",
       "price       0.284485  \n",
       "latitude    0.387925  \n",
       "longitude   1.000000  "
      ]
     },
     "execution_count": 7,
     "metadata": {},
     "output_type": "execute_result"
    }
   ],
   "source": [
    "# ANSWER\n",
    "data.corr()\n"
   ]
  },
  {
   "cell_type": "code",
   "execution_count": 18,
   "metadata": {},
   "outputs": [
    {
     "data": {
      "text/plain": [
       "<seaborn.axisgrid.PairGrid at 0x15c67ebf850>"
      ]
     },
     "execution_count": 18,
     "metadata": {},
     "output_type": "execute_result"
    },
    {
     "data": {
      "image/png": "[encoded data removed]",
      "text/plain": [
       "<Figure size 720x720 with 20 Axes>"
      ]
     },
     "metadata": {
      "needs_background": "light"
     },
     "output_type": "display_data"
    }
   ],
   "source": [
    "colnames=['beds','baths','sq__ft','price']\n",
    "sns.pairplot(data[colnames])"
   ]
  },
  {
   "cell_type": "markdown",
   "metadata": {},
   "source": [
    "### Answer:\n",
    "Best predictor is baths as it has the highest correlation coefficient with price"
   ]
  },
  {
   "cell_type": "markdown",
   "metadata": {
    "colab_type": "text",
    "id": "tgWfh5snXWu8"
   },
   "source": [
    "#### 2.4 Find Coefficient and Intercept using Linear Regression\n",
    "\n",
    "Using LinearRegression of sklearn.linear_model package find Coefficient and Intercept.\n",
    "\n",
    "Create an instance of LinearRegression.\n",
    "\n",
    "Explore following methods:\n",
    "\n",
    "- fit\n",
    "- predict\n",
    "- score"
   ]
  },
  {
   "cell_type": "code",
   "execution_count": 10,
   "metadata": {
    "colab": {},
    "colab_type": "code",
    "id": "SbiQavKvXWu9"
   },
   "outputs": [],
   "source": [
    "from sklearn.linear_model import LinearRegression"
   ]
  },
  {
   "cell_type": "markdown",
   "metadata": {
    "colab_type": "text",
    "id": "lVWhSV7BXWu_"
   },
   "source": [
    "##### 2.4.1 Fit predictor and target variables using linear regression "
   ]
  },
  {
   "cell_type": "code",
   "execution_count": 29,
   "metadata": {
    "colab": {},
    "colab_type": "code",
    "id": "6cplIG9RXWvA"
   },
   "outputs": [
    {
     "name": "stdout",
     "output_type": "stream",
     "text": [
      "(985,)\n",
      "(985, 3)\n"
     ]
    }
   ],
   "source": [
    "# ANSWER\n",
    "print(data['sq__ft'].values.shape)\n",
    "colnames_reg=['beds','baths','sq__ft']\n",
    "#X = data['sq__ft'].values.reshape(-1,1)\n",
    "X = data[colnames_reg].values\n",
    "print(X.shape)\n",
    "\n",
    "Y = data['price']"
   ]
  },
  {
   "cell_type": "markdown",
   "metadata": {
    "colab_type": "text",
    "id": "0Qv0pyZNXWvC"
   },
   "source": [
    "##### 2.4.2 Find R Score"
   ]
  },
  {
   "cell_type": "markdown",
   "metadata": {
    "colab_type": "text",
    "id": "j5Lix6tlXWvD"
   },
   "source": [
    "Find $R^2$ Using ```score``` method of Linear Regression."
   ]
  },
  {
   "cell_type": "code",
   "execution_count": 30,
   "metadata": {
    "colab": {},
    "colab_type": "code",
    "id": "JrJDTlJrXWvF"
   },
   "outputs": [
    {
     "data": {
      "text/plain": [
       "0.18055988065088857"
      ]
     },
     "execution_count": 30,
     "metadata": {},
     "output_type": "execute_result"
    }
   ],
   "source": [
    "# ANSWER\n",
    "reg = LinearRegression().fit(X,Y)\n",
    "reg.score(X,Y)"
   ]
  },
  {
   "cell_type": "markdown",
   "metadata": {
    "colab_type": "text",
    "id": "BiVDrqFhXWvN"
   },
   "source": [
    "### 3. Splitting Data"
   ]
  },
  {
   "cell_type": "code",
   "execution_count": 31,
   "metadata": {
    "colab": {},
    "colab_type": "code",
    "id": "I4tgG88GXWvQ"
   },
   "outputs": [],
   "source": [
    "from sklearn.model_selection import train_test_split"
   ]
  },
  {
   "cell_type": "markdown",
   "metadata": {
    "colab_type": "text",
    "id": "hTgSdUpwXWvW"
   },
   "source": [
    "#### 3.1 Create training and testing subsets\n",
    "\n",
    "Hint: Using `train_test_split` Library.\n",
    "\n",
    "```\n",
    "X_train, X_test, y_train, y_test = train_test_split(X, y, test_size=0.33, random_state=42)\n",
    "```"
   ]
  },
  {
   "cell_type": "code",
   "execution_count": 32,
   "metadata": {
    "colab": {},
    "colab_type": "code",
    "id": "iYSlAV_gXWvX"
   },
   "outputs": [],
   "source": [
    "# ANSWER\n",
    "## Create training and testing subsets\n",
    "X_train, X_test, y_train, y_test = train_test_split(X,Y,test_size = 0.3, random_state=42)"
   ]
  },
  {
   "cell_type": "markdown",
   "metadata": {
    "colab_type": "text",
    "id": "P62hTi0IXWva"
   },
   "source": [
    "#### 3.2 Check Shape, Sample of Test Train Data"
   ]
  },
  {
   "cell_type": "code",
   "execution_count": 33,
   "metadata": {
    "colab": {},
    "colab_type": "code",
    "id": "larfqlLQXWvb"
   },
   "outputs": [
    {
     "name": "stdout",
     "output_type": "stream",
     "text": [
      "(689, 3)\n",
      "(296, 3)\n"
     ]
    }
   ],
   "source": [
    "# ANSWER\n",
    "## Check training/test data\n",
    "print(X_train.shape)\n",
    "print(X_test.shape)\n"
   ]
  },
  {
   "cell_type": "markdown",
   "metadata": {
    "colab_type": "text",
    "id": "FhemsdjyXWvd"
   },
   "source": [
    "#### 3.3 Using Linear Regression Find The Score\n",
    "\n",
    "1. Fit model using X_train, y_train\n",
    "2. Find score using X_test, y_test"
   ]
  },
  {
   "cell_type": "code",
   "execution_count": 34,
   "metadata": {
    "colab": {},
    "colab_type": "code",
    "id": "yqNCjOW3XWve"
   },
   "outputs": [
    {
     "name": "stdout",
     "output_type": "stream",
     "text": [
      "0.1728216106351652\n"
     ]
    }
   ],
   "source": [
    "# ANSWER\n",
    "reg1 = LinearRegression().fit(X_train,y_train)\n",
    "print(reg1.score(X_train,y_train))"
   ]
  },
  {
   "cell_type": "code",
   "execution_count": 35,
   "metadata": {
    "colab": {},
    "colab_type": "code",
    "id": "rT5Qvx_pXWvi"
   },
   "outputs": [
    {
     "data": {
      "text/plain": [
       "0.18429336373123117"
      ]
     },
     "execution_count": 35,
     "metadata": {},
     "output_type": "execute_result"
    }
   ],
   "source": [
    "# ANSWER\n",
    "reg1.score(X_test,y_test)"
   ]
  },
  {
   "cell_type": "markdown",
   "metadata": {
    "colab_type": "text",
    "id": "wSAtgNXXXWvk"
   },
   "source": [
    "### 4. Predict House Price\n",
    "\n",
    "Let's assume we have information of following house:\n",
    "\n",
    "- street:\t1140 EDMONTON DR\n",
    "- city:\tSACRAMENTO\n",
    "- zip:\t95833\n",
    "- state:\tCA\n",
    "- beds:\t3\n",
    "- baths:\t2\n",
    "- sq__ft:\t1204\n",
    "- type:\tResidential\n",
    "\n",
    "**Predict the price of this house using linear regression model.**"
   ]
  },
  {
   "cell_type": "code",
   "execution_count": 42,
   "metadata": {
    "colab": {},
    "colab_type": "code",
    "id": "zwMk_GoVXWvk"
   },
   "outputs": [],
   "source": [
    "# ANSWER"
   ]
  },
  {
   "cell_type": "markdown",
   "metadata": {},
   "source": [
    "#### Find the error"
   ]
  },
  {
   "cell_type": "code",
   "execution_count": null,
   "metadata": {},
   "outputs": [],
   "source": [
    "# Predict price from X_test"
   ]
  },
  {
   "cell_type": "markdown",
   "metadata": {
    "colab_type": "text",
    "id": "fRx7LEfql5pu"
   },
   "source": [
    "\n",
    "\n",
    "---\n",
    "\n",
    "\n",
    "\n",
    "---\n",
    "\n",
    "\n",
    "\n",
    "> > > > > > > > > © 2019 Institute of Data\n",
    "\n",
    "\n",
    "---\n",
    "\n",
    "\n",
    "\n",
    "---\n",
    "\n",
    "\n",
    "\n"
   ]
  }
 ],
 "metadata": {
  "colab": {
   "collapsed_sections": [],
   "name": "DSIA Lab 4.1.2.ipynb",
   "provenance": []
  },
  "kernelspec": {
   "display_name": "Python 3",
   "language": "python",
   "name": "python3"
  },
  "language_info": {
   "codemirror_mode": {
    "name": "ipython",
    "version": 3
   },
   "file_extension": ".py",
   "mimetype": "text/x-python",
   "name": "python",
   "nbconvert_exporter": "python",
   "pygments_lexer": "ipython3",
   "version": "3.8.3"
  }
 },
 "nbformat": 4,
 "nbformat_minor": 1
}
