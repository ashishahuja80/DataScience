{
 "cells": [
  {
   "cell_type": "markdown",
   "metadata": {},
   "source": [
    "## UFO SIGTING DATASET"
   ]
  },
  {
   "cell_type": "code",
   "execution_count": 1,
   "metadata": {},
   "outputs": [],
   "source": [
    "import pandas as pd\n",
    "import numpy as np\n",
    "import matplotlib.pyplot as plt\n",
    "%matplotlib inline\n",
    "\n"
   ]
  },
  {
   "cell_type": "code",
   "execution_count": 2,
   "metadata": {},
   "outputs": [],
   "source": [
    "ufo_data = pd.read_csv('./Dataset/scrubbed.csv', low_memory=False)"
   ]
  },
  {
   "cell_type": "code",
   "execution_count": 3,
   "metadata": {},
   "outputs": [
    {
     "data": {
      "text/html": [
       "<div>\n",
       "<style scoped>\n",
       "    .dataframe tbody tr th:only-of-type {\n",
       "        vertical-align: middle;\n",
       "    }\n",
       "\n",
       "    .dataframe tbody tr th {\n",
       "        vertical-align: top;\n",
       "    }\n",
       "\n",
       "    .dataframe thead th {\n",
       "        text-align: right;\n",
       "    }\n",
       "</style>\n",
       "<table border=\"1\" class=\"dataframe\">\n",
       "  <thead>\n",
       "    <tr style=\"text-align: right;\">\n",
       "      <th></th>\n",
       "      <th>datetime</th>\n",
       "      <th>city</th>\n",
       "      <th>state</th>\n",
       "      <th>country</th>\n",
       "      <th>shape</th>\n",
       "      <th>duration (seconds)</th>\n",
       "      <th>duration (hours/min)</th>\n",
       "      <th>comments</th>\n",
       "      <th>date posted</th>\n",
       "      <th>latitude</th>\n",
       "      <th>longitude</th>\n",
       "    </tr>\n",
       "  </thead>\n",
       "  <tbody>\n",
       "    <tr>\n",
       "      <th>0</th>\n",
       "      <td>10/10/1949 20:30</td>\n",
       "      <td>san marcos</td>\n",
       "      <td>tx</td>\n",
       "      <td>us</td>\n",
       "      <td>cylinder</td>\n",
       "      <td>2700</td>\n",
       "      <td>45 minutes</td>\n",
       "      <td>This event took place in early fall around 194...</td>\n",
       "      <td>4/27/2004</td>\n",
       "      <td>29.8830556</td>\n",
       "      <td>-97.941111</td>\n",
       "    </tr>\n",
       "    <tr>\n",
       "      <th>1</th>\n",
       "      <td>10/10/1949 21:00</td>\n",
       "      <td>lackland afb</td>\n",
       "      <td>tx</td>\n",
       "      <td>NaN</td>\n",
       "      <td>light</td>\n",
       "      <td>7200</td>\n",
       "      <td>1-2 hrs</td>\n",
       "      <td>1949 Lackland AFB&amp;#44 TX.  Lights racing acros...</td>\n",
       "      <td>12/16/2005</td>\n",
       "      <td>29.38421</td>\n",
       "      <td>-98.581082</td>\n",
       "    </tr>\n",
       "    <tr>\n",
       "      <th>2</th>\n",
       "      <td>10/10/1955 17:00</td>\n",
       "      <td>chester (uk/england)</td>\n",
       "      <td>NaN</td>\n",
       "      <td>gb</td>\n",
       "      <td>circle</td>\n",
       "      <td>20</td>\n",
       "      <td>20 seconds</td>\n",
       "      <td>Green/Orange circular disc over Chester&amp;#44 En...</td>\n",
       "      <td>1/21/2008</td>\n",
       "      <td>53.2</td>\n",
       "      <td>-2.916667</td>\n",
       "    </tr>\n",
       "    <tr>\n",
       "      <th>3</th>\n",
       "      <td>10/10/1956 21:00</td>\n",
       "      <td>edna</td>\n",
       "      <td>tx</td>\n",
       "      <td>us</td>\n",
       "      <td>circle</td>\n",
       "      <td>20</td>\n",
       "      <td>1/2 hour</td>\n",
       "      <td>My older brother and twin sister were leaving ...</td>\n",
       "      <td>1/17/2004</td>\n",
       "      <td>28.9783333</td>\n",
       "      <td>-96.645833</td>\n",
       "    </tr>\n",
       "    <tr>\n",
       "      <th>4</th>\n",
       "      <td>10/10/1960 20:00</td>\n",
       "      <td>kaneohe</td>\n",
       "      <td>hi</td>\n",
       "      <td>us</td>\n",
       "      <td>light</td>\n",
       "      <td>900</td>\n",
       "      <td>15 minutes</td>\n",
       "      <td>AS a Marine 1st Lt. flying an FJ4B fighter/att...</td>\n",
       "      <td>1/22/2004</td>\n",
       "      <td>21.4180556</td>\n",
       "      <td>-157.803611</td>\n",
       "    </tr>\n",
       "  </tbody>\n",
       "</table>\n",
       "</div>"
      ],
      "text/plain": [
       "           datetime                  city state country     shape  \\\n",
       "0  10/10/1949 20:30            san marcos    tx      us  cylinder   \n",
       "1  10/10/1949 21:00          lackland afb    tx     NaN     light   \n",
       "2  10/10/1955 17:00  chester (uk/england)   NaN      gb    circle   \n",
       "3  10/10/1956 21:00                  edna    tx      us    circle   \n",
       "4  10/10/1960 20:00               kaneohe    hi      us     light   \n",
       "\n",
       "  duration (seconds) duration (hours/min)  \\\n",
       "0               2700           45 minutes   \n",
       "1               7200              1-2 hrs   \n",
       "2                 20           20 seconds   \n",
       "3                 20             1/2 hour   \n",
       "4                900           15 minutes   \n",
       "\n",
       "                                            comments date posted    latitude  \\\n",
       "0  This event took place in early fall around 194...   4/27/2004  29.8830556   \n",
       "1  1949 Lackland AFB&#44 TX.  Lights racing acros...  12/16/2005    29.38421   \n",
       "2  Green/Orange circular disc over Chester&#44 En...   1/21/2008        53.2   \n",
       "3  My older brother and twin sister were leaving ...   1/17/2004  28.9783333   \n",
       "4  AS a Marine 1st Lt. flying an FJ4B fighter/att...   1/22/2004  21.4180556   \n",
       "\n",
       "   longitude   \n",
       "0  -97.941111  \n",
       "1  -98.581082  \n",
       "2   -2.916667  \n",
       "3  -96.645833  \n",
       "4 -157.803611  "
      ]
     },
     "execution_count": 3,
     "metadata": {},
     "output_type": "execute_result"
    }
   ],
   "source": [
    "ufo_data.head()"
   ]
  },
  {
   "cell_type": "code",
   "execution_count": 4,
   "metadata": {},
   "outputs": [
    {
     "data": {
      "text/plain": [
       "datetime                 object\n",
       "city                     object\n",
       "state                    object\n",
       "country                  object\n",
       "shape                    object\n",
       "duration (seconds)       object\n",
       "duration (hours/min)     object\n",
       "comments                 object\n",
       "date posted              object\n",
       "latitude                 object\n",
       "longitude               float64\n",
       "dtype: object"
      ]
     },
     "execution_count": 4,
     "metadata": {},
     "output_type": "execute_result"
    }
   ],
   "source": [
    "ufo_data.dtypes"
   ]
  },
  {
   "cell_type": "code",
   "execution_count": 8,
   "metadata": {},
   "outputs": [
    {
     "name": "stdout",
     "output_type": "stream",
     "text": [
      "us    65114\n",
      "ca     3000\n",
      "gb     1905\n",
      "au      538\n",
      "de      105\n",
      "Name: country, dtype: int64\n"
     ]
    }
   ],
   "source": [
    "print(ufo_data['country'].value_counts())"
   ]
  },
  {
   "cell_type": "code",
   "execution_count": 9,
   "metadata": {},
   "outputs": [
    {
     "name": "stdout",
     "output_type": "stream",
     "text": [
      "ca    8912\n",
      "wa    3966\n",
      "fl    3835\n",
      "tx    3447\n",
      "ny    2980\n",
      "il    2499\n",
      "az    2414\n",
      "pa    2366\n",
      "oh    2275\n",
      "mi    1836\n",
      "or    1747\n",
      "nc    1740\n",
      "mo    1458\n",
      "co    1413\n",
      "in    1288\n",
      "va    1273\n",
      "ma    1256\n",
      "nj    1255\n",
      "ga    1255\n",
      "wi    1232\n",
      "tn    1119\n",
      "mn    1012\n",
      "sc    1003\n",
      "ct     892\n",
      "ky     855\n",
      "md     837\n",
      "nv     803\n",
      "ok     724\n",
      "nm     720\n",
      "ia     678\n",
      "al     642\n",
      "ut     622\n",
      "ks     613\n",
      "ar     588\n",
      "me     558\n",
      "la     558\n",
      "id     521\n",
      "nh     486\n",
      "mt     478\n",
      "wv     448\n",
      "ne     381\n",
      "ms     375\n",
      "ak     319\n",
      "hi     262\n",
      "vt     260\n",
      "ri     228\n",
      "sd     183\n",
      "wy     175\n",
      "de     166\n",
      "nd     129\n",
      "pr      25\n",
      "dc       7\n",
      "Name: state, dtype: int64\n"
     ]
    }
   ],
   "source": [
    "print(ufo_data['state'][ufo_data['country']=='us'].value_counts())"
   ]
  },
  {
   "cell_type": "code",
   "execution_count": 10,
   "metadata": {},
   "outputs": [
    {
     "name": "stdout",
     "output_type": "stream",
     "text": [
      "Index(['datetime', 'city', 'state', 'country', 'shape', 'duration (seconds)',\n",
      "       'duration (hours/min)', 'comments', 'date posted', 'latitude',\n",
      "       'longitude '],\n",
      "      dtype='object')\n"
     ]
    }
   ],
   "source": [
    "print(ufo_data.columns)"
   ]
  },
  {
   "cell_type": "code",
   "execution_count": 6,
   "metadata": {},
   "outputs": [
    {
     "name": "stdout",
     "output_type": "stream",
     "text": [
      "9/9/2013\n"
     ]
    }
   ],
   "source": [
    "print(max(ufo_data['date posted']))"
   ]
  },
  {
   "cell_type": "code",
   "execution_count": 7,
   "metadata": {},
   "outputs": [],
   "source": [
    "ufo_data_sorted = ufo_data.sort_values(by='date posted',ascending = False)"
   ]
  },
  {
   "cell_type": "code",
   "execution_count": 8,
   "metadata": {},
   "outputs": [
    {
     "data": {
      "text/html": [
       "<div>\n",
       "<style scoped>\n",
       "    .dataframe tbody tr th:only-of-type {\n",
       "        vertical-align: middle;\n",
       "    }\n",
       "\n",
       "    .dataframe tbody tr th {\n",
       "        vertical-align: top;\n",
       "    }\n",
       "\n",
       "    .dataframe thead th {\n",
       "        text-align: right;\n",
       "    }\n",
       "</style>\n",
       "<table border=\"1\" class=\"dataframe\">\n",
       "  <thead>\n",
       "    <tr style=\"text-align: right;\">\n",
       "      <th></th>\n",
       "      <th>datetime</th>\n",
       "      <th>city</th>\n",
       "      <th>state</th>\n",
       "      <th>country</th>\n",
       "      <th>shape</th>\n",
       "      <th>duration (seconds)</th>\n",
       "      <th>duration (hours/min)</th>\n",
       "      <th>comments</th>\n",
       "      <th>date posted</th>\n",
       "      <th>latitude</th>\n",
       "      <th>longitude</th>\n",
       "    </tr>\n",
       "  </thead>\n",
       "  <tbody>\n",
       "    <tr>\n",
       "      <th>79247</th>\n",
       "      <td>9/4/2013 05:55</td>\n",
       "      <td>bradshaw</td>\n",
       "      <td>ne</td>\n",
       "      <td>us</td>\n",
       "      <td>diamond</td>\n",
       "      <td>10</td>\n",
       "      <td>10 seconds</td>\n",
       "      <td>Low flying&amp;#44 very large diamond shaped flash...</td>\n",
       "      <td>9/9/2013</td>\n",
       "      <td>40.8838889</td>\n",
       "      <td>-97.746667</td>\n",
       "    </tr>\n",
       "    <tr>\n",
       "      <th>79473</th>\n",
       "      <td>9/5/2013 22:20</td>\n",
       "      <td>boston</td>\n",
       "      <td>ny</td>\n",
       "      <td>us</td>\n",
       "      <td>oval</td>\n",
       "      <td>2</td>\n",
       "      <td>2 seconds</td>\n",
       "      <td>Bright light traveled quickly across sky.</td>\n",
       "      <td>9/9/2013</td>\n",
       "      <td>42.6288889</td>\n",
       "      <td>-78.737778</td>\n",
       "    </tr>\n",
       "    <tr>\n",
       "      <th>79475</th>\n",
       "      <td>9/5/2013 23:00</td>\n",
       "      <td>belgium</td>\n",
       "      <td>NaN</td>\n",
       "      <td>NaN</td>\n",
       "      <td>circle</td>\n",
       "      <td>6</td>\n",
       "      <td>6 seconds</td>\n",
       "      <td>Huge bright light in belgium moving over city ...</td>\n",
       "      <td>9/9/2013</td>\n",
       "      <td>50.503887</td>\n",
       "      <td>4.469936</td>\n",
       "    </tr>\n",
       "    <tr>\n",
       "      <th>79476</th>\n",
       "      <td>9/5/2013 23:00</td>\n",
       "      <td>springfield</td>\n",
       "      <td>ma</td>\n",
       "      <td>us</td>\n",
       "      <td>changing</td>\n",
       "      <td>300</td>\n",
       "      <td>5 minutes</td>\n",
       "      <td>It wasn&amp;#39t a plane&amp;#44 planes don&amp;#39t hover...</td>\n",
       "      <td>9/9/2013</td>\n",
       "      <td>42.1013889</td>\n",
       "      <td>-72.590278</td>\n",
       "    </tr>\n",
       "    <tr>\n",
       "      <th>79477</th>\n",
       "      <td>9/5/2013 23:30</td>\n",
       "      <td>surfside beach</td>\n",
       "      <td>sc</td>\n",
       "      <td>us</td>\n",
       "      <td>disk</td>\n",
       "      <td>300</td>\n",
       "      <td>4-5 minutes</td>\n",
       "      <td>2 orange orbs seen in the night sky.</td>\n",
       "      <td>9/9/2013</td>\n",
       "      <td>33.6058333</td>\n",
       "      <td>-78.973333</td>\n",
       "    </tr>\n",
       "  </tbody>\n",
       "</table>\n",
       "</div>"
      ],
      "text/plain": [
       "             datetime            city state country     shape  \\\n",
       "79247  9/4/2013 05:55        bradshaw    ne      us   diamond   \n",
       "79473  9/5/2013 22:20          boston    ny      us      oval   \n",
       "79475  9/5/2013 23:00         belgium   NaN     NaN    circle   \n",
       "79476  9/5/2013 23:00     springfield    ma      us  changing   \n",
       "79477  9/5/2013 23:30  surfside beach    sc      us      disk   \n",
       "\n",
       "      duration (seconds) duration (hours/min)  \\\n",
       "79247                 10           10 seconds   \n",
       "79473                  2            2 seconds   \n",
       "79475                  6            6 seconds   \n",
       "79476                300            5 minutes   \n",
       "79477                300          4-5 minutes   \n",
       "\n",
       "                                                comments date posted  \\\n",
       "79247  Low flying&#44 very large diamond shaped flash...    9/9/2013   \n",
       "79473          Bright light traveled quickly across sky.    9/9/2013   \n",
       "79475  Huge bright light in belgium moving over city ...    9/9/2013   \n",
       "79476  It wasn&#39t a plane&#44 planes don&#39t hover...    9/9/2013   \n",
       "79477               2 orange orbs seen in the night sky.    9/9/2013   \n",
       "\n",
       "         latitude  longitude   \n",
       "79247  40.8838889  -97.746667  \n",
       "79473  42.6288889  -78.737778  \n",
       "79475   50.503887    4.469936  \n",
       "79476  42.1013889  -72.590278  \n",
       "79477  33.6058333  -78.973333  "
      ]
     },
     "execution_count": 8,
     "metadata": {},
     "output_type": "execute_result"
    }
   ],
   "source": [
    "ufo_data_sorted.head()"
   ]
  },
  {
   "cell_type": "code",
   "execution_count": 9,
   "metadata": {},
   "outputs": [],
   "source": [
    "from datetime import datetime\n"
   ]
  },
  {
   "cell_type": "code",
   "execution_count": 10,
   "metadata": {},
   "outputs": [],
   "source": [
    "ufo_data_sorted['date posted'] = pd.to_datetime(ufo_data_sorted['date posted'])"
   ]
  },
  {
   "cell_type": "code",
   "execution_count": 11,
   "metadata": {},
   "outputs": [
    {
     "data": {
      "text/html": [
       "<div>\n",
       "<style scoped>\n",
       "    .dataframe tbody tr th:only-of-type {\n",
       "        vertical-align: middle;\n",
       "    }\n",
       "\n",
       "    .dataframe tbody tr th {\n",
       "        vertical-align: top;\n",
       "    }\n",
       "\n",
       "    .dataframe thead th {\n",
       "        text-align: right;\n",
       "    }\n",
       "</style>\n",
       "<table border=\"1\" class=\"dataframe\">\n",
       "  <thead>\n",
       "    <tr style=\"text-align: right;\">\n",
       "      <th></th>\n",
       "      <th>datetime</th>\n",
       "      <th>city</th>\n",
       "      <th>state</th>\n",
       "      <th>country</th>\n",
       "      <th>shape</th>\n",
       "      <th>duration (seconds)</th>\n",
       "      <th>duration (hours/min)</th>\n",
       "      <th>comments</th>\n",
       "      <th>date posted</th>\n",
       "      <th>latitude</th>\n",
       "      <th>longitude</th>\n",
       "    </tr>\n",
       "  </thead>\n",
       "  <tbody>\n",
       "    <tr>\n",
       "      <th>79247</th>\n",
       "      <td>9/4/2013 05:55</td>\n",
       "      <td>bradshaw</td>\n",
       "      <td>ne</td>\n",
       "      <td>us</td>\n",
       "      <td>diamond</td>\n",
       "      <td>10</td>\n",
       "      <td>10 seconds</td>\n",
       "      <td>Low flying&amp;#44 very large diamond shaped flash...</td>\n",
       "      <td>2013-09-09</td>\n",
       "      <td>40.8838889</td>\n",
       "      <td>-97.746667</td>\n",
       "    </tr>\n",
       "    <tr>\n",
       "      <th>79473</th>\n",
       "      <td>9/5/2013 22:20</td>\n",
       "      <td>boston</td>\n",
       "      <td>ny</td>\n",
       "      <td>us</td>\n",
       "      <td>oval</td>\n",
       "      <td>2</td>\n",
       "      <td>2 seconds</td>\n",
       "      <td>Bright light traveled quickly across sky.</td>\n",
       "      <td>2013-09-09</td>\n",
       "      <td>42.6288889</td>\n",
       "      <td>-78.737778</td>\n",
       "    </tr>\n",
       "    <tr>\n",
       "      <th>79475</th>\n",
       "      <td>9/5/2013 23:00</td>\n",
       "      <td>belgium</td>\n",
       "      <td>NaN</td>\n",
       "      <td>NaN</td>\n",
       "      <td>circle</td>\n",
       "      <td>6</td>\n",
       "      <td>6 seconds</td>\n",
       "      <td>Huge bright light in belgium moving over city ...</td>\n",
       "      <td>2013-09-09</td>\n",
       "      <td>50.503887</td>\n",
       "      <td>4.469936</td>\n",
       "    </tr>\n",
       "    <tr>\n",
       "      <th>79476</th>\n",
       "      <td>9/5/2013 23:00</td>\n",
       "      <td>springfield</td>\n",
       "      <td>ma</td>\n",
       "      <td>us</td>\n",
       "      <td>changing</td>\n",
       "      <td>300</td>\n",
       "      <td>5 minutes</td>\n",
       "      <td>It wasn&amp;#39t a plane&amp;#44 planes don&amp;#39t hover...</td>\n",
       "      <td>2013-09-09</td>\n",
       "      <td>42.1013889</td>\n",
       "      <td>-72.590278</td>\n",
       "    </tr>\n",
       "    <tr>\n",
       "      <th>79477</th>\n",
       "      <td>9/5/2013 23:30</td>\n",
       "      <td>surfside beach</td>\n",
       "      <td>sc</td>\n",
       "      <td>us</td>\n",
       "      <td>disk</td>\n",
       "      <td>300</td>\n",
       "      <td>4-5 minutes</td>\n",
       "      <td>2 orange orbs seen in the night sky.</td>\n",
       "      <td>2013-09-09</td>\n",
       "      <td>33.6058333</td>\n",
       "      <td>-78.973333</td>\n",
       "    </tr>\n",
       "  </tbody>\n",
       "</table>\n",
       "</div>"
      ],
      "text/plain": [
       "             datetime            city state country     shape  \\\n",
       "79247  9/4/2013 05:55        bradshaw    ne      us   diamond   \n",
       "79473  9/5/2013 22:20          boston    ny      us      oval   \n",
       "79475  9/5/2013 23:00         belgium   NaN     NaN    circle   \n",
       "79476  9/5/2013 23:00     springfield    ma      us  changing   \n",
       "79477  9/5/2013 23:30  surfside beach    sc      us      disk   \n",
       "\n",
       "      duration (seconds) duration (hours/min)  \\\n",
       "79247                 10           10 seconds   \n",
       "79473                  2            2 seconds   \n",
       "79475                  6            6 seconds   \n",
       "79476                300            5 minutes   \n",
       "79477                300          4-5 minutes   \n",
       "\n",
       "                                                comments date posted  \\\n",
       "79247  Low flying&#44 very large diamond shaped flash...  2013-09-09   \n",
       "79473          Bright light traveled quickly across sky.  2013-09-09   \n",
       "79475  Huge bright light in belgium moving over city ...  2013-09-09   \n",
       "79476  It wasn&#39t a plane&#44 planes don&#39t hover...  2013-09-09   \n",
       "79477               2 orange orbs seen in the night sky.  2013-09-09   \n",
       "\n",
       "         latitude  longitude   \n",
       "79247  40.8838889  -97.746667  \n",
       "79473  42.6288889  -78.737778  \n",
       "79475   50.503887    4.469936  \n",
       "79476  42.1013889  -72.590278  \n",
       "79477  33.6058333  -78.973333  "
      ]
     },
     "execution_count": 11,
     "metadata": {},
     "output_type": "execute_result"
    }
   ],
   "source": [
    "ufo_data_sorted.head()"
   ]
  },
  {
   "cell_type": "code",
   "execution_count": 12,
   "metadata": {},
   "outputs": [
    {
     "name": "stdout",
     "output_type": "stream",
     "text": [
      "Collecting geopandas\n",
      "  Downloading geopandas-0.8.1-py2.py3-none-any.whl (962 kB)\n",
      "Collecting fionaNote: you may need to restart the kernel to use updated packages.\n"
     ]
    },
    {
     "name": "stderr",
     "output_type": "stream",
     "text": [
      "    ERROR: Command errored out with exit status 1:\n",
      "     command: 'C:\\Users\\Aashna\\anaconda3\\python.exe' -c 'import sys, setuptools, tokenize; sys.argv[0] = '\"'\"'C:\\\\Users\\\\Aashna\\\\AppData\\\\Local\\\\Temp\\\\pip-install-rx0f3poq\\\\fiona\\\\setup.py'\"'\"'; __file__='\"'\"'C:\\\\Users\\\\Aashna\\\\AppData\\\\Local\\\\Temp\\\\pip-install-rx0f3poq\\\\fiona\\\\setup.py'\"'\"';f=getattr(tokenize, '\"'\"'open'\"'\"', open)(__file__);code=f.read().replace('\"'\"'\\r\\n'\"'\"', '\"'\"'\\n'\"'\"');f.close();exec(compile(code, __file__, '\"'\"'exec'\"'\"'))' egg_info --egg-base 'C:\\Users\\Aashna\\AppData\\Local\\Temp\\pip-pip-egg-info-0t948jxq'\n",
      "         cwd: C:\\Users\\Aashna\\AppData\\Local\\Temp\\pip-install-rx0f3poq\\fiona\\\n",
      "    Complete output (1 lines):\n",
      "    A GDAL API version must be specified. Provide a path to gdal-config using a GDAL_CONFIG environment variable or use a GDAL_VERSION environment variable.\n",
      "    ----------------------------------------\n",
      "ERROR: Command errored out with exit status 1: python setup.py egg_info Check the logs for full command output.\n"
     ]
    },
    {
     "name": "stdout",
     "output_type": "stream",
     "text": [
      "\n",
      "  Downloading Fiona-1.8.17.tar.gz (1.3 MB)\n"
     ]
    }
   ],
   "source": [
    "pip install geopandas"
   ]
  },
  {
   "cell_type": "code",
   "execution_count": null,
   "metadata": {},
   "outputs": [],
   "source": []
  },
  {
   "cell_type": "code",
   "execution_count": null,
   "metadata": {},
   "outputs": [],
   "source": []
  },
  {
   "cell_type": "code",
   "execution_count": null,
   "metadata": {},
   "outputs": [],
   "source": []
  },
  {
   "cell_type": "code",
   "execution_count": null,
   "metadata": {},
   "outputs": [],
   "source": []
  },
  {
   "cell_type": "code",
   "execution_count": null,
   "metadata": {},
   "outputs": [],
   "source": []
  },
  {
   "cell_type": "code",
   "execution_count": null,
   "metadata": {},
   "outputs": [],
   "source": []
  }
 ],
 "metadata": {
  "kernelspec": {
   "display_name": "Python 3",
   "language": "python",
   "name": "python3"
  },
  "language_info": {
   "codemirror_mode": {
    "name": "ipython",
    "version": 3
   },
   "file_extension": ".py",
   "mimetype": "text/x-python",
   "name": "python",
   "nbconvert_exporter": "python",
   "pygments_lexer": "ipython3",
   "version": "3.8.3"
  }
 },
 "nbformat": 4,
 "nbformat_minor": 4
}
