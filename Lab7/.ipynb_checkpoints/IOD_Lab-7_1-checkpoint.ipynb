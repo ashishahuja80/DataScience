{
 "cells": [
  {
   "cell_type": "markdown",
   "metadata": {
    "colab_type": "text",
    "id": "6glBmK_4f5pA"
   },
   "source": [
    "<div>\n",
    "<img src=https://www.institutedata.com/wp-content/uploads/2019/10/iod_h_tp_primary_c.svg width=\"300\">\n",
    "</div>"
   ]
  },
  {
   "cell_type": "markdown",
   "metadata": {
    "colab_type": "text",
    "id": "TGXEv1Gnf5pC"
   },
   "source": [
    "# Lab 7.1: Decision Trees\n",
    "\n",
    "INSTRUCTIONS:\n",
    "\n",
    "- Read the guides and hints then create the necessary analysis and code to find and answer and conclusion for the scenario below.\n",
    "- The baseline results (minimum) are:\n",
    "    - **Accuracy** = 0.6895\n",
    "    - **ROC AUC**  = 0.5690\n",
    "- Try to achieve better results!"
   ]
  },
  {
   "cell_type": "markdown",
   "metadata": {
    "colab_type": "text",
    "id": "ZKdH4vaYf5pF"
   },
   "source": [
    "# Foreword\n",
    "It is common that companies and professionals start with the data immediately available. Although this approach works, ideally the first stp is to idenfy the problem or question and only then identify and obtain the set of data that can help to solve or answer the problem.\n",
    "\n",
    "Also, given the current abundance of data, processing power and some particular machine learning methods, there could be a temptation to use ALL the data available. **Quality** is _**better**_ then **Quantity**!\n",
    "\n",
    "Part of calling this discipline **Data Science** is that it is supposed to follow a process and not reach conclusions without support from evidence.\n",
    "\n",
    "Moreover, it is a creative, exploratory, labour and iteractive processes. It is part of the process to repeat, review and change when finding a dead-end."
   ]
  },
  {
   "cell_type": "markdown",
   "metadata": {
    "colab_type": "text",
    "id": "ZXn260h1f5pG"
   },
   "source": [
    "## Scenario: Predicting Heart Disease\n",
    "Heart disease is one of the main causes of death worldwide, so this is a good start to use data science for good.\n",
    "\n",
    "To learn how to prevent heart disease is necessary to know how to reliably detect it first.\n",
    "\n",
    "There is a dataset from a study of heart disease that has been open to the public for many years. The study collects various measurements on patient health and cardiovascular statistics, and of course makes patient identities anonymous.\n",
    "\n",
    "Data is courtesy of **Yeh, I-Cheng** via the **UCI Machine Learning** repository:\n",
    "- Yeh, I-Cheng, Yang, King-Jang, and Ting, Tao-Ming, \"Knowledge discovery on RFM model using Bernoulli sequence, \"Expert Systems with Applications, 2008, doi:10.1016/j.eswa.2008.07.018."
   ]
  },
  {
   "cell_type": "markdown",
   "metadata": {
    "colab_type": "text",
    "id": "Qgo2pD4Qf5pI"
   },
   "source": [
    "# Step 1: Define the problem or question\n",
    "Identify the subject matter and the given or obvious questions that would be relevant in the field.\n",
    "\n",
    "## Potential Questions\n",
    "List the given or obvious questions.\n",
    "\n",
    "## Actual Question\n",
    "Choose the **one** question that should be answered."
   ]
  },
  {
   "cell_type": "markdown",
   "metadata": {
    "colab_type": "text",
    "id": "XcywG7Fpf5pK"
   },
   "source": [
    "# Step 2: Find the Data\n",
    "### Blood Transfusion Service Center DataSet\n",
    "- **Abstract**: Data taken from the **Blood Transfusion Service Center** in Hsin-Chu City in Taiwan.\n",
    "- Date Donated: 2008-10-03\n",
    "- Source:\n",
    "        Original Owner and Donor: Prof. I-Cheng Yeh \n",
    "        Department of Information Management \n",
    "        Chung-Hua University, \n",
    "        Hsin Chu, Taiwan 30067, R.O.C. \n",
    "\n",
    "- Citation Request:\n",
    "    **NOTE**: Reuse of this database is unlimited with retention of copyright notice for Prof. I-Cheng Yeh and the following published paper: \n",
    "\n",
    "        Yeh, I-Cheng, Yang, King-Jang, and Ting, Tao-Ming, \"Knowledge discovery on RFM model using Bernoulli sequence, \"Expert Systems with Applications, 2008\n",
    "        \n",
    "### UCI - Machine Learning Repository\n",
    "- Center for Machine Learning and Intelligent Systems\n",
    "\n",
    "The [**UCI Machine Learning Repository**](http://archive.ics.uci.edu/ml/about.html) is a collection of databases, domain theories, and data generators that are used by the machine learning community for the empirical analysis of machine learning algorithms."
   ]
  },
  {
   "cell_type": "code",
   "execution_count": 11,
   "metadata": {},
   "outputs": [],
   "source": [
    "import pandas as pd\n",
    "import numpy as np\n",
    "import seaborn as sns"
   ]
  },
  {
   "cell_type": "markdown",
   "metadata": {
    "colab_type": "text",
    "id": "IwGlVhahf5pL"
   },
   "source": [
    "# Step 3: Read the Data\n",
    "- Read the data\n",
    "- Perform some basic structural cleaning to facilitate the work"
   ]
  },
  {
   "cell_type": "code",
   "execution_count": 5,
   "metadata": {},
   "outputs": [],
   "source": [
    "data = pd.read_csv('transfusion.data')"
   ]
  },
  {
   "cell_type": "code",
   "execution_count": 6,
   "metadata": {},
   "outputs": [
    {
     "data": {
      "text/html": [
       "<div>\n",
       "<style scoped>\n",
       "    .dataframe tbody tr th:only-of-type {\n",
       "        vertical-align: middle;\n",
       "    }\n",
       "\n",
       "    .dataframe tbody tr th {\n",
       "        vertical-align: top;\n",
       "    }\n",
       "\n",
       "    .dataframe thead th {\n",
       "        text-align: right;\n",
       "    }\n",
       "</style>\n",
       "<table border=\"1\" class=\"dataframe\">\n",
       "  <thead>\n",
       "    <tr style=\"text-align: right;\">\n",
       "      <th></th>\n",
       "      <th>Recency (months)</th>\n",
       "      <th>Frequency (times)</th>\n",
       "      <th>Monetary (c.c. blood)</th>\n",
       "      <th>Time (months)</th>\n",
       "      <th>whether he/she donated blood in March 2007</th>\n",
       "    </tr>\n",
       "  </thead>\n",
       "  <tbody>\n",
       "    <tr>\n",
       "      <th>0</th>\n",
       "      <td>2</td>\n",
       "      <td>50</td>\n",
       "      <td>12500</td>\n",
       "      <td>98</td>\n",
       "      <td>1</td>\n",
       "    </tr>\n",
       "    <tr>\n",
       "      <th>1</th>\n",
       "      <td>0</td>\n",
       "      <td>13</td>\n",
       "      <td>3250</td>\n",
       "      <td>28</td>\n",
       "      <td>1</td>\n",
       "    </tr>\n",
       "    <tr>\n",
       "      <th>2</th>\n",
       "      <td>1</td>\n",
       "      <td>16</td>\n",
       "      <td>4000</td>\n",
       "      <td>35</td>\n",
       "      <td>1</td>\n",
       "    </tr>\n",
       "    <tr>\n",
       "      <th>3</th>\n",
       "      <td>2</td>\n",
       "      <td>20</td>\n",
       "      <td>5000</td>\n",
       "      <td>45</td>\n",
       "      <td>1</td>\n",
       "    </tr>\n",
       "    <tr>\n",
       "      <th>4</th>\n",
       "      <td>1</td>\n",
       "      <td>24</td>\n",
       "      <td>6000</td>\n",
       "      <td>77</td>\n",
       "      <td>0</td>\n",
       "    </tr>\n",
       "  </tbody>\n",
       "</table>\n",
       "</div>"
      ],
      "text/plain": [
       "   Recency (months)  Frequency (times)  Monetary (c.c. blood)  Time (months)  \\\n",
       "0                 2                 50                  12500             98   \n",
       "1                 0                 13                   3250             28   \n",
       "2                 1                 16                   4000             35   \n",
       "3                 2                 20                   5000             45   \n",
       "4                 1                 24                   6000             77   \n",
       "\n",
       "   whether he/she donated blood in March 2007  \n",
       "0                                           1  \n",
       "1                                           1  \n",
       "2                                           1  \n",
       "3                                           1  \n",
       "4                                           0  "
      ]
     },
     "execution_count": 6,
     "metadata": {},
     "output_type": "execute_result"
    }
   ],
   "source": [
    "data.head()"
   ]
  },
  {
   "cell_type": "code",
   "execution_count": 7,
   "metadata": {},
   "outputs": [
    {
     "data": {
      "text/html": [
       "<div>\n",
       "<style scoped>\n",
       "    .dataframe tbody tr th:only-of-type {\n",
       "        vertical-align: middle;\n",
       "    }\n",
       "\n",
       "    .dataframe tbody tr th {\n",
       "        vertical-align: top;\n",
       "    }\n",
       "\n",
       "    .dataframe thead th {\n",
       "        text-align: right;\n",
       "    }\n",
       "</style>\n",
       "<table border=\"1\" class=\"dataframe\">\n",
       "  <thead>\n",
       "    <tr style=\"text-align: right;\">\n",
       "      <th></th>\n",
       "      <th>Recency (months)</th>\n",
       "      <th>Frequency (times)</th>\n",
       "      <th>Monetary (c.c. blood)</th>\n",
       "      <th>Time (months)</th>\n",
       "      <th>whether he/she donated blood in March 2007</th>\n",
       "    </tr>\n",
       "  </thead>\n",
       "  <tbody>\n",
       "    <tr>\n",
       "      <th>count</th>\n",
       "      <td>748.000000</td>\n",
       "      <td>748.000000</td>\n",
       "      <td>748.000000</td>\n",
       "      <td>748.000000</td>\n",
       "      <td>748.000000</td>\n",
       "    </tr>\n",
       "    <tr>\n",
       "      <th>mean</th>\n",
       "      <td>9.506684</td>\n",
       "      <td>5.514706</td>\n",
       "      <td>1378.676471</td>\n",
       "      <td>34.282086</td>\n",
       "      <td>0.237968</td>\n",
       "    </tr>\n",
       "    <tr>\n",
       "      <th>std</th>\n",
       "      <td>8.095396</td>\n",
       "      <td>5.839307</td>\n",
       "      <td>1459.826781</td>\n",
       "      <td>24.376714</td>\n",
       "      <td>0.426124</td>\n",
       "    </tr>\n",
       "    <tr>\n",
       "      <th>min</th>\n",
       "      <td>0.000000</td>\n",
       "      <td>1.000000</td>\n",
       "      <td>250.000000</td>\n",
       "      <td>2.000000</td>\n",
       "      <td>0.000000</td>\n",
       "    </tr>\n",
       "    <tr>\n",
       "      <th>25%</th>\n",
       "      <td>2.750000</td>\n",
       "      <td>2.000000</td>\n",
       "      <td>500.000000</td>\n",
       "      <td>16.000000</td>\n",
       "      <td>0.000000</td>\n",
       "    </tr>\n",
       "    <tr>\n",
       "      <th>50%</th>\n",
       "      <td>7.000000</td>\n",
       "      <td>4.000000</td>\n",
       "      <td>1000.000000</td>\n",
       "      <td>28.000000</td>\n",
       "      <td>0.000000</td>\n",
       "    </tr>\n",
       "    <tr>\n",
       "      <th>75%</th>\n",
       "      <td>14.000000</td>\n",
       "      <td>7.000000</td>\n",
       "      <td>1750.000000</td>\n",
       "      <td>50.000000</td>\n",
       "      <td>0.000000</td>\n",
       "    </tr>\n",
       "    <tr>\n",
       "      <th>max</th>\n",
       "      <td>74.000000</td>\n",
       "      <td>50.000000</td>\n",
       "      <td>12500.000000</td>\n",
       "      <td>98.000000</td>\n",
       "      <td>1.000000</td>\n",
       "    </tr>\n",
       "  </tbody>\n",
       "</table>\n",
       "</div>"
      ],
      "text/plain": [
       "       Recency (months)  Frequency (times)  Monetary (c.c. blood)  \\\n",
       "count        748.000000         748.000000             748.000000   \n",
       "mean           9.506684           5.514706            1378.676471   \n",
       "std            8.095396           5.839307            1459.826781   \n",
       "min            0.000000           1.000000             250.000000   \n",
       "25%            2.750000           2.000000             500.000000   \n",
       "50%            7.000000           4.000000            1000.000000   \n",
       "75%           14.000000           7.000000            1750.000000   \n",
       "max           74.000000          50.000000           12500.000000   \n",
       "\n",
       "       Time (months)  whether he/she donated blood in March 2007  \n",
       "count     748.000000                                  748.000000  \n",
       "mean       34.282086                                    0.237968  \n",
       "std        24.376714                                    0.426124  \n",
       "min         2.000000                                    0.000000  \n",
       "25%        16.000000                                    0.000000  \n",
       "50%        28.000000                                    0.000000  \n",
       "75%        50.000000                                    0.000000  \n",
       "max        98.000000                                    1.000000  "
      ]
     },
     "execution_count": 7,
     "metadata": {},
     "output_type": "execute_result"
    }
   ],
   "source": [
    "data.describe()"
   ]
  },
  {
   "cell_type": "markdown",
   "metadata": {
    "colab_type": "text",
    "id": "_IwMz47Vf5pN"
   },
   "source": [
    "# Step 4: Explore and Clean the Data\n",
    "- Perform some initial simple **EDA** (Exploratory Data Analysis)\n",
    "- Check for\n",
    "    - **Number of features**\n",
    "    - **Data types**\n",
    "    - **Domains, Intervals**\n",
    "    - **Outliers** (are they valid or expurious data [read or measure errors])\n",
    "    - **Null** (values not present or coded [as zero of empty strings])\n",
    "    - **Missing Values** (coded [as zero of empty strings] or values not present)\n",
    "    - **Coded content** (classes identified by numbers or codes to represent absence of data)"
   ]
  },
  {
   "cell_type": "code",
   "execution_count": 8,
   "metadata": {},
   "outputs": [
    {
     "data": {
      "text/plain": [
       "(748, 5)"
      ]
     },
     "execution_count": 8,
     "metadata": {},
     "output_type": "execute_result"
    }
   ],
   "source": [
    "data.shape"
   ]
  },
  {
   "cell_type": "code",
   "execution_count": 9,
   "metadata": {},
   "outputs": [
    {
     "data": {
      "text/plain": [
       "Recency (months)                              int64\n",
       "Frequency (times)                             int64\n",
       "Monetary (c.c. blood)                         int64\n",
       "Time (months)                                 int64\n",
       "whether he/she donated blood in March 2007    int64\n",
       "dtype: object"
      ]
     },
     "execution_count": 9,
     "metadata": {},
     "output_type": "execute_result"
    }
   ],
   "source": [
    "data.dtypes"
   ]
  },
  {
   "cell_type": "code",
   "execution_count": 10,
   "metadata": {},
   "outputs": [
    {
     "data": {
      "text/plain": [
       "Recency (months)                              0\n",
       "Frequency (times)                             0\n",
       "Monetary (c.c. blood)                         0\n",
       "Time (months)                                 0\n",
       "whether he/she donated blood in March 2007    0\n",
       "dtype: int64"
      ]
     },
     "execution_count": 10,
     "metadata": {},
     "output_type": "execute_result"
    }
   ],
   "source": [
    "data.isnull().sum()"
   ]
  },
  {
   "cell_type": "code",
   "execution_count": 15,
   "metadata": {},
   "outputs": [
    {
     "data": {
      "text/plain": [
       "<matplotlib.axes._subplots.AxesSubplot at 0x20bf6bf6580>"
      ]
     },
     "execution_count": 15,
     "metadata": {},
     "output_type": "execute_result"
    },
    {
     "data": {
      "image/png": "[encoded data removed]",
      "text/plain": [
       "<Figure size 432x288 with 1 Axes>"
      ]
     },
     "metadata": {
      "needs_background": "light"
     },
     "output_type": "display_data"
    }
   ],
   "source": [
    "sns.boxplot(x = 'Frequency (times)',data=data)"
   ]
  },
  {
   "cell_type": "code",
   "execution_count": null,
   "metadata": {},
   "outputs": [],
   "source": [
    "sns.boxplot(x = 'Recency (months)',data=data)"
   ]
  },
  {
   "cell_type": "code",
   "execution_count": null,
   "metadata": {},
   "outputs": [],
   "source": []
  },
  {
   "cell_type": "markdown",
   "metadata": {
    "colab_type": "text",
    "id": "kTRdzVqdf5pO"
   },
   "source": [
    "# Step 5: Prepare the Data\n",
    "- Deal with the data as required by the modelling technique\n",
    "    - **Outliers** (remove or adjust if possible or necessary)\n",
    "    - **Null** (remove or interpolate if possible or necessary)\n",
    "    - **Missing Values** (remove or interpolate if possible or necessary)\n",
    "    - **Coded content** (transform if possible or necessary [str to number or vice-versa])\n",
    "    - **Normalisation** (if possible or necessary)\n",
    "    - **Feature Engeneer** (if useful or necessary)"
   ]
  },
  {
   "cell_type": "markdown",
   "metadata": {
    "colab_type": "text",
    "id": "CLb2lL-4f5pQ"
   },
   "source": [
    "# Step 6: Modelling\n",
    "Refer to the Problem and Main Question.\n",
    "- What are the input variables (features)?\n",
    "- Is there an output variable (label)?\n",
    "- If there is an output variable:\n",
    "    - What is it?\n",
    "    - What is its type?\n",
    "- What type of Modelling is it?\n",
    "    - [ ] Supervised\n",
    "    - [ ] Unsupervised \n",
    "- What type of Modelling is it?\n",
    "    - [ ] Regression\n",
    "    - [ ] Classification (binary) \n",
    "    - [ ] Classification (multi-class)\n",
    "    - [ ] Clustering"
   ]
  },
  {
   "cell_type": "code",
   "execution_count": 16,
   "metadata": {},
   "outputs": [
    {
     "data": {
      "text/plain": [
       "Index(['Recency (months)', 'Frequency (times)', 'Monetary (c.c. blood)',\n",
       "       'Time (months)', 'whether he/she donated blood in March 2007'],\n",
       "      dtype='object')"
      ]
     },
     "execution_count": 16,
     "metadata": {},
     "output_type": "execute_result"
    }
   ],
   "source": [
    "data.columns"
   ]
  },
  {
   "cell_type": "code",
   "execution_count": 17,
   "metadata": {},
   "outputs": [],
   "source": [
    "input_features =['Recency (months)', 'Frequency (times)', 'Monetary (c.c. blood)',\n",
    "       'Time (months)']\n",
    "output = ['whether he/she donated blood in March 2007']"
   ]
  },
  {
   "cell_type": "code",
   "execution_count": 18,
   "metadata": {},
   "outputs": [],
   "source": [
    "X= data[input_features]"
   ]
  },
  {
   "cell_type": "code",
   "execution_count": 19,
   "metadata": {},
   "outputs": [
    {
     "data": {
      "text/html": [
       "<div>\n",
       "<style scoped>\n",
       "    .dataframe tbody tr th:only-of-type {\n",
       "        vertical-align: middle;\n",
       "    }\n",
       "\n",
       "    .dataframe tbody tr th {\n",
       "        vertical-align: top;\n",
       "    }\n",
       "\n",
       "    .dataframe thead th {\n",
       "        text-align: right;\n",
       "    }\n",
       "</style>\n",
       "<table border=\"1\" class=\"dataframe\">\n",
       "  <thead>\n",
       "    <tr style=\"text-align: right;\">\n",
       "      <th></th>\n",
       "      <th>Recency (months)</th>\n",
       "      <th>Frequency (times)</th>\n",
       "      <th>Monetary (c.c. blood)</th>\n",
       "      <th>Time (months)</th>\n",
       "    </tr>\n",
       "  </thead>\n",
       "  <tbody>\n",
       "    <tr>\n",
       "      <th>0</th>\n",
       "      <td>2</td>\n",
       "      <td>50</td>\n",
       "      <td>12500</td>\n",
       "      <td>98</td>\n",
       "    </tr>\n",
       "    <tr>\n",
       "      <th>1</th>\n",
       "      <td>0</td>\n",
       "      <td>13</td>\n",
       "      <td>3250</td>\n",
       "      <td>28</td>\n",
       "    </tr>\n",
       "    <tr>\n",
       "      <th>2</th>\n",
       "      <td>1</td>\n",
       "      <td>16</td>\n",
       "      <td>4000</td>\n",
       "      <td>35</td>\n",
       "    </tr>\n",
       "    <tr>\n",
       "      <th>3</th>\n",
       "      <td>2</td>\n",
       "      <td>20</td>\n",
       "      <td>5000</td>\n",
       "      <td>45</td>\n",
       "    </tr>\n",
       "    <tr>\n",
       "      <th>4</th>\n",
       "      <td>1</td>\n",
       "      <td>24</td>\n",
       "      <td>6000</td>\n",
       "      <td>77</td>\n",
       "    </tr>\n",
       "  </tbody>\n",
       "</table>\n",
       "</div>"
      ],
      "text/plain": [
       "   Recency (months)  Frequency (times)  Monetary (c.c. blood)  Time (months)\n",
       "0                 2                 50                  12500             98\n",
       "1                 0                 13                   3250             28\n",
       "2                 1                 16                   4000             35\n",
       "3                 2                 20                   5000             45\n",
       "4                 1                 24                   6000             77"
      ]
     },
     "execution_count": 19,
     "metadata": {},
     "output_type": "execute_result"
    }
   ],
   "source": [
    "X.head()"
   ]
  },
  {
   "cell_type": "code",
   "execution_count": 20,
   "metadata": {},
   "outputs": [],
   "source": [
    "y = data[output]"
   ]
  },
  {
   "cell_type": "code",
   "execution_count": 21,
   "metadata": {},
   "outputs": [
    {
     "data": {
      "text/html": [
       "<div>\n",
       "<style scoped>\n",
       "    .dataframe tbody tr th:only-of-type {\n",
       "        vertical-align: middle;\n",
       "    }\n",
       "\n",
       "    .dataframe tbody tr th {\n",
       "        vertical-align: top;\n",
       "    }\n",
       "\n",
       "    .dataframe thead th {\n",
       "        text-align: right;\n",
       "    }\n",
       "</style>\n",
       "<table border=\"1\" class=\"dataframe\">\n",
       "  <thead>\n",
       "    <tr style=\"text-align: right;\">\n",
       "      <th></th>\n",
       "      <th>whether he/she donated blood in March 2007</th>\n",
       "    </tr>\n",
       "  </thead>\n",
       "  <tbody>\n",
       "    <tr>\n",
       "      <th>0</th>\n",
       "      <td>1</td>\n",
       "    </tr>\n",
       "    <tr>\n",
       "      <th>1</th>\n",
       "      <td>1</td>\n",
       "    </tr>\n",
       "    <tr>\n",
       "      <th>2</th>\n",
       "      <td>1</td>\n",
       "    </tr>\n",
       "    <tr>\n",
       "      <th>3</th>\n",
       "      <td>1</td>\n",
       "    </tr>\n",
       "    <tr>\n",
       "      <th>4</th>\n",
       "      <td>0</td>\n",
       "    </tr>\n",
       "  </tbody>\n",
       "</table>\n",
       "</div>"
      ],
      "text/plain": [
       "   whether he/she donated blood in March 2007\n",
       "0                                           1\n",
       "1                                           1\n",
       "2                                           1\n",
       "3                                           1\n",
       "4                                           0"
      ]
     },
     "execution_count": 21,
     "metadata": {},
     "output_type": "execute_result"
    }
   ],
   "source": [
    "y.head()"
   ]
  },
  {
   "cell_type": "markdown",
   "metadata": {
    "colab_type": "text",
    "id": "Ds7KV52Lf5pR"
   },
   "source": [
    "# Step 7: Split the Data\n",
    "\n",
    "Need to check for **Supervised** modelling:\n",
    "- Number of known cases or observations\n",
    "- Define the split in Training/Test or Training/Validation/Test and their proportions\n",
    "- Check for unbalanced classes and how to keep or avoid it when spliting"
   ]
  },
  {
   "cell_type": "code",
   "execution_count": 23,
   "metadata": {},
   "outputs": [
    {
     "data": {
      "text/plain": [
       "0    570\n",
       "1    178\n",
       "Name: whether he/she donated blood in March 2007, dtype: int64"
      ]
     },
     "execution_count": 23,
     "metadata": {},
     "output_type": "execute_result"
    }
   ],
   "source": [
    "y['whether he/she donated blood in March 2007'].value_counts()"
   ]
  },
  {
   "cell_type": "code",
   "execution_count": 25,
   "metadata": {},
   "outputs": [
    {
     "name": "stdout",
     "output_type": "stream",
     "text": [
      "Dataset is slightly imbalanced\n"
     ]
    }
   ],
   "source": [
    "print('Dataset is slightly imbalanced')"
   ]
  },
  {
   "cell_type": "code",
   "execution_count": 24,
   "metadata": {},
   "outputs": [],
   "source": [
    "from sklearn.tree import DecisionTreeClassifier\n",
    "#from sklearn.svm import SVC\n",
    "#from sklearn.neighbors import KNeighborsClassifier\n",
    "#from sklearn.linear_model import LogisticRegression\n",
    "from sklearn.model_selection import train_test_split\n",
    "\n",
    "from sklearn.metrics import confusion_matrix\n",
    "from sklearn.metrics import accuracy_score\n",
    "from sklearn.metrics import precision_score\n",
    "from sklearn.metrics import recall_score\n",
    "from sklearn.metrics import roc_auc_score\n",
    "from sklearn.metrics import precision_recall_curve\n",
    "from sklearn.metrics import roc_curve\n",
    "from sklearn.metrics import auc\n"
   ]
  },
  {
   "cell_type": "code",
   "execution_count": 26,
   "metadata": {},
   "outputs": [],
   "source": [
    "# test train split using stratify = True\n",
    "X_train, X_test, y_train, y_test = train_test_split(X, y,test_size=0.2,random_state=123,stratify=y)"
   ]
  },
  {
   "cell_type": "code",
   "execution_count": null,
   "metadata": {},
   "outputs": [],
   "source": []
  },
  {
   "cell_type": "markdown",
   "metadata": {
    "colab_type": "text",
    "id": "aQxzsLj1f5pS"
   },
   "source": [
    "# Step 8: Define a Model\n",
    "\n",
    "Define the model and its hyper-parameters.\n",
    "\n",
    "Consider the parameters and hyper-parameters of each model at each (re)run and after checking the efficiency of a model against the training and test datasets."
   ]
  },
  {
   "cell_type": "code",
   "execution_count": 27,
   "metadata": {},
   "outputs": [],
   "source": [
    "classifier = DecisionTreeClassifier()"
   ]
  },
  {
   "cell_type": "markdown",
   "metadata": {
    "colab_type": "text",
    "id": "8IfjVd4uf5pT"
   },
   "source": [
    "# Step 9: Fit the Model"
   ]
  },
  {
   "cell_type": "code",
   "execution_count": 28,
   "metadata": {},
   "outputs": [],
   "source": [
    "classifier.fit(X_train, y_train)\n",
    "#Predict Score for training data\n"
   ]
  },
  {
   "cell_type": "code",
   "execution_count": 32,
   "metadata": {},
   "outputs": [],
   "source": [
    "import matplotlib.pyplot as plt"
   ]
  },
  {
   "cell_type": "markdown",
   "metadata": {
    "colab_type": "text",
    "id": "trc47eNDf5pV"
   },
   "source": [
    "# Step 10: Verify and Evaluate the Training Model\n",
    "- Use the **training** data to make predictions\n",
    "- Check for overfitting\n",
    "- What metrics are appropriate for the modelling approach used\n",
    "- For **Supervised** models:\n",
    "    - Check the **Training Results** with the **Training Predictions** during development\n",
    "- Analyse, modify the parameters and hyper-parameters and repeat (within reason) until the model does not improve"
   ]
  },
  {
   "cell_type": "code",
   "execution_count": 29,
   "metadata": {},
   "outputs": [],
   "source": [
    "y_train_pred = classifier.predict(X_train)\n",
    "#Get probability of prediction = 1 for training data\n",
    "y_train_proba = classifier.predict_proba(X_train)[:, 1]\n"
   ]
  },
  {
   "cell_type": "code",
   "execution_count": 33,
   "metadata": {},
   "outputs": [
    {
     "name": "stdout",
     "output_type": "stream",
     "text": [
      "    Accuracy score  :  0.939799331103679\n",
      "    Precision score :  0.9818181818181818\n",
      "    Recall score    :  0.7605633802816901\n",
      "    ROC AUC         :  0.983629849271065\n"
     ]
    },
    {
     "data": {
      "image/png": "[encoded data removed]",
      "text/plain": [
       "<Figure size 1296x432 with 2 Axes>"
      ]
     },
     "metadata": {
      "needs_background": "light"
     },
     "output_type": "display_data"
    }
   ],
   "source": [
    "summary_report(y_train,y_train_pred, y_train_proba)"
   ]
  },
  {
   "cell_type": "markdown",
   "metadata": {
    "colab_type": "text",
    "id": "TpVdZQdkf5pW"
   },
   "source": [
    "# Step 11: Make Predictions and Evaluate the Test Model\n",
    "**NOTE**: **Do this only after not making any more improvements in the model**.\n",
    "\n",
    "- Use the **test** data to make predictions\n",
    "- For **Supervised** models:\n",
    "    - Check the **Test Results** with the **Test Predictions**"
   ]
  },
  {
   "cell_type": "code",
   "execution_count": 30,
   "metadata": {},
   "outputs": [],
   "source": [
    "def summary_report(actual,prediction, probabilities):\n",
    "    print('    Accuracy score  : ',accuracy_score(actual,prediction))\n",
    "    print('    Precision score : ',precision_score(actual,prediction))\n",
    "    print('    Recall score    : ',recall_score(actual,prediction))\n",
    "    print('    ROC AUC         : ',roc_auc_score(actual,probabilities))\n",
    "    \n",
    "    mat = confusion_matrix(actual,prediction)\n",
    "    fpr, tpr, _ = roc_curve(actual, probabilities)\n",
    "    roc_auc = auc(fpr, tpr)\n",
    "    \n",
    "    # plot\n",
    "    fig, ax = plt.subplots(1, 2, figsize=(18, 6))\n",
    "    fig.subplots_adjust(left=0.02, right=0.98, wspace=0.2)\n",
    "\n",
    "    # Confusion Matrix\n",
    "    sns.heatmap(mat.T, square=True, annot=True, fmt='d',\n",
    "                cbar=False, cmap='Blues', ax=ax[0])\n",
    "\n",
    "    ax[0].set_title('Confusion Matrix')\n",
    "    ax[0].set_xlabel('True label')\n",
    "    ax[0].set_ylabel('Predicted label')\n",
    "\n",
    "\n",
    "    # ROC\n",
    "    ax[1].plot(fpr, tpr, color='darkorange', lw=2,\n",
    "               label='ROC curve (AUC = %0.2f)' % roc_auc)\n",
    "    ax[1].plot([0, 1], [0, 1], color='navy', lw=2, linestyle='--')\n",
    "    ax[1].set_xlim([0.0, 1.0])\n",
    "    ax[1].set_ylim([0.0, 1.0])\n",
    "    ax[1].set_xlabel('False Positive Rate')\n",
    "    ax[1].set_ylabel('True Positive Rate')\n",
    "    ax[1].set_title('Receiver Operating Characteristic')\n",
    "    ax[1].legend(loc='lower right')\n",
    "\n",
    "    plt.show()"
   ]
  },
  {
   "cell_type": "code",
   "execution_count": 34,
   "metadata": {},
   "outputs": [],
   "source": [
    "y_test_pred = classifier.predict(X_test)\n",
    "\n",
    "y_test_proba = classifier.predict_proba(X_test)[:, 1]"
   ]
  },
  {
   "cell_type": "code",
   "execution_count": 35,
   "metadata": {},
   "outputs": [
    {
     "name": "stdout",
     "output_type": "stream",
     "text": [
      "    Accuracy score  :  0.7266666666666667\n",
      "    Precision score :  0.42424242424242425\n",
      "    Recall score    :  0.3888888888888889\n",
      "    ROC AUC         :  0.6513157894736843\n"
     ]
    },
    {
     "data": {
      "image/png": "[encoded data removed]",
      "text/plain": [
       "<Figure size 1296x432 with 2 Axes>"
      ]
     },
     "metadata": {
      "needs_background": "light"
     },
     "output_type": "display_data"
    }
   ],
   "source": [
    "summary_report(y_test,y_test_pred, y_test_proba)"
   ]
  },
  {
   "cell_type": "markdown",
   "metadata": {
    "colab_type": "text",
    "id": "SJ5WfSLuf5pY"
   },
   "source": [
    "# Step 12: Solve the Problem or Answer the Question\n",
    "The results of an analysis or modelling can be used:\n",
    "- As part of a product or process, so the model can make predictions when new input data is available\n",
    "- As part of a report including text and charts to help understand the problem\n",
    "- As input for further questions"
   ]
  },
  {
   "cell_type": "code",
   "execution_count": 36,
   "metadata": {
    "colab": {},
    "colab_type": "code",
    "id": "E1rd-jYcpTzi"
   },
   "outputs": [
    {
     "name": "stdout",
     "output_type": "stream",
     "text": [
      "Collecting package metadata (current_repodata.json): ...working... done\n",
      "Solving environment: ...working... done\n",
      "\n",
      "## Package Plan ##\n",
      "\n",
      "  environment location: C:\\Users\\Aashna\\anaconda3\n",
      "\n",
      "  added / updated specs:\n",
      "    - python-graphviz\n",
      "\n",
      "\n",
      "The following packages will be downloaded:\n",
      "\n",
      "    package                    |            build\n",
      "    ---------------------------|-----------------\n",
      "    graphviz-2.38              |       hfd603c8_2        29.3 MB\n",
      "    python-graphviz-0.15       |     pyhd3eb1b0_0          20 KB\n",
      "    ------------------------------------------------------------\n",
      "                                           Total:        29.3 MB\n",
      "\n",
      "The following NEW packages will be INSTALLED:\n",
      "\n",
      "  graphviz           pkgs/main/win-64::graphviz-2.38-hfd603c8_2\n",
      "  python-graphviz    pkgs/main/noarch::python-graphviz-0.15-pyhd3eb1b0_0\n",
      "\n",
      "The following packages will be SUPERSEDED by a higher-priority channel:\n",
      "\n",
      "  conda              conda-forge::conda-4.9.2-py38haa244fe~ --> pkgs/main::conda-4.9.2-py38haa95532_0\n",
      "\n",
      "Note: you may need to restart the kernel to use updated packages.\n",
      "\n",
      "\n",
      "\n",
      "Downloading and Extracting Packages\n",
      "\n",
      "python-graphviz-0.15 | 20 KB     |            |   0% \n",
      "python-graphviz-0.15 | 20 KB     | #######9   |  80% \n",
      "python-graphviz-0.15 | 20 KB     | ########## | 100% \n",
      "python-graphviz-0.15 | 20 KB     | ########## | 100% \n",
      "\n",
      "graphviz-2.38        | 29.3 MB   |            |   0% \n",
      "graphviz-2.38        | 29.3 MB   |            |   0% \n",
      "graphviz-2.38        | 29.3 MB   |            |   0% \n",
      "graphviz-2.38        | 29.3 MB   |            |   1% \n",
      "graphviz-2.38        | 29.3 MB   | 1          |   1% \n",
      "graphviz-2.38        | 29.3 MB   | 2          |   2% \n",
      "graphviz-2.38        | 29.3 MB   | 3          |   3% \n",
      "graphviz-2.38        | 29.3 MB   | 4          |   4% \n",
      "graphviz-2.38        | 29.3 MB   | 5          |   5% \n",
      "graphviz-2.38        | 29.3 MB   | 5          |   6% \n",
      "graphviz-2.38        | 29.3 MB   | 6          |   7% \n",
      "graphviz-2.38        | 29.3 MB   | 8          |   8% \n",
      "graphviz-2.38        | 29.3 MB   | 9          |   9% \n",
      "graphviz-2.38        | 29.3 MB   | #          |  10% \n",
      "graphviz-2.38        | 29.3 MB   | #1         |  12% \n",
      "graphviz-2.38        | 29.3 MB   | #2         |  13% \n",
      "graphviz-2.38        | 29.3 MB   | #3         |  14% \n",
      "graphviz-2.38        | 29.3 MB   | #4         |  15% \n",
      "graphviz-2.38        | 29.3 MB   | #5         |  16% \n",
      "graphviz-2.38        | 29.3 MB   | #6         |  17% \n",
      "graphviz-2.38        | 29.3 MB   | #7         |  18% \n",
      "graphviz-2.38        | 29.3 MB   | #9         |  19% \n",
      "graphviz-2.38        | 29.3 MB   | ##         |  20% \n",
      "graphviz-2.38        | 29.3 MB   | ##1        |  21% \n",
      "graphviz-2.38        | 29.3 MB   | ##2        |  22% \n",
      "graphviz-2.38        | 29.3 MB   | ##3        |  23% \n",
      "graphviz-2.38        | 29.3 MB   | ##4        |  24% \n",
      "graphviz-2.38        | 29.3 MB   | ##5        |  25% \n",
      "graphviz-2.38        | 29.3 MB   | ##6        |  26% \n",
      "graphviz-2.38        | 29.3 MB   | ##7        |  27% \n",
      "graphviz-2.38        | 29.3 MB   | ##8        |  29% \n",
      "graphviz-2.38        | 29.3 MB   | ##9        |  30% \n",
      "graphviz-2.38        | 29.3 MB   | ###        |  31% \n",
      "graphviz-2.38        | 29.3 MB   | ###1       |  32% \n",
      "graphviz-2.38        | 29.3 MB   | ###3       |  33% \n",
      "graphviz-2.38        | 29.3 MB   | ###4       |  35% \n",
      "graphviz-2.38        | 29.3 MB   | ###5       |  36% \n",
      "graphviz-2.38        | 29.3 MB   | ###6       |  37% \n",
      "graphviz-2.38        | 29.3 MB   | ###8       |  38% \n",
      "graphviz-2.38        | 29.3 MB   | ###9       |  39% \n",
      "graphviz-2.38        | 29.3 MB   | ####       |  40% \n",
      "graphviz-2.38        | 29.3 MB   | ####1      |  41% \n",
      "graphviz-2.38        | 29.3 MB   | ####2      |  43% \n",
      "graphviz-2.38        | 29.3 MB   | ####3      |  44% \n",
      "graphviz-2.38        | 29.3 MB   | ####4      |  45% \n",
      "graphviz-2.38        | 29.3 MB   | ####6      |  46% \n",
      "graphviz-2.38        | 29.3 MB   | ####7      |  48% \n",
      "graphviz-2.38        | 29.3 MB   | ####9      |  49% \n",
      "graphviz-2.38        | 29.3 MB   | #####      |  50% \n",
      "graphviz-2.38        | 29.3 MB   | #####1     |  51% \n",
      "graphviz-2.38        | 29.3 MB   | #####2     |  53% \n",
      "graphviz-2.38        | 29.3 MB   | #####3     |  54% \n",
      "graphviz-2.38        | 29.3 MB   | #####4     |  55% \n",
      "graphviz-2.38        | 29.3 MB   | #####6     |  56% \n",
      "graphviz-2.38        | 29.3 MB   | #####7     |  58% \n",
      "graphviz-2.38        | 29.3 MB   | #####9     |  59% \n",
      "graphviz-2.38        | 29.3 MB   | ######     |  60% \n",
      "graphviz-2.38        | 29.3 MB   | ######1    |  61% \n",
      "graphviz-2.38        | 29.3 MB   | ######2    |  62% \n",
      "graphviz-2.38        | 29.3 MB   | ######3    |  63% \n",
      "graphviz-2.38        | 29.3 MB   | ######4    |  65% \n",
      "graphviz-2.38        | 29.3 MB   | ######6    |  66% \n",
      "graphviz-2.38        | 29.3 MB   | ######7    |  67% \n",
      "graphviz-2.38        | 29.3 MB   | ######8    |  69% \n",
      "graphviz-2.38        | 29.3 MB   | ######9    |  70% \n",
      "graphviz-2.38        | 29.3 MB   | #######1   |  71% \n",
      "graphviz-2.38        | 29.3 MB   | #######2   |  72% \n",
      "graphviz-2.38        | 29.3 MB   | #######3   |  73% \n",
      "graphviz-2.38        | 29.3 MB   | #######4   |  75% \n",
      "graphviz-2.38        | 29.3 MB   | #######5   |  76% \n",
      "graphviz-2.38        | 29.3 MB   | #######7   |  77% \n",
      "graphviz-2.38        | 29.3 MB   | #######8   |  78% \n",
      "graphviz-2.38        | 29.3 MB   | #######9   |  79% \n",
      "graphviz-2.38        | 29.3 MB   | ########   |  80% \n",
      "graphviz-2.38        | 29.3 MB   | ########1  |  82% \n",
      "graphviz-2.38        | 29.3 MB   | ########2  |  83% \n",
      "graphviz-2.38        | 29.3 MB   | ########4  |  84% \n",
      "graphviz-2.38        | 29.3 MB   | ########5  |  85% \n",
      "graphviz-2.38        | 29.3 MB   | ########6  |  86% \n",
      "graphviz-2.38        | 29.3 MB   | ########7  |  87% \n",
      "graphviz-2.38        | 29.3 MB   | ########8  |  88% \n",
      "graphviz-2.38        | 29.3 MB   | ########9  |  90% \n",
      "graphviz-2.38        | 29.3 MB   | #########  |  91% \n",
      "graphviz-2.38        | 29.3 MB   | #########1 |  92% \n",
      "graphviz-2.38        | 29.3 MB   | #########2 |  93% \n",
      "graphviz-2.38        | 29.3 MB   | #########3 |  94% \n",
      "graphviz-2.38        | 29.3 MB   | #########5 |  95% \n",
      "graphviz-2.38        | 29.3 MB   | #########6 |  96% \n",
      "graphviz-2.38        | 29.3 MB   | #########7 |  98% \n",
      "graphviz-2.38        | 29.3 MB   | #########8 |  99% \n",
      "graphviz-2.38        | 29.3 MB   | ########## | 100% \n",
      "Preparing transaction: ...working... done\n",
      "Verifying transaction: ...working... done\n",
      "Executing transaction: ...working... done\n"
     ]
    }
   ],
   "source": [
    "conda install python-graphviz"
   ]
  },
  {
   "cell_type": "code",
   "execution_count": 37,
   "metadata": {},
   "outputs": [],
   "source": [
    "# Import Libraries\n",
    "\n",
    "from sklearn.tree import export_graphviz\n",
    "from graphviz import Source"
   ]
  },
  {
   "cell_type": "code",
   "execution_count": 38,
   "metadata": {},
   "outputs": [],
   "source": [
    "X = data[input_features].copy()\n",
    "y = data[output].astype(str).copy()"
   ]
  },
  {
   "cell_type": "code",
   "execution_count": 52,
   "metadata": {},
   "outputs": [],
   "source": [
    "y.columns = ['label']"
   ]
  },
  {
   "cell_type": "code",
   "execution_count": 53,
   "metadata": {},
   "outputs": [
    {
     "data": {
      "text/plain": [
       "array(['1', '0'], dtype=object)"
      ]
     },
     "execution_count": 53,
     "metadata": {},
     "output_type": "execute_result"
    }
   ],
   "source": [
    "y.label.unique()"
   ]
  },
  {
   "cell_type": "code",
   "execution_count": 39,
   "metadata": {},
   "outputs": [],
   "source": [
    "\n",
    "X_train, X_test, y_train, y_test = train_test_split(X, y,test_size=.2,random_state=123,stratify=y)\n"
   ]
  },
  {
   "cell_type": "code",
   "execution_count": 54,
   "metadata": {},
   "outputs": [],
   "source": [
    "model=DecisionTreeClassifier()\n",
    "model.fit(X_train,y_train)\n",
    "#y_pred=model.predict(X_test)\n",
    "graph_data = export_graphviz(model,\n",
    "                             max_depth=4,\n",
    "                             proportion=True,\n",
    "                             feature_names=input_features,\n",
    "                             class_names=y.label.unique(),\n",
    "                             filled=True,\n",
    "                             rounded=True,\n",
    "                             out_file=None)"
   ]
  },
  {
   "cell_type": "code",
   "execution_count": 55,
   "metadata": {},
   "outputs": [
    {
     "data": {
      "image/svg+xml": [
       "<?xml version=\"1.0\" encoding=\"UTF-8\" standalone=\"no\"?>\r\n",
       "<!DOCTYPE svg PUBLIC \"-//W3C//DTD SVG 1.1//EN\"\r\n",
       " \"http://www.w3.org/Graphics/SVG/1.1/DTD/svg11.dtd\">\r\n",
       "<!-- Generated by graphviz version 2.38.0 (20140413.2041)\r\n",
       " -->\r\n",
       "<!-- Title: Tree Pages: 1 -->\r\n",
       "<svg width=\"2098pt\" height=\"639pt\"\r\n",
       " viewBox=\"0.00 0.00 2098.00 639.00\" xmlns=\"http://www.w3.org/2000/svg\" xmlns:xlink=\"http://www.w3.org/1999/xlink\">\r\n",
       "<g id=\"graph0\" class=\"graph\" transform=\"scale(1 1) rotate(0) translate(4 635)\">\r\n",
       "<title>Tree</title>\r\n",
       "<polygon fill=\"white\" stroke=\"none\" points=\"-4,4 -4,-635 2094,-635 2094,4 -4,4\"/>\r\n",
       "<!-- 0 -->\r\n",
       "<g id=\"node1\" class=\"node\"><title>0</title>\r\n",
       "<path fill=\"#eda877\" stroke=\"black\" d=\"M1079.5,-631C1079.5,-631 927.5,-631 927.5,-631 921.5,-631 915.5,-625 915.5,-619 915.5,-619 915.5,-560 915.5,-560 915.5,-554 921.5,-548 927.5,-548 927.5,-548 1079.5,-548 1079.5,-548 1085.5,-548 1091.5,-554 1091.5,-560 1091.5,-560 1091.5,-619 1091.5,-619 1091.5,-625 1085.5,-631 1079.5,-631\"/>\r\n",
       "<text text-anchor=\"middle\" x=\"1003.5\" y=\"-615.8\" font-family=\"Helvetica,sans-Serif\" font-size=\"14.00\">Recency (months) &lt;= 6.5</text>\r\n",
       "<text text-anchor=\"middle\" x=\"1003.5\" y=\"-600.8\" font-family=\"Helvetica,sans-Serif\" font-size=\"14.00\">gini = 0.362</text>\r\n",
       "<text text-anchor=\"middle\" x=\"1003.5\" y=\"-585.8\" font-family=\"Helvetica,sans-Serif\" font-size=\"14.00\">samples = 100.0%</text>\r\n",
       "<text text-anchor=\"middle\" x=\"1003.5\" y=\"-570.8\" font-family=\"Helvetica,sans-Serif\" font-size=\"14.00\">value = [0.763, 0.237]</text>\r\n",
       "<text text-anchor=\"middle\" x=\"1003.5\" y=\"-555.8\" font-family=\"Helvetica,sans-Serif\" font-size=\"14.00\">class = 1</text>\r\n",
       "</g>\r\n",
       "<!-- 1 -->\r\n",
       "<g id=\"node2\" class=\"node\"><title>1</title>\r\n",
       "<path fill=\"#f4caac\" stroke=\"black\" d=\"M811.5,-512C811.5,-512 617.5,-512 617.5,-512 611.5,-512 605.5,-506 605.5,-500 605.5,-500 605.5,-441 605.5,-441 605.5,-435 611.5,-429 617.5,-429 617.5,-429 811.5,-429 811.5,-429 817.5,-429 823.5,-435 823.5,-441 823.5,-441 823.5,-500 823.5,-500 823.5,-506 817.5,-512 811.5,-512\"/>\r\n",
       "<text text-anchor=\"middle\" x=\"714.5\" y=\"-496.8\" font-family=\"Helvetica,sans-Serif\" font-size=\"14.00\">Monetary (c.c. blood) &lt;= 1125.0</text>\r\n",
       "<text text-anchor=\"middle\" x=\"714.5\" y=\"-481.8\" font-family=\"Helvetica,sans-Serif\" font-size=\"14.00\">gini = 0.465</text>\r\n",
       "<text text-anchor=\"middle\" x=\"714.5\" y=\"-466.8\" font-family=\"Helvetica,sans-Serif\" font-size=\"14.00\">samples = 49.5%</text>\r\n",
       "<text text-anchor=\"middle\" x=\"714.5\" y=\"-451.8\" font-family=\"Helvetica,sans-Serif\" font-size=\"14.00\">value = [0.632, 0.368]</text>\r\n",
       "<text text-anchor=\"middle\" x=\"714.5\" y=\"-436.8\" font-family=\"Helvetica,sans-Serif\" font-size=\"14.00\">class = 1</text>\r\n",
       "</g>\r\n",
       "<!-- 0&#45;&gt;1 -->\r\n",
       "<g id=\"edge1\" class=\"edge\"><title>0&#45;&gt;1</title>\r\n",
       "<path fill=\"none\" stroke=\"black\" d=\"M915.22,-552.76C886.412,-541.098 854.072,-528.005 823.905,-515.792\"/>\r\n",
       "<polygon fill=\"black\" stroke=\"black\" points=\"825.201,-512.541 814.618,-512.032 822.574,-519.029 825.201,-512.541\"/>\r\n",
       "<text text-anchor=\"middle\" x=\"824.37\" y=\"-531.352\" font-family=\"Helvetica,sans-Serif\" font-size=\"14.00\">True</text>\r\n",
       "</g>\r\n",
       "<!-- 190 -->\r\n",
       "<g id=\"node25\" class=\"node\"><title>190</title>\r\n",
       "<path fill=\"#e89051\" stroke=\"black\" d=\"M1381,-512C1381,-512 1220,-512 1220,-512 1214,-512 1208,-506 1208,-500 1208,-500 1208,-441 1208,-441 1208,-435 1214,-429 1220,-429 1220,-429 1381,-429 1381,-429 1387,-429 1393,-435 1393,-441 1393,-441 1393,-500 1393,-500 1393,-506 1387,-512 1381,-512\"/>\r\n",
       "<text text-anchor=\"middle\" x=\"1300.5\" y=\"-496.8\" font-family=\"Helvetica,sans-Serif\" font-size=\"14.00\">Recency (months) &lt;= 20.5</text>\r\n",
       "<text text-anchor=\"middle\" x=\"1300.5\" y=\"-481.8\" font-family=\"Helvetica,sans-Serif\" font-size=\"14.00\">gini = 0.195</text>\r\n",
       "<text text-anchor=\"middle\" x=\"1300.5\" y=\"-466.8\" font-family=\"Helvetica,sans-Serif\" font-size=\"14.00\">samples = 50.5%</text>\r\n",
       "<text text-anchor=\"middle\" x=\"1300.5\" y=\"-451.8\" font-family=\"Helvetica,sans-Serif\" font-size=\"14.00\">value = [0.891, 0.109]</text>\r\n",
       "<text text-anchor=\"middle\" x=\"1300.5\" y=\"-436.8\" font-family=\"Helvetica,sans-Serif\" font-size=\"14.00\">class = 1</text>\r\n",
       "</g>\r\n",
       "<!-- 0&#45;&gt;190 -->\r\n",
       "<g id=\"edge24\" class=\"edge\"><title>0&#45;&gt;190</title>\r\n",
       "<path fill=\"none\" stroke=\"black\" d=\"M1091.81,-553.713C1125.25,-540.537 1163.6,-525.428 1198.23,-511.788\"/>\r\n",
       "<polygon fill=\"black\" stroke=\"black\" points=\"1199.87,-514.904 1207.89,-507.982 1197.3,-508.391 1199.87,-514.904\"/>\r\n",
       "<text text-anchor=\"middle\" x=\"1197.92\" y=\"-527.209\" font-family=\"Helvetica,sans-Serif\" font-size=\"14.00\">False</text>\r\n",
       "</g>\r\n",
       "<!-- 2 -->\r\n",
       "<g id=\"node3\" class=\"node\"><title>2</title>\r\n",
       "<path fill=\"#eda977\" stroke=\"black\" d=\"M492,-393C492,-393 355,-393 355,-393 349,-393 343,-387 343,-381 343,-381 343,-322 343,-322 343,-316 349,-310 355,-310 355,-310 492,-310 492,-310 498,-310 504,-316 504,-322 504,-322 504,-381 504,-381 504,-387 498,-393 492,-393\"/>\r\n",
       "<text text-anchor=\"middle\" x=\"423.5\" y=\"-377.8\" font-family=\"Helvetica,sans-Serif\" font-size=\"14.00\">Time (months) &lt;= 39.5</text>\r\n",
       "<text text-anchor=\"middle\" x=\"423.5\" y=\"-362.8\" font-family=\"Helvetica,sans-Serif\" font-size=\"14.00\">gini = 0.364</text>\r\n",
       "<text text-anchor=\"middle\" x=\"423.5\" y=\"-347.8\" font-family=\"Helvetica,sans-Serif\" font-size=\"14.00\">samples = 23.7%</text>\r\n",
       "<text text-anchor=\"middle\" x=\"423.5\" y=\"-332.8\" font-family=\"Helvetica,sans-Serif\" font-size=\"14.00\">value = [0.761, 0.239]</text>\r\n",
       "<text text-anchor=\"middle\" x=\"423.5\" y=\"-317.8\" font-family=\"Helvetica,sans-Serif\" font-size=\"14.00\">class = 1</text>\r\n",
       "</g>\r\n",
       "<!-- 1&#45;&gt;2 -->\r\n",
       "<g id=\"edge2\" class=\"edge\"><title>1&#45;&gt;2</title>\r\n",
       "<path fill=\"none\" stroke=\"black\" d=\"M613.539,-428.907C581.108,-415.868 545.41,-401.515 513.794,-388.804\"/>\r\n",
       "<polygon fill=\"black\" stroke=\"black\" points=\"514.706,-385.398 504.122,-384.915 512.094,-391.893 514.706,-385.398\"/>\r\n",
       "</g>\r\n",
       "<!-- 59 -->\r\n",
       "<g id=\"node10\" class=\"node\"><title>59</title>\r\n",
       "<path fill=\"#fef9f5\" stroke=\"black\" d=\"M783,-393C783,-393 646,-393 646,-393 640,-393 634,-387 634,-381 634,-381 634,-322 634,-322 634,-316 640,-310 646,-310 646,-310 783,-310 783,-310 789,-310 795,-316 795,-322 795,-322 795,-381 795,-381 795,-387 789,-393 783,-393\"/>\r\n",
       "<text text-anchor=\"middle\" x=\"714.5\" y=\"-377.8\" font-family=\"Helvetica,sans-Serif\" font-size=\"14.00\">Time (months) &lt;= 49.5</text>\r\n",
       "<text text-anchor=\"middle\" x=\"714.5\" y=\"-362.8\" font-family=\"Helvetica,sans-Serif\" font-size=\"14.00\">gini = 0.5</text>\r\n",
       "<text text-anchor=\"middle\" x=\"714.5\" y=\"-347.8\" font-family=\"Helvetica,sans-Serif\" font-size=\"14.00\">samples = 25.8%</text>\r\n",
       "<text text-anchor=\"middle\" x=\"714.5\" y=\"-332.8\" font-family=\"Helvetica,sans-Serif\" font-size=\"14.00\">value = [0.513, 0.487]</text>\r\n",
       "<text text-anchor=\"middle\" x=\"714.5\" y=\"-317.8\" font-family=\"Helvetica,sans-Serif\" font-size=\"14.00\">class = 1</text>\r\n",
       "</g>\r\n",
       "<!-- 1&#45;&gt;59 -->\r\n",
       "<g id=\"edge9\" class=\"edge\"><title>1&#45;&gt;59</title>\r\n",
       "<path fill=\"none\" stroke=\"black\" d=\"M714.5,-428.907C714.5,-420.649 714.5,-411.864 714.5,-403.302\"/>\r\n",
       "<polygon fill=\"black\" stroke=\"black\" points=\"718,-403.021 714.5,-393.021 711,-403.021 718,-403.021\"/>\r\n",
       "</g>\r\n",
       "<!-- 3 -->\r\n",
       "<g id=\"node4\" class=\"node\"><title>3</title>\r\n",
       "<path fill=\"#eeae7f\" stroke=\"black\" d=\"M308,-274C308,-274 171,-274 171,-274 165,-274 159,-268 159,-262 159,-262 159,-203 159,-203 159,-197 165,-191 171,-191 171,-191 308,-191 308,-191 314,-191 320,-197 320,-203 320,-203 320,-262 320,-262 320,-268 314,-274 308,-274\"/>\r\n",
       "<text text-anchor=\"middle\" x=\"239.5\" y=\"-258.8\" font-family=\"Helvetica,sans-Serif\" font-size=\"14.00\">Time (months) &lt;= 36.5</text>\r\n",
       "<text text-anchor=\"middle\" x=\"239.5\" y=\"-243.8\" font-family=\"Helvetica,sans-Serif\" font-size=\"14.00\">gini = 0.386</text>\r\n",
       "<text text-anchor=\"middle\" x=\"239.5\" y=\"-228.8\" font-family=\"Helvetica,sans-Serif\" font-size=\"14.00\">samples = 21.7%</text>\r\n",
       "<text text-anchor=\"middle\" x=\"239.5\" y=\"-213.8\" font-family=\"Helvetica,sans-Serif\" font-size=\"14.00\">value = [0.738, 0.262]</text>\r\n",
       "<text text-anchor=\"middle\" x=\"239.5\" y=\"-198.8\" font-family=\"Helvetica,sans-Serif\" font-size=\"14.00\">class = 1</text>\r\n",
       "</g>\r\n",
       "<!-- 2&#45;&gt;3 -->\r\n",
       "<g id=\"edge3\" class=\"edge\"><title>2&#45;&gt;3</title>\r\n",
       "<path fill=\"none\" stroke=\"black\" d=\"M359.662,-309.907C344.248,-300.106 327.667,-289.563 311.893,-279.533\"/>\r\n",
       "<polygon fill=\"black\" stroke=\"black\" points=\"313.542,-276.433 303.225,-274.021 309.786,-282.34 313.542,-276.433\"/>\r\n",
       "</g>\r\n",
       "<!-- 58 -->\r\n",
       "<g id=\"node9\" class=\"node\"><title>58</title>\r\n",
       "<path fill=\"#e58139\" stroke=\"black\" d=\"M472,-266.5C472,-266.5 375,-266.5 375,-266.5 369,-266.5 363,-260.5 363,-254.5 363,-254.5 363,-210.5 363,-210.5 363,-204.5 369,-198.5 375,-198.5 375,-198.5 472,-198.5 472,-198.5 478,-198.5 484,-204.5 484,-210.5 484,-210.5 484,-254.5 484,-254.5 484,-260.5 478,-266.5 472,-266.5\"/>\r\n",
       "<text text-anchor=\"middle\" x=\"423.5\" y=\"-251.3\" font-family=\"Helvetica,sans-Serif\" font-size=\"14.00\">gini = 0.0</text>\r\n",
       "<text text-anchor=\"middle\" x=\"423.5\" y=\"-236.3\" font-family=\"Helvetica,sans-Serif\" font-size=\"14.00\">samples = 2.0%</text>\r\n",
       "<text text-anchor=\"middle\" x=\"423.5\" y=\"-221.3\" font-family=\"Helvetica,sans-Serif\" font-size=\"14.00\">value = [1.0, 0.0]</text>\r\n",
       "<text text-anchor=\"middle\" x=\"423.5\" y=\"-206.3\" font-family=\"Helvetica,sans-Serif\" font-size=\"14.00\">class = 1</text>\r\n",
       "</g>\r\n",
       "<!-- 2&#45;&gt;58 -->\r\n",
       "<g id=\"edge8\" class=\"edge\"><title>2&#45;&gt;58</title>\r\n",
       "<path fill=\"none\" stroke=\"black\" d=\"M423.5,-309.907C423.5,-299.204 423.5,-287.615 423.5,-276.776\"/>\r\n",
       "<polygon fill=\"black\" stroke=\"black\" points=\"427,-276.667 423.5,-266.667 420,-276.667 427,-276.667\"/>\r\n",
       "</g>\r\n",
       "<!-- 4 -->\r\n",
       "<g id=\"node5\" class=\"node\"><title>4</title>\r\n",
       "<path fill=\"#eeac7d\" stroke=\"black\" d=\"M149,-155C149,-155 12,-155 12,-155 6,-155 0,-149 0,-143 0,-143 0,-84 0,-84 0,-78 6,-72 12,-72 12,-72 149,-72 149,-72 155,-72 161,-78 161,-84 161,-84 161,-143 161,-143 161,-149 155,-155 149,-155\"/>\r\n",
       "<text text-anchor=\"middle\" x=\"80.5\" y=\"-139.8\" font-family=\"Helvetica,sans-Serif\" font-size=\"14.00\">Time (months) &lt;= 17.0</text>\r\n",
       "<text text-anchor=\"middle\" x=\"80.5\" y=\"-124.8\" font-family=\"Helvetica,sans-Serif\" font-size=\"14.00\">gini = 0.381</text>\r\n",
       "<text text-anchor=\"middle\" x=\"80.5\" y=\"-109.8\" font-family=\"Helvetica,sans-Serif\" font-size=\"14.00\">samples = 21.6%</text>\r\n",
       "<text text-anchor=\"middle\" x=\"80.5\" y=\"-94.8\" font-family=\"Helvetica,sans-Serif\" font-size=\"14.00\">value = [0.744, 0.256]</text>\r\n",
       "<text text-anchor=\"middle\" x=\"80.5\" y=\"-79.8\" font-family=\"Helvetica,sans-Serif\" font-size=\"14.00\">class = 1</text>\r\n",
       "</g>\r\n",
       "<!-- 3&#45;&gt;4 -->\r\n",
       "<g id=\"edge4\" class=\"edge\"><title>3&#45;&gt;4</title>\r\n",
       "<path fill=\"none\" stroke=\"black\" d=\"M184.336,-190.907C171.263,-181.288 157.219,-170.953 143.815,-161.09\"/>\r\n",
       "<polygon fill=\"black\" stroke=\"black\" points=\"145.696,-158.129 135.567,-155.021 141.547,-163.767 145.696,-158.129\"/>\r\n",
       "</g>\r\n",
       "<!-- 57 -->\r\n",
       "<g id=\"node8\" class=\"node\"><title>57</title>\r\n",
       "<path fill=\"#399de5\" stroke=\"black\" d=\"M288,-147.5C288,-147.5 191,-147.5 191,-147.5 185,-147.5 179,-141.5 179,-135.5 179,-135.5 179,-91.5 179,-91.5 179,-85.5 185,-79.5 191,-79.5 191,-79.5 288,-79.5 288,-79.5 294,-79.5 300,-85.5 300,-91.5 300,-91.5 300,-135.5 300,-135.5 300,-141.5 294,-147.5 288,-147.5\"/>\r\n",
       "<text text-anchor=\"middle\" x=\"239.5\" y=\"-132.3\" font-family=\"Helvetica,sans-Serif\" font-size=\"14.00\">gini = 0.0</text>\r\n",
       "<text text-anchor=\"middle\" x=\"239.5\" y=\"-117.3\" font-family=\"Helvetica,sans-Serif\" font-size=\"14.00\">samples = 0.2%</text>\r\n",
       "<text text-anchor=\"middle\" x=\"239.5\" y=\"-102.3\" font-family=\"Helvetica,sans-Serif\" font-size=\"14.00\">value = [0.0, 1.0]</text>\r\n",
       "<text text-anchor=\"middle\" x=\"239.5\" y=\"-87.3\" font-family=\"Helvetica,sans-Serif\" font-size=\"14.00\">class = 0</text>\r\n",
       "</g>\r\n",
       "<!-- 3&#45;&gt;57 -->\r\n",
       "<g id=\"edge7\" class=\"edge\"><title>3&#45;&gt;57</title>\r\n",
       "<path fill=\"none\" stroke=\"black\" d=\"M239.5,-190.907C239.5,-180.204 239.5,-168.615 239.5,-157.776\"/>\r\n",
       "<polygon fill=\"black\" stroke=\"black\" points=\"243,-157.667 239.5,-147.667 236,-157.667 243,-157.667\"/>\r\n",
       "</g>\r\n",
       "<!-- 5 -->\r\n",
       "<g id=\"node6\" class=\"node\"><title>5</title>\r\n",
       "<path fill=\"#c0c0c0\" stroke=\"black\" d=\"M59.5,-36C59.5,-36 29.5,-36 29.5,-36 23.5,-36 17.5,-30 17.5,-24 17.5,-24 17.5,-12 17.5,-12 17.5,-6 23.5,-0 29.5,-0 29.5,-0 59.5,-0 59.5,-0 65.5,-0 71.5,-6 71.5,-12 71.5,-12 71.5,-24 71.5,-24 71.5,-30 65.5,-36 59.5,-36\"/>\r\n",
       "<text text-anchor=\"middle\" x=\"44.5\" y=\"-14.3\" font-family=\"Helvetica,sans-Serif\" font-size=\"14.00\">(...)</text>\r\n",
       "</g>\r\n",
       "<!-- 4&#45;&gt;5 -->\r\n",
       "<g id=\"edge5\" class=\"edge\"><title>4&#45;&gt;5</title>\r\n",
       "<path fill=\"none\" stroke=\"black\" d=\"M64.8146,-71.7615C61.4573,-63.0419 57.9907,-54.0385 54.8927,-45.9921\"/>\r\n",
       "<polygon fill=\"black\" stroke=\"black\" points=\"58.0609,-44.4797 51.2014,-36.4051 51.5284,-46.9949 58.0609,-44.4797\"/>\r\n",
       "</g>\r\n",
       "<!-- 46 -->\r\n",
       "<g id=\"node7\" class=\"node\"><title>46</title>\r\n",
       "<path fill=\"#c0c0c0\" stroke=\"black\" d=\"M131.5,-36C131.5,-36 101.5,-36 101.5,-36 95.5,-36 89.5,-30 89.5,-24 89.5,-24 89.5,-12 89.5,-12 89.5,-6 95.5,-0 101.5,-0 101.5,-0 131.5,-0 131.5,-0 137.5,-0 143.5,-6 143.5,-12 143.5,-12 143.5,-24 143.5,-24 143.5,-30 137.5,-36 131.5,-36\"/>\r\n",
       "<text text-anchor=\"middle\" x=\"116.5\" y=\"-14.3\" font-family=\"Helvetica,sans-Serif\" font-size=\"14.00\">(...)</text>\r\n",
       "</g>\r\n",
       "<!-- 4&#45;&gt;46 -->\r\n",
       "<g id=\"edge6\" class=\"edge\"><title>4&#45;&gt;46</title>\r\n",
       "<path fill=\"none\" stroke=\"black\" d=\"M96.1854,-71.7615C99.5427,-63.0419 103.009,-54.0385 106.107,-45.9921\"/>\r\n",
       "<polygon fill=\"black\" stroke=\"black\" points=\"109.472,-46.9949 109.799,-36.4051 102.939,-44.4797 109.472,-46.9949\"/>\r\n",
       "</g>\r\n",
       "<!-- 60 -->\r\n",
       "<g id=\"node11\" class=\"node\"><title>60</title>\r\n",
       "<path fill=\"#b6dbf5\" stroke=\"black\" d=\"M675,-274C675,-274 538,-274 538,-274 532,-274 526,-268 526,-262 526,-262 526,-203 526,-203 526,-197 532,-191 538,-191 538,-191 675,-191 675,-191 681,-191 687,-197 687,-203 687,-203 687,-262 687,-262 687,-268 681,-274 675,-274\"/>\r\n",
       "<text text-anchor=\"middle\" x=\"606.5\" y=\"-258.8\" font-family=\"Helvetica,sans-Serif\" font-size=\"14.00\">Time (months) &lt;= 18.5</text>\r\n",
       "<text text-anchor=\"middle\" x=\"606.5\" y=\"-243.8\" font-family=\"Helvetica,sans-Serif\" font-size=\"14.00\">gini = 0.474</text>\r\n",
       "<text text-anchor=\"middle\" x=\"606.5\" y=\"-228.8\" font-family=\"Helvetica,sans-Serif\" font-size=\"14.00\">samples = 16.9%</text>\r\n",
       "<text text-anchor=\"middle\" x=\"606.5\" y=\"-213.8\" font-family=\"Helvetica,sans-Serif\" font-size=\"14.00\">value = [0.386, 0.614]</text>\r\n",
       "<text text-anchor=\"middle\" x=\"606.5\" y=\"-198.8\" font-family=\"Helvetica,sans-Serif\" font-size=\"14.00\">class = 0</text>\r\n",
       "</g>\r\n",
       "<!-- 59&#45;&gt;60 -->\r\n",
       "<g id=\"edge10\" class=\"edge\"><title>59&#45;&gt;60</title>\r\n",
       "<path fill=\"none\" stroke=\"black\" d=\"M677.03,-309.907C668.569,-300.742 659.509,-290.927 650.798,-281.489\"/>\r\n",
       "<polygon fill=\"black\" stroke=\"black\" points=\"653.258,-278.995 643.904,-274.021 648.115,-283.743 653.258,-278.995\"/>\r\n",
       "</g>\r\n",
       "<!-- 159 -->\r\n",
       "<g id=\"node18\" class=\"node\"><title>159</title>\r\n",
       "<path fill=\"#edaa79\" stroke=\"black\" d=\"M901.5,-274C901.5,-274 741.5,-274 741.5,-274 735.5,-274 729.5,-268 729.5,-262 729.5,-262 729.5,-203 729.5,-203 729.5,-197 735.5,-191 741.5,-191 741.5,-191 901.5,-191 901.5,-191 907.5,-191 913.5,-197 913.5,-203 913.5,-203 913.5,-262 913.5,-262 913.5,-268 907.5,-274 901.5,-274\"/>\r\n",
       "<text text-anchor=\"middle\" x=\"821.5\" y=\"-258.8\" font-family=\"Helvetica,sans-Serif\" font-size=\"14.00\">Frequency (times) &lt;= 12.5</text>\r\n",
       "<text text-anchor=\"middle\" x=\"821.5\" y=\"-243.8\" font-family=\"Helvetica,sans-Serif\" font-size=\"14.00\">gini = 0.37</text>\r\n",
       "<text text-anchor=\"middle\" x=\"821.5\" y=\"-228.8\" font-family=\"Helvetica,sans-Serif\" font-size=\"14.00\">samples = 8.9%</text>\r\n",
       "<text text-anchor=\"middle\" x=\"821.5\" y=\"-213.8\" font-family=\"Helvetica,sans-Serif\" font-size=\"14.00\">value = [0.755, 0.245]</text>\r\n",
       "<text text-anchor=\"middle\" x=\"821.5\" y=\"-198.8\" font-family=\"Helvetica,sans-Serif\" font-size=\"14.00\">class = 1</text>\r\n",
       "</g>\r\n",
       "<!-- 59&#45;&gt;159 -->\r\n",
       "<g id=\"edge17\" class=\"edge\"><title>59&#45;&gt;159</title>\r\n",
       "<path fill=\"none\" stroke=\"black\" d=\"M751.623,-309.907C760.006,-300.742 768.982,-290.927 777.613,-281.489\"/>\r\n",
       "<polygon fill=\"black\" stroke=\"black\" points=\"780.277,-283.762 784.443,-274.021 775.111,-279.038 780.277,-283.762\"/>\r\n",
       "</g>\r\n",
       "<!-- 61 -->\r\n",
       "<g id=\"node12\" class=\"node\"><title>61</title>\r\n",
       "<path fill=\"#61b1ea\" stroke=\"black\" d=\"M467,-155C467,-155 330,-155 330,-155 324,-155 318,-149 318,-143 318,-143 318,-84 318,-84 318,-78 324,-72 330,-72 330,-72 467,-72 467,-72 473,-72 479,-78 479,-84 479,-84 479,-143 479,-143 479,-149 473,-155 467,-155\"/>\r\n",
       "<text text-anchor=\"middle\" x=\"398.5\" y=\"-139.8\" font-family=\"Helvetica,sans-Serif\" font-size=\"14.00\">Time (months) &lt;= 14.5</text>\r\n",
       "<text text-anchor=\"middle\" x=\"398.5\" y=\"-124.8\" font-family=\"Helvetica,sans-Serif\" font-size=\"14.00\">gini = 0.278</text>\r\n",
       "<text text-anchor=\"middle\" x=\"398.5\" y=\"-109.8\" font-family=\"Helvetica,sans-Serif\" font-size=\"14.00\">samples = 3.0%</text>\r\n",
       "<text text-anchor=\"middle\" x=\"398.5\" y=\"-94.8\" font-family=\"Helvetica,sans-Serif\" font-size=\"14.00\">value = [0.167, 0.833]</text>\r\n",
       "<text text-anchor=\"middle\" x=\"398.5\" y=\"-79.8\" font-family=\"Helvetica,sans-Serif\" font-size=\"14.00\">class = 0</text>\r\n",
       "</g>\r\n",
       "<!-- 60&#45;&gt;61 -->\r\n",
       "<g id=\"edge11\" class=\"edge\"><title>60&#45;&gt;61</title>\r\n",
       "<path fill=\"none\" stroke=\"black\" d=\"M534.335,-190.907C516.589,-180.925 497.473,-170.172 479.346,-159.976\"/>\r\n",
       "<polygon fill=\"black\" stroke=\"black\" points=\"480.969,-156.873 470.537,-155.021 477.537,-162.974 480.969,-156.873\"/>\r\n",
       "</g>\r\n",
       "<!-- 72 -->\r\n",
       "<g id=\"node15\" class=\"node\"><title>72</title>\r\n",
       "<path fill=\"#d1e8f9\" stroke=\"black\" d=\"M703.5,-155C703.5,-155 509.5,-155 509.5,-155 503.5,-155 497.5,-149 497.5,-143 497.5,-143 497.5,-84 497.5,-84 497.5,-78 503.5,-72 509.5,-72 509.5,-72 703.5,-72 703.5,-72 709.5,-72 715.5,-78 715.5,-84 715.5,-84 715.5,-143 715.5,-143 715.5,-149 709.5,-155 703.5,-155\"/>\r\n",
       "<text text-anchor=\"middle\" x=\"606.5\" y=\"-139.8\" font-family=\"Helvetica,sans-Serif\" font-size=\"14.00\">Monetary (c.c. blood) &lt;= 1625.0</text>\r\n",
       "<text text-anchor=\"middle\" x=\"606.5\" y=\"-124.8\" font-family=\"Helvetica,sans-Serif\" font-size=\"14.00\">gini = 0.491</text>\r\n",
       "<text text-anchor=\"middle\" x=\"606.5\" y=\"-109.8\" font-family=\"Helvetica,sans-Serif\" font-size=\"14.00\">samples = 13.9%</text>\r\n",
       "<text text-anchor=\"middle\" x=\"606.5\" y=\"-94.8\" font-family=\"Helvetica,sans-Serif\" font-size=\"14.00\">value = [0.434, 0.566]</text>\r\n",
       "<text text-anchor=\"middle\" x=\"606.5\" y=\"-79.8\" font-family=\"Helvetica,sans-Serif\" font-size=\"14.00\">class = 0</text>\r\n",
       "</g>\r\n",
       "<!-- 60&#45;&gt;72 -->\r\n",
       "<g id=\"edge14\" class=\"edge\"><title>60&#45;&gt;72</title>\r\n",
       "<path fill=\"none\" stroke=\"black\" d=\"M606.5,-190.907C606.5,-182.649 606.5,-173.864 606.5,-165.302\"/>\r\n",
       "<polygon fill=\"black\" stroke=\"black\" points=\"610,-165.021 606.5,-155.021 603,-165.021 610,-165.021\"/>\r\n",
       "</g>\r\n",
       "<!-- 62 -->\r\n",
       "<g id=\"node13\" class=\"node\"><title>62</title>\r\n",
       "<path fill=\"#c0c0c0\" stroke=\"black\" d=\"M377.5,-36C377.5,-36 347.5,-36 347.5,-36 341.5,-36 335.5,-30 335.5,-24 335.5,-24 335.5,-12 335.5,-12 335.5,-6 341.5,-0 347.5,-0 347.5,-0 377.5,-0 377.5,-0 383.5,-0 389.5,-6 389.5,-12 389.5,-12 389.5,-24 389.5,-24 389.5,-30 383.5,-36 377.5,-36\"/>\r\n",
       "<text text-anchor=\"middle\" x=\"362.5\" y=\"-14.3\" font-family=\"Helvetica,sans-Serif\" font-size=\"14.00\">(...)</text>\r\n",
       "</g>\r\n",
       "<!-- 61&#45;&gt;62 -->\r\n",
       "<g id=\"edge12\" class=\"edge\"><title>61&#45;&gt;62</title>\r\n",
       "<path fill=\"none\" stroke=\"black\" d=\"M382.815,-71.7615C379.457,-63.0419 375.991,-54.0385 372.893,-45.9921\"/>\r\n",
       "<polygon fill=\"black\" stroke=\"black\" points=\"376.061,-44.4797 369.201,-36.4051 369.528,-46.9949 376.061,-44.4797\"/>\r\n",
       "</g>\r\n",
       "<!-- 67 -->\r\n",
       "<g id=\"node14\" class=\"node\"><title>67</title>\r\n",
       "<path fill=\"#c0c0c0\" stroke=\"black\" d=\"M449.5,-36C449.5,-36 419.5,-36 419.5,-36 413.5,-36 407.5,-30 407.5,-24 407.5,-24 407.5,-12 407.5,-12 407.5,-6 413.5,-0 419.5,-0 419.5,-0 449.5,-0 449.5,-0 455.5,-0 461.5,-6 461.5,-12 461.5,-12 461.5,-24 461.5,-24 461.5,-30 455.5,-36 449.5,-36\"/>\r\n",
       "<text text-anchor=\"middle\" x=\"434.5\" y=\"-14.3\" font-family=\"Helvetica,sans-Serif\" font-size=\"14.00\">(...)</text>\r\n",
       "</g>\r\n",
       "<!-- 61&#45;&gt;67 -->\r\n",
       "<g id=\"edge13\" class=\"edge\"><title>61&#45;&gt;67</title>\r\n",
       "<path fill=\"none\" stroke=\"black\" d=\"M414.185,-71.7615C417.543,-63.0419 421.009,-54.0385 424.107,-45.9921\"/>\r\n",
       "<polygon fill=\"black\" stroke=\"black\" points=\"427.472,-46.9949 427.799,-36.4051 420.939,-44.4797 427.472,-46.9949\"/>\r\n",
       "</g>\r\n",
       "<!-- 73 -->\r\n",
       "<g id=\"node16\" class=\"node\"><title>73</title>\r\n",
       "<path fill=\"#c0c0c0\" stroke=\"black\" d=\"M589.5,-36C589.5,-36 559.5,-36 559.5,-36 553.5,-36 547.5,-30 547.5,-24 547.5,-24 547.5,-12 547.5,-12 547.5,-6 553.5,-0 559.5,-0 559.5,-0 589.5,-0 589.5,-0 595.5,-0 601.5,-6 601.5,-12 601.5,-12 601.5,-24 601.5,-24 601.5,-30 595.5,-36 589.5,-36\"/>\r\n",
       "<text text-anchor=\"middle\" x=\"574.5\" y=\"-14.3\" font-family=\"Helvetica,sans-Serif\" font-size=\"14.00\">(...)</text>\r\n",
       "</g>\r\n",
       "<!-- 72&#45;&gt;73 -->\r\n",
       "<g id=\"edge15\" class=\"edge\"><title>72&#45;&gt;73</title>\r\n",
       "<path fill=\"none\" stroke=\"black\" d=\"M592.557,-71.7615C589.573,-63.0419 586.492,-54.0385 583.738,-45.9921\"/>\r\n",
       "<polygon fill=\"black\" stroke=\"black\" points=\"587.006,-44.733 580.457,-36.4051 580.384,-46.9997 587.006,-44.733\"/>\r\n",
       "</g>\r\n",
       "<!-- 114 -->\r\n",
       "<g id=\"node17\" class=\"node\"><title>114</title>\r\n",
       "<path fill=\"#c0c0c0\" stroke=\"black\" d=\"M661.5,-36C661.5,-36 631.5,-36 631.5,-36 625.5,-36 619.5,-30 619.5,-24 619.5,-24 619.5,-12 619.5,-12 619.5,-6 625.5,-0 631.5,-0 631.5,-0 661.5,-0 661.5,-0 667.5,-0 673.5,-6 673.5,-12 673.5,-12 673.5,-24 673.5,-24 673.5,-30 667.5,-36 661.5,-36\"/>\r\n",
       "<text text-anchor=\"middle\" x=\"646.5\" y=\"-14.3\" font-family=\"Helvetica,sans-Serif\" font-size=\"14.00\">(...)</text>\r\n",
       "</g>\r\n",
       "<!-- 72&#45;&gt;114 -->\r\n",
       "<g id=\"edge16\" class=\"edge\"><title>72&#45;&gt;114</title>\r\n",
       "<path fill=\"none\" stroke=\"black\" d=\"M623.928,-71.7615C627.7,-62.945 631.596,-53.8384 635.067,-45.7242\"/>\r\n",
       "<polygon fill=\"black\" stroke=\"black\" points=\"638.339,-46.9758 639.054,-36.4051 631.903,-44.2224 638.339,-46.9758\"/>\r\n",
       "</g>\r\n",
       "<!-- 160 -->\r\n",
       "<g id=\"node19\" class=\"node\"><title>160</title>\r\n",
       "<path fill=\"#e88e4d\" stroke=\"black\" d=\"M897.5,-155C897.5,-155 745.5,-155 745.5,-155 739.5,-155 733.5,-149 733.5,-143 733.5,-143 733.5,-84 733.5,-84 733.5,-78 739.5,-72 745.5,-72 745.5,-72 897.5,-72 897.5,-72 903.5,-72 909.5,-78 909.5,-84 909.5,-84 909.5,-143 909.5,-143 909.5,-149 903.5,-155 897.5,-155\"/>\r\n",
       "<text text-anchor=\"middle\" x=\"821.5\" y=\"-139.8\" font-family=\"Helvetica,sans-Serif\" font-size=\"14.00\">Recency (months) &lt;= 2.5</text>\r\n",
       "<text text-anchor=\"middle\" x=\"821.5\" y=\"-124.8\" font-family=\"Helvetica,sans-Serif\" font-size=\"14.00\">gini = 0.165</text>\r\n",
       "<text text-anchor=\"middle\" x=\"821.5\" y=\"-109.8\" font-family=\"Helvetica,sans-Serif\" font-size=\"14.00\">samples = 5.5%</text>\r\n",
       "<text text-anchor=\"middle\" x=\"821.5\" y=\"-94.8\" font-family=\"Helvetica,sans-Serif\" font-size=\"14.00\">value = [0.909, 0.091]</text>\r\n",
       "<text text-anchor=\"middle\" x=\"821.5\" y=\"-79.8\" font-family=\"Helvetica,sans-Serif\" font-size=\"14.00\">class = 1</text>\r\n",
       "</g>\r\n",
       "<!-- 159&#45;&gt;160 -->\r\n",
       "<g id=\"edge18\" class=\"edge\"><title>159&#45;&gt;160</title>\r\n",
       "<path fill=\"none\" stroke=\"black\" d=\"M821.5,-190.907C821.5,-182.649 821.5,-173.864 821.5,-165.302\"/>\r\n",
       "<polygon fill=\"black\" stroke=\"black\" points=\"825,-165.021 821.5,-155.021 818,-165.021 825,-165.021\"/>\r\n",
       "</g>\r\n",
       "<!-- 173 -->\r\n",
       "<g id=\"node22\" class=\"node\"><title>173</title>\r\n",
       "<path fill=\"#ffffff\" stroke=\"black\" d=\"M1099.5,-155C1099.5,-155 939.5,-155 939.5,-155 933.5,-155 927.5,-149 927.5,-143 927.5,-143 927.5,-84 927.5,-84 927.5,-78 933.5,-72 939.5,-72 939.5,-72 1099.5,-72 1099.5,-72 1105.5,-72 1111.5,-78 1111.5,-84 1111.5,-84 1111.5,-143 1111.5,-143 1111.5,-149 1105.5,-155 1099.5,-155\"/>\r\n",
       "<text text-anchor=\"middle\" x=\"1019.5\" y=\"-139.8\" font-family=\"Helvetica,sans-Serif\" font-size=\"14.00\">Frequency (times) &lt;= 28.5</text>\r\n",
       "<text text-anchor=\"middle\" x=\"1019.5\" y=\"-124.8\" font-family=\"Helvetica,sans-Serif\" font-size=\"14.00\">gini = 0.5</text>\r\n",
       "<text text-anchor=\"middle\" x=\"1019.5\" y=\"-109.8\" font-family=\"Helvetica,sans-Serif\" font-size=\"14.00\">samples = 3.3%</text>\r\n",
       "<text text-anchor=\"middle\" x=\"1019.5\" y=\"-94.8\" font-family=\"Helvetica,sans-Serif\" font-size=\"14.00\">value = [0.5, 0.5]</text>\r\n",
       "<text text-anchor=\"middle\" x=\"1019.5\" y=\"-79.8\" font-family=\"Helvetica,sans-Serif\" font-size=\"14.00\">class = 1</text>\r\n",
       "</g>\r\n",
       "<!-- 159&#45;&gt;173 -->\r\n",
       "<g id=\"edge21\" class=\"edge\"><title>159&#45;&gt;173</title>\r\n",
       "<path fill=\"none\" stroke=\"black\" d=\"M890.195,-190.907C906.935,-181.016 924.955,-170.368 942.07,-160.254\"/>\r\n",
       "<polygon fill=\"black\" stroke=\"black\" points=\"944.098,-163.121 950.926,-155.021 940.536,-157.095 944.098,-163.121\"/>\r\n",
       "</g>\r\n",
       "<!-- 161 -->\r\n",
       "<g id=\"node20\" class=\"node\"><title>161</title>\r\n",
       "<path fill=\"#c0c0c0\" stroke=\"black\" d=\"M801.5,-36C801.5,-36 771.5,-36 771.5,-36 765.5,-36 759.5,-30 759.5,-24 759.5,-24 759.5,-12 759.5,-12 759.5,-6 765.5,-0 771.5,-0 771.5,-0 801.5,-0 801.5,-0 807.5,-0 813.5,-6 813.5,-12 813.5,-12 813.5,-24 813.5,-24 813.5,-30 807.5,-36 801.5,-36\"/>\r\n",
       "<text text-anchor=\"middle\" x=\"786.5\" y=\"-14.3\" font-family=\"Helvetica,sans-Serif\" font-size=\"14.00\">(...)</text>\r\n",
       "</g>\r\n",
       "<!-- 160&#45;&gt;161 -->\r\n",
       "<g id=\"edge19\" class=\"edge\"><title>160&#45;&gt;161</title>\r\n",
       "<path fill=\"none\" stroke=\"black\" d=\"M806.25,-71.7615C802.986,-63.0419 799.616,-54.0385 796.604,-45.9921\"/>\r\n",
       "<polygon fill=\"black\" stroke=\"black\" points=\"799.799,-44.5434 793.015,-36.4051 793.243,-46.9975 799.799,-44.5434\"/>\r\n",
       "</g>\r\n",
       "<!-- 172 -->\r\n",
       "<g id=\"node21\" class=\"node\"><title>172</title>\r\n",
       "<path fill=\"#c0c0c0\" stroke=\"black\" d=\"M873.5,-36C873.5,-36 843.5,-36 843.5,-36 837.5,-36 831.5,-30 831.5,-24 831.5,-24 831.5,-12 831.5,-12 831.5,-6 837.5,-0 843.5,-0 843.5,-0 873.5,-0 873.5,-0 879.5,-0 885.5,-6 885.5,-12 885.5,-12 885.5,-24 885.5,-24 885.5,-30 879.5,-36 873.5,-36\"/>\r\n",
       "<text text-anchor=\"middle\" x=\"858.5\" y=\"-14.3\" font-family=\"Helvetica,sans-Serif\" font-size=\"14.00\">(...)</text>\r\n",
       "</g>\r\n",
       "<!-- 160&#45;&gt;172 -->\r\n",
       "<g id=\"edge20\" class=\"edge\"><title>160&#45;&gt;172</title>\r\n",
       "<path fill=\"none\" stroke=\"black\" d=\"M837.621,-71.7615C841.11,-62.945 844.714,-53.8384 847.925,-45.7242\"/>\r\n",
       "<polygon fill=\"black\" stroke=\"black\" points=\"851.187,-46.9914 851.612,-36.4051 844.678,-44.4157 851.187,-46.9914\"/>\r\n",
       "</g>\r\n",
       "<!-- 174 -->\r\n",
       "<g id=\"node23\" class=\"node\"><title>174</title>\r\n",
       "<path fill=\"#c0c0c0\" stroke=\"black\" d=\"M1007.5,-36C1007.5,-36 977.5,-36 977.5,-36 971.5,-36 965.5,-30 965.5,-24 965.5,-24 965.5,-12 965.5,-12 965.5,-6 971.5,-0 977.5,-0 977.5,-0 1007.5,-0 1007.5,-0 1013.5,-0 1019.5,-6 1019.5,-12 1019.5,-12 1019.5,-24 1019.5,-24 1019.5,-30 1013.5,-36 1007.5,-36\"/>\r\n",
       "<text text-anchor=\"middle\" x=\"992.5\" y=\"-14.3\" font-family=\"Helvetica,sans-Serif\" font-size=\"14.00\">(...)</text>\r\n",
       "</g>\r\n",
       "<!-- 173&#45;&gt;174 -->\r\n",
       "<g id=\"edge22\" class=\"edge\"><title>173&#45;&gt;174</title>\r\n",
       "<path fill=\"none\" stroke=\"black\" d=\"M1007.74,-71.7615C1005.25,-63.1387 1002.68,-54.2385 1000.37,-46.2606\"/>\r\n",
       "<polygon fill=\"black\" stroke=\"black\" points=\"1003.66,-45.0415 997.526,-36.4051 996.938,-46.9836 1003.66,-45.0415\"/>\r\n",
       "</g>\r\n",
       "<!-- 189 -->\r\n",
       "<g id=\"node24\" class=\"node\"><title>189</title>\r\n",
       "<path fill=\"#c0c0c0\" stroke=\"black\" d=\"M1079.5,-36C1079.5,-36 1049.5,-36 1049.5,-36 1043.5,-36 1037.5,-30 1037.5,-24 1037.5,-24 1037.5,-12 1037.5,-12 1037.5,-6 1043.5,-0 1049.5,-0 1049.5,-0 1079.5,-0 1079.5,-0 1085.5,-0 1091.5,-6 1091.5,-12 1091.5,-12 1091.5,-24 1091.5,-24 1091.5,-30 1085.5,-36 1079.5,-36\"/>\r\n",
       "<text text-anchor=\"middle\" x=\"1064.5\" y=\"-14.3\" font-family=\"Helvetica,sans-Serif\" font-size=\"14.00\">(...)</text>\r\n",
       "</g>\r\n",
       "<!-- 173&#45;&gt;189 -->\r\n",
       "<g id=\"edge23\" class=\"edge\"><title>173&#45;&gt;189</title>\r\n",
       "<path fill=\"none\" stroke=\"black\" d=\"M1039.11,-71.7615C1043.4,-62.8481 1047.83,-53.6382 1051.77,-45.4571\"/>\r\n",
       "<polygon fill=\"black\" stroke=\"black\" points=\"1054.94,-46.9337 1056.12,-36.4051 1048.63,-43.898 1054.94,-46.9337\"/>\r\n",
       "</g>\r\n",
       "<!-- 191 -->\r\n",
       "<g id=\"node26\" class=\"node\"><title>191</title>\r\n",
       "<path fill=\"#e99457\" stroke=\"black\" d=\"M1381,-393C1381,-393 1220,-393 1220,-393 1214,-393 1208,-387 1208,-381 1208,-381 1208,-322 1208,-322 1208,-316 1214,-310 1220,-310 1220,-310 1381,-310 1381,-310 1387,-310 1393,-316 1393,-322 1393,-322 1393,-381 1393,-381 1393,-387 1387,-393 1381,-393\"/>\r\n",
       "<text text-anchor=\"middle\" x=\"1300.5\" y=\"-377.8\" font-family=\"Helvetica,sans-Serif\" font-size=\"14.00\">Recency (months) &lt;= 19.0</text>\r\n",
       "<text text-anchor=\"middle\" x=\"1300.5\" y=\"-362.8\" font-family=\"Helvetica,sans-Serif\" font-size=\"14.00\">gini = 0.229</text>\r\n",
       "<text text-anchor=\"middle\" x=\"1300.5\" y=\"-347.8\" font-family=\"Helvetica,sans-Serif\" font-size=\"14.00\">samples = 38.0%</text>\r\n",
       "<text text-anchor=\"middle\" x=\"1300.5\" y=\"-332.8\" font-family=\"Helvetica,sans-Serif\" font-size=\"14.00\">value = [0.868, 0.132]</text>\r\n",
       "<text text-anchor=\"middle\" x=\"1300.5\" y=\"-317.8\" font-family=\"Helvetica,sans-Serif\" font-size=\"14.00\">class = 1</text>\r\n",
       "</g>\r\n",
       "<!-- 190&#45;&gt;191 -->\r\n",
       "<g id=\"edge25\" class=\"edge\"><title>190&#45;&gt;191</title>\r\n",
       "<path fill=\"none\" stroke=\"black\" d=\"M1300.5,-428.907C1300.5,-420.649 1300.5,-411.864 1300.5,-403.302\"/>\r\n",
       "<polygon fill=\"black\" stroke=\"black\" points=\"1304,-403.021 1300.5,-393.021 1297,-403.021 1304,-403.021\"/>\r\n",
       "</g>\r\n",
       "<!-- 326 -->\r\n",
       "<g id=\"node35\" class=\"node\"><title>326</title>\r\n",
       "<path fill=\"#e68641\" stroke=\"black\" d=\"M1714,-393C1714,-393 1553,-393 1553,-393 1547,-393 1541,-387 1541,-381 1541,-381 1541,-322 1541,-322 1541,-316 1547,-310 1553,-310 1553,-310 1714,-310 1714,-310 1720,-310 1726,-316 1726,-322 1726,-322 1726,-381 1726,-381 1726,-387 1720,-393 1714,-393\"/>\r\n",
       "<text text-anchor=\"middle\" x=\"1633.5\" y=\"-377.8\" font-family=\"Helvetica,sans-Serif\" font-size=\"14.00\">Recency (months) &lt;= 25.5</text>\r\n",
       "<text text-anchor=\"middle\" x=\"1633.5\" y=\"-362.8\" font-family=\"Helvetica,sans-Serif\" font-size=\"14.00\">gini = 0.077</text>\r\n",
       "<text text-anchor=\"middle\" x=\"1633.5\" y=\"-347.8\" font-family=\"Helvetica,sans-Serif\" font-size=\"14.00\">samples = 12.5%</text>\r\n",
       "<text text-anchor=\"middle\" x=\"1633.5\" y=\"-332.8\" font-family=\"Helvetica,sans-Serif\" font-size=\"14.00\">value = [0.96, 0.04]</text>\r\n",
       "<text text-anchor=\"middle\" x=\"1633.5\" y=\"-317.8\" font-family=\"Helvetica,sans-Serif\" font-size=\"14.00\">class = 1</text>\r\n",
       "</g>\r\n",
       "<!-- 190&#45;&gt;326 -->\r\n",
       "<g id=\"edge34\" class=\"edge\"><title>190&#45;&gt;326</title>\r\n",
       "<path fill=\"none\" stroke=\"black\" d=\"M1393.26,-436.909C1436.2,-421.822 1487.34,-403.854 1531.38,-388.381\"/>\r\n",
       "<polygon fill=\"black\" stroke=\"black\" points=\"1532.68,-391.635 1540.95,-385.018 1530.36,-385.03 1532.68,-391.635\"/>\r\n",
       "</g>\r\n",
       "<!-- 192 -->\r\n",
       "<g id=\"node27\" class=\"node\"><title>192</title>\r\n",
       "<path fill=\"#e99456\" stroke=\"black\" d=\"M1310.5,-274C1310.5,-274 1124.5,-274 1124.5,-274 1118.5,-274 1112.5,-268 1112.5,-262 1112.5,-262 1112.5,-203 1112.5,-203 1112.5,-197 1118.5,-191 1124.5,-191 1124.5,-191 1310.5,-191 1310.5,-191 1316.5,-191 1322.5,-197 1322.5,-203 1322.5,-203 1322.5,-262 1322.5,-262 1322.5,-268 1316.5,-274 1310.5,-274\"/>\r\n",
       "<text text-anchor=\"middle\" x=\"1217.5\" y=\"-258.8\" font-family=\"Helvetica,sans-Serif\" font-size=\"14.00\">Monetary (c.c. blood) &lt;= 375.0</text>\r\n",
       "<text text-anchor=\"middle\" x=\"1217.5\" y=\"-243.8\" font-family=\"Helvetica,sans-Serif\" font-size=\"14.00\">gini = 0.224</text>\r\n",
       "<text text-anchor=\"middle\" x=\"1217.5\" y=\"-228.8\" font-family=\"Helvetica,sans-Serif\" font-size=\"14.00\">samples = 37.8%</text>\r\n",
       "<text text-anchor=\"middle\" x=\"1217.5\" y=\"-213.8\" font-family=\"Helvetica,sans-Serif\" font-size=\"14.00\">value = [0.872, 0.128]</text>\r\n",
       "<text text-anchor=\"middle\" x=\"1217.5\" y=\"-198.8\" font-family=\"Helvetica,sans-Serif\" font-size=\"14.00\">class = 1</text>\r\n",
       "</g>\r\n",
       "<!-- 191&#45;&gt;192 -->\r\n",
       "<g id=\"edge26\" class=\"edge\"><title>191&#45;&gt;192</title>\r\n",
       "<path fill=\"none\" stroke=\"black\" d=\"M1271.7,-309.907C1265.39,-301.014 1258.65,-291.509 1252.14,-282.331\"/>\r\n",
       "<polygon fill=\"black\" stroke=\"black\" points=\"1254.89,-280.152 1246.25,-274.021 1249.18,-284.202 1254.89,-280.152\"/>\r\n",
       "</g>\r\n",
       "<!-- 325 -->\r\n",
       "<g id=\"node34\" class=\"node\"><title>325</title>\r\n",
       "<path fill=\"#399de5\" stroke=\"black\" d=\"M1450,-266.5C1450,-266.5 1353,-266.5 1353,-266.5 1347,-266.5 1341,-260.5 1341,-254.5 1341,-254.5 1341,-210.5 1341,-210.5 1341,-204.5 1347,-198.5 1353,-198.5 1353,-198.5 1450,-198.5 1450,-198.5 1456,-198.5 1462,-204.5 1462,-210.5 1462,-210.5 1462,-254.5 1462,-254.5 1462,-260.5 1456,-266.5 1450,-266.5\"/>\r\n",
       "<text text-anchor=\"middle\" x=\"1401.5\" y=\"-251.3\" font-family=\"Helvetica,sans-Serif\" font-size=\"14.00\">gini = 0.0</text>\r\n",
       "<text text-anchor=\"middle\" x=\"1401.5\" y=\"-236.3\" font-family=\"Helvetica,sans-Serif\" font-size=\"14.00\">samples = 0.2%</text>\r\n",
       "<text text-anchor=\"middle\" x=\"1401.5\" y=\"-221.3\" font-family=\"Helvetica,sans-Serif\" font-size=\"14.00\">value = [0.0, 1.0]</text>\r\n",
       "<text text-anchor=\"middle\" x=\"1401.5\" y=\"-206.3\" font-family=\"Helvetica,sans-Serif\" font-size=\"14.00\">class = 0</text>\r\n",
       "</g>\r\n",
       "<!-- 191&#45;&gt;325 -->\r\n",
       "<g id=\"edge33\" class=\"edge\"><title>191&#45;&gt;325</title>\r\n",
       "<path fill=\"none\" stroke=\"black\" d=\"M1335.54,-309.907C1345.45,-298.432 1356.23,-285.938 1366.16,-274.442\"/>\r\n",
       "<polygon fill=\"black\" stroke=\"black\" points=\"1368.98,-276.524 1372.87,-266.667 1363.68,-271.95 1368.98,-276.524\"/>\r\n",
       "</g>\r\n",
       "<!-- 193 -->\r\n",
       "<g id=\"node28\" class=\"node\"><title>193</title>\r\n",
       "<path fill=\"#e68843\" stroke=\"black\" d=\"M1279,-155C1279,-155 1142,-155 1142,-155 1136,-155 1130,-149 1130,-143 1130,-143 1130,-84 1130,-84 1130,-78 1136,-72 1142,-72 1142,-72 1279,-72 1279,-72 1285,-72 1291,-78 1291,-84 1291,-84 1291,-143 1291,-143 1291,-149 1285,-155 1279,-155\"/>\r\n",
       "<text text-anchor=\"middle\" x=\"1210.5\" y=\"-139.8\" font-family=\"Helvetica,sans-Serif\" font-size=\"14.00\">Time (months) &lt;= 12.5</text>\r\n",
       "<text text-anchor=\"middle\" x=\"1210.5\" y=\"-124.8\" font-family=\"Helvetica,sans-Serif\" font-size=\"14.00\">gini = 0.095</text>\r\n",
       "<text text-anchor=\"middle\" x=\"1210.5\" y=\"-109.8\" font-family=\"Helvetica,sans-Serif\" font-size=\"14.00\">samples = 6.7%</text>\r\n",
       "<text text-anchor=\"middle\" x=\"1210.5\" y=\"-94.8\" font-family=\"Helvetica,sans-Serif\" font-size=\"14.00\">value = [0.95, 0.05]</text>\r\n",
       "<text text-anchor=\"middle\" x=\"1210.5\" y=\"-79.8\" font-family=\"Helvetica,sans-Serif\" font-size=\"14.00\">class = 1</text>\r\n",
       "</g>\r\n",
       "<!-- 192&#45;&gt;193 -->\r\n",
       "<g id=\"edge27\" class=\"edge\"><title>192&#45;&gt;193</title>\r\n",
       "<path fill=\"none\" stroke=\"black\" d=\"M1215.07,-190.907C1214.57,-182.558 1214.04,-173.671 1213.52,-165.02\"/>\r\n",
       "<polygon fill=\"black\" stroke=\"black\" points=\"1217.02,-164.794 1212.92,-155.021 1210.03,-165.212 1217.02,-164.794\"/>\r\n",
       "</g>\r\n",
       "<!-- 198 -->\r\n",
       "<g id=\"node31\" class=\"node\"><title>198</title>\r\n",
       "<path fill=\"#e9965b\" stroke=\"black\" d=\"M1458,-155C1458,-155 1321,-155 1321,-155 1315,-155 1309,-149 1309,-143 1309,-143 1309,-84 1309,-84 1309,-78 1315,-72 1321,-72 1321,-72 1458,-72 1458,-72 1464,-72 1470,-78 1470,-84 1470,-84 1470,-143 1470,-143 1470,-149 1464,-155 1458,-155\"/>\r\n",
       "<text text-anchor=\"middle\" x=\"1389.5\" y=\"-139.8\" font-family=\"Helvetica,sans-Serif\" font-size=\"14.00\">Time (months) &lt;= 24.0</text>\r\n",
       "<text text-anchor=\"middle\" x=\"1389.5\" y=\"-124.8\" font-family=\"Helvetica,sans-Serif\" font-size=\"14.00\">gini = 0.248</text>\r\n",
       "<text text-anchor=\"middle\" x=\"1389.5\" y=\"-109.8\" font-family=\"Helvetica,sans-Serif\" font-size=\"14.00\">samples = 31.1%</text>\r\n",
       "<text text-anchor=\"middle\" x=\"1389.5\" y=\"-94.8\" font-family=\"Helvetica,sans-Serif\" font-size=\"14.00\">value = [0.855, 0.145]</text>\r\n",
       "<text text-anchor=\"middle\" x=\"1389.5\" y=\"-79.8\" font-family=\"Helvetica,sans-Serif\" font-size=\"14.00\">class = 1</text>\r\n",
       "</g>\r\n",
       "<!-- 192&#45;&gt;198 -->\r\n",
       "<g id=\"edge30\" class=\"edge\"><title>192&#45;&gt;198</title>\r\n",
       "<path fill=\"none\" stroke=\"black\" d=\"M1277.17,-190.907C1291.45,-181.197 1306.8,-170.758 1321.42,-160.811\"/>\r\n",
       "<polygon fill=\"black\" stroke=\"black\" points=\"1323.63,-163.539 1329.93,-155.021 1319.69,-157.751 1323.63,-163.539\"/>\r\n",
       "</g>\r\n",
       "<!-- 194 -->\r\n",
       "<g id=\"node29\" class=\"node\"><title>194</title>\r\n",
       "<path fill=\"#c0c0c0\" stroke=\"black\" d=\"M1202.5,-36C1202.5,-36 1172.5,-36 1172.5,-36 1166.5,-36 1160.5,-30 1160.5,-24 1160.5,-24 1160.5,-12 1160.5,-12 1160.5,-6 1166.5,-0 1172.5,-0 1172.5,-0 1202.5,-0 1202.5,-0 1208.5,-0 1214.5,-6 1214.5,-12 1214.5,-12 1214.5,-24 1214.5,-24 1214.5,-30 1208.5,-36 1202.5,-36\"/>\r\n",
       "<text text-anchor=\"middle\" x=\"1187.5\" y=\"-14.3\" font-family=\"Helvetica,sans-Serif\" font-size=\"14.00\">(...)</text>\r\n",
       "</g>\r\n",
       "<!-- 193&#45;&gt;194 -->\r\n",
       "<g id=\"edge28\" class=\"edge\"><title>193&#45;&gt;194</title>\r\n",
       "<path fill=\"none\" stroke=\"black\" d=\"M1200.48,-71.7615C1198.36,-63.1387 1196.17,-54.2385 1194.21,-46.2606\"/>\r\n",
       "<polygon fill=\"black\" stroke=\"black\" points=\"1197.57,-45.2796 1191.78,-36.4051 1190.77,-46.9517 1197.57,-45.2796\"/>\r\n",
       "</g>\r\n",
       "<!-- 197 -->\r\n",
       "<g id=\"node30\" class=\"node\"><title>197</title>\r\n",
       "<path fill=\"#c0c0c0\" stroke=\"black\" d=\"M1274.5,-36C1274.5,-36 1244.5,-36 1244.5,-36 1238.5,-36 1232.5,-30 1232.5,-24 1232.5,-24 1232.5,-12 1232.5,-12 1232.5,-6 1238.5,-0 1244.5,-0 1244.5,-0 1274.5,-0 1274.5,-0 1280.5,-0 1286.5,-6 1286.5,-12 1286.5,-12 1286.5,-24 1286.5,-24 1286.5,-30 1280.5,-36 1274.5,-36\"/>\r\n",
       "<text text-anchor=\"middle\" x=\"1259.5\" y=\"-14.3\" font-family=\"Helvetica,sans-Serif\" font-size=\"14.00\">(...)</text>\r\n",
       "</g>\r\n",
       "<!-- 193&#45;&gt;197 -->\r\n",
       "<g id=\"edge29\" class=\"edge\"><title>193&#45;&gt;197</title>\r\n",
       "<path fill=\"none\" stroke=\"black\" d=\"M1231.85,-71.7615C1236.52,-62.8481 1241.35,-53.6382 1245.63,-45.4571\"/>\r\n",
       "<polygon fill=\"black\" stroke=\"black\" points=\"1248.84,-46.8872 1250.38,-36.4051 1242.64,-43.6378 1248.84,-46.8872\"/>\r\n",
       "</g>\r\n",
       "<!-- 199 -->\r\n",
       "<g id=\"node32\" class=\"node\"><title>199</title>\r\n",
       "<path fill=\"#c0c0c0\" stroke=\"black\" d=\"M1389.5,-36C1389.5,-36 1359.5,-36 1359.5,-36 1353.5,-36 1347.5,-30 1347.5,-24 1347.5,-24 1347.5,-12 1347.5,-12 1347.5,-6 1353.5,-0 1359.5,-0 1359.5,-0 1389.5,-0 1389.5,-0 1395.5,-0 1401.5,-6 1401.5,-12 1401.5,-12 1401.5,-24 1401.5,-24 1401.5,-30 1395.5,-36 1389.5,-36\"/>\r\n",
       "<text text-anchor=\"middle\" x=\"1374.5\" y=\"-14.3\" font-family=\"Helvetica,sans-Serif\" font-size=\"14.00\">(...)</text>\r\n",
       "</g>\r\n",
       "<!-- 198&#45;&gt;199 -->\r\n",
       "<g id=\"edge31\" class=\"edge\"><title>198&#45;&gt;199</title>\r\n",
       "<path fill=\"none\" stroke=\"black\" d=\"M1382.96,-71.7615C1381.6,-63.2356 1380.19,-54.4385 1378.92,-46.5299\"/>\r\n",
       "<polygon fill=\"black\" stroke=\"black\" points=\"1382.33,-45.7244 1377.29,-36.4051 1375.42,-46.8333 1382.33,-45.7244\"/>\r\n",
       "</g>\r\n",
       "<!-- 244 -->\r\n",
       "<g id=\"node33\" class=\"node\"><title>244</title>\r\n",
       "<path fill=\"#c0c0c0\" stroke=\"black\" d=\"M1461.5,-36C1461.5,-36 1431.5,-36 1431.5,-36 1425.5,-36 1419.5,-30 1419.5,-24 1419.5,-24 1419.5,-12 1419.5,-12 1419.5,-6 1425.5,-0 1431.5,-0 1431.5,-0 1461.5,-0 1461.5,-0 1467.5,-0 1473.5,-6 1473.5,-12 1473.5,-12 1473.5,-24 1473.5,-24 1473.5,-30 1467.5,-36 1461.5,-36\"/>\r\n",
       "<text text-anchor=\"middle\" x=\"1446.5\" y=\"-14.3\" font-family=\"Helvetica,sans-Serif\" font-size=\"14.00\">(...)</text>\r\n",
       "</g>\r\n",
       "<!-- 198&#45;&gt;244 -->\r\n",
       "<g id=\"edge32\" class=\"edge\"><title>198&#45;&gt;244</title>\r\n",
       "<path fill=\"none\" stroke=\"black\" d=\"M1414.34,-71.7615C1419.83,-62.7512 1425.51,-53.4379 1430.53,-45.1906\"/>\r\n",
       "<polygon fill=\"black\" stroke=\"black\" points=\"1433.67,-46.7654 1435.89,-36.4051 1427.7,-43.1217 1433.67,-46.7654\"/>\r\n",
       "</g>\r\n",
       "<!-- 327 -->\r\n",
       "<g id=\"node36\" class=\"node\"><title>327</title>\r\n",
       "<path fill=\"#e6853f\" stroke=\"black\" d=\"M1714,-274C1714,-274 1553,-274 1553,-274 1547,-274 1541,-268 1541,-262 1541,-262 1541,-203 1541,-203 1541,-197 1547,-191 1553,-191 1553,-191 1714,-191 1714,-191 1720,-191 1726,-197 1726,-203 1726,-203 1726,-262 1726,-262 1726,-268 1720,-274 1714,-274\"/>\r\n",
       "<text text-anchor=\"middle\" x=\"1633.5\" y=\"-258.8\" font-family=\"Helvetica,sans-Serif\" font-size=\"14.00\">Recency (months) &lt;= 22.5</text>\r\n",
       "<text text-anchor=\"middle\" x=\"1633.5\" y=\"-243.8\" font-family=\"Helvetica,sans-Serif\" font-size=\"14.00\">gini = 0.056</text>\r\n",
       "<text text-anchor=\"middle\" x=\"1633.5\" y=\"-228.8\" font-family=\"Helvetica,sans-Serif\" font-size=\"14.00\">samples = 11.7%</text>\r\n",
       "<text text-anchor=\"middle\" x=\"1633.5\" y=\"-213.8\" font-family=\"Helvetica,sans-Serif\" font-size=\"14.00\">value = [0.971, 0.029]</text>\r\n",
       "<text text-anchor=\"middle\" x=\"1633.5\" y=\"-198.8\" font-family=\"Helvetica,sans-Serif\" font-size=\"14.00\">class = 1</text>\r\n",
       "</g>\r\n",
       "<!-- 326&#45;&gt;327 -->\r\n",
       "<g id=\"edge35\" class=\"edge\"><title>326&#45;&gt;327</title>\r\n",
       "<path fill=\"none\" stroke=\"black\" d=\"M1633.5,-309.907C1633.5,-301.649 1633.5,-292.864 1633.5,-284.302\"/>\r\n",
       "<polygon fill=\"black\" stroke=\"black\" points=\"1637,-284.021 1633.5,-274.021 1630,-284.021 1637,-284.021\"/>\r\n",
       "</g>\r\n",
       "<!-- 336 -->\r\n",
       "<g id=\"node41\" class=\"node\"><title>336</title>\r\n",
       "<path fill=\"#eca06a\" stroke=\"black\" d=\"M1971,-274C1971,-274 1810,-274 1810,-274 1804,-274 1798,-268 1798,-262 1798,-262 1798,-203 1798,-203 1798,-197 1804,-191 1810,-191 1810,-191 1971,-191 1971,-191 1977,-191 1983,-197 1983,-203 1983,-203 1983,-262 1983,-262 1983,-268 1977,-274 1971,-274\"/>\r\n",
       "<text text-anchor=\"middle\" x=\"1890.5\" y=\"-258.8\" font-family=\"Helvetica,sans-Serif\" font-size=\"14.00\">Recency (months) &lt;= 32.0</text>\r\n",
       "<text text-anchor=\"middle\" x=\"1890.5\" y=\"-243.8\" font-family=\"Helvetica,sans-Serif\" font-size=\"14.00\">gini = 0.32</text>\r\n",
       "<text text-anchor=\"middle\" x=\"1890.5\" y=\"-228.8\" font-family=\"Helvetica,sans-Serif\" font-size=\"14.00\">samples = 0.8%</text>\r\n",
       "<text text-anchor=\"middle\" x=\"1890.5\" y=\"-213.8\" font-family=\"Helvetica,sans-Serif\" font-size=\"14.00\">value = [0.8, 0.2]</text>\r\n",
       "<text text-anchor=\"middle\" x=\"1890.5\" y=\"-198.8\" font-family=\"Helvetica,sans-Serif\" font-size=\"14.00\">class = 1</text>\r\n",
       "</g>\r\n",
       "<!-- 326&#45;&gt;336 -->\r\n",
       "<g id=\"edge40\" class=\"edge\"><title>326&#45;&gt;336</title>\r\n",
       "<path fill=\"none\" stroke=\"black\" d=\"M1722.66,-309.907C1745.09,-299.698 1769.29,-288.683 1792.13,-278.282\"/>\r\n",
       "<polygon fill=\"black\" stroke=\"black\" points=\"1793.84,-281.35 1801.49,-274.021 1790.94,-274.979 1793.84,-281.35\"/>\r\n",
       "</g>\r\n",
       "<!-- 328 -->\r\n",
       "<g id=\"node37\" class=\"node\"><title>328</title>\r\n",
       "<path fill=\"#e78946\" stroke=\"black\" d=\"M1661,-155C1661,-155 1500,-155 1500,-155 1494,-155 1488,-149 1488,-143 1488,-143 1488,-84 1488,-84 1488,-78 1494,-72 1500,-72 1500,-72 1661,-72 1661,-72 1667,-72 1673,-78 1673,-84 1673,-84 1673,-143 1673,-143 1673,-149 1667,-155 1661,-155\"/>\r\n",
       "<text text-anchor=\"middle\" x=\"1580.5\" y=\"-139.8\" font-family=\"Helvetica,sans-Serif\" font-size=\"14.00\">Recency (months) &lt;= 21.5</text>\r\n",
       "<text text-anchor=\"middle\" x=\"1580.5\" y=\"-124.8\" font-family=\"Helvetica,sans-Serif\" font-size=\"14.00\">gini = 0.117</text>\r\n",
       "<text text-anchor=\"middle\" x=\"1580.5\" y=\"-109.8\" font-family=\"Helvetica,sans-Serif\" font-size=\"14.00\">samples = 5.4%</text>\r\n",
       "<text text-anchor=\"middle\" x=\"1580.5\" y=\"-94.8\" font-family=\"Helvetica,sans-Serif\" font-size=\"14.00\">value = [0.938, 0.062]</text>\r\n",
       "<text text-anchor=\"middle\" x=\"1580.5\" y=\"-79.8\" font-family=\"Helvetica,sans-Serif\" font-size=\"14.00\">class = 1</text>\r\n",
       "</g>\r\n",
       "<!-- 327&#45;&gt;328 -->\r\n",
       "<g id=\"edge36\" class=\"edge\"><title>327&#45;&gt;328</title>\r\n",
       "<path fill=\"none\" stroke=\"black\" d=\"M1615.11,-190.907C1611.21,-182.286 1607.04,-173.09 1603,-164.175\"/>\r\n",
       "<polygon fill=\"black\" stroke=\"black\" points=\"1606.17,-162.686 1598.86,-155.021 1599.79,-165.574 1606.17,-162.686\"/>\r\n",
       "</g>\r\n",
       "<!-- 335 -->\r\n",
       "<g id=\"node40\" class=\"node\"><title>335</title>\r\n",
       "<path fill=\"#e58139\" stroke=\"black\" d=\"M1800,-147.5C1800,-147.5 1703,-147.5 1703,-147.5 1697,-147.5 1691,-141.5 1691,-135.5 1691,-135.5 1691,-91.5 1691,-91.5 1691,-85.5 1697,-79.5 1703,-79.5 1703,-79.5 1800,-79.5 1800,-79.5 1806,-79.5 1812,-85.5 1812,-91.5 1812,-91.5 1812,-135.5 1812,-135.5 1812,-141.5 1806,-147.5 1800,-147.5\"/>\r\n",
       "<text text-anchor=\"middle\" x=\"1751.5\" y=\"-132.3\" font-family=\"Helvetica,sans-Serif\" font-size=\"14.00\">gini = 0.0</text>\r\n",
       "<text text-anchor=\"middle\" x=\"1751.5\" y=\"-117.3\" font-family=\"Helvetica,sans-Serif\" font-size=\"14.00\">samples = 6.4%</text>\r\n",
       "<text text-anchor=\"middle\" x=\"1751.5\" y=\"-102.3\" font-family=\"Helvetica,sans-Serif\" font-size=\"14.00\">value = [1.0, 0.0]</text>\r\n",
       "<text text-anchor=\"middle\" x=\"1751.5\" y=\"-87.3\" font-family=\"Helvetica,sans-Serif\" font-size=\"14.00\">class = 1</text>\r\n",
       "</g>\r\n",
       "<!-- 327&#45;&gt;335 -->\r\n",
       "<g id=\"edge39\" class=\"edge\"><title>327&#45;&gt;335</title>\r\n",
       "<path fill=\"none\" stroke=\"black\" d=\"M1674.44,-190.907C1686.24,-179.211 1699.1,-166.457 1710.88,-154.78\"/>\r\n",
       "<polygon fill=\"black\" stroke=\"black\" points=\"1713.41,-157.193 1718.05,-147.667 1708.48,-152.222 1713.41,-157.193\"/>\r\n",
       "</g>\r\n",
       "<!-- 329 -->\r\n",
       "<g id=\"node38\" class=\"node\"><title>329</title>\r\n",
       "<path fill=\"#c0c0c0\" stroke=\"black\" d=\"M1538.5,-36C1538.5,-36 1508.5,-36 1508.5,-36 1502.5,-36 1496.5,-30 1496.5,-24 1496.5,-24 1496.5,-12 1496.5,-12 1496.5,-6 1502.5,-0 1508.5,-0 1508.5,-0 1538.5,-0 1538.5,-0 1544.5,-0 1550.5,-6 1550.5,-12 1550.5,-12 1550.5,-24 1550.5,-24 1550.5,-30 1544.5,-36 1538.5,-36\"/>\r\n",
       "<text text-anchor=\"middle\" x=\"1523.5\" y=\"-14.3\" font-family=\"Helvetica,sans-Serif\" font-size=\"14.00\">(...)</text>\r\n",
       "</g>\r\n",
       "<!-- 328&#45;&gt;329 -->\r\n",
       "<g id=\"edge37\" class=\"edge\"><title>328&#45;&gt;329</title>\r\n",
       "<path fill=\"none\" stroke=\"black\" d=\"M1555.66,-71.7615C1550.17,-62.7512 1544.49,-53.4379 1539.47,-45.1906\"/>\r\n",
       "<polygon fill=\"black\" stroke=\"black\" points=\"1542.3,-43.1217 1534.11,-36.4051 1536.33,-46.7654 1542.3,-43.1217\"/>\r\n",
       "</g>\r\n",
       "<!-- 334 -->\r\n",
       "<g id=\"node39\" class=\"node\"><title>334</title>\r\n",
       "<path fill=\"#c0c0c0\" stroke=\"black\" d=\"M1610.5,-36C1610.5,-36 1580.5,-36 1580.5,-36 1574.5,-36 1568.5,-30 1568.5,-24 1568.5,-24 1568.5,-12 1568.5,-12 1568.5,-6 1574.5,-0 1580.5,-0 1580.5,-0 1610.5,-0 1610.5,-0 1616.5,-0 1622.5,-6 1622.5,-12 1622.5,-12 1622.5,-24 1622.5,-24 1622.5,-30 1616.5,-36 1610.5,-36\"/>\r\n",
       "<text text-anchor=\"middle\" x=\"1595.5\" y=\"-14.3\" font-family=\"Helvetica,sans-Serif\" font-size=\"14.00\">(...)</text>\r\n",
       "</g>\r\n",
       "<!-- 328&#45;&gt;334 -->\r\n",
       "<g id=\"edge38\" class=\"edge\"><title>328&#45;&gt;334</title>\r\n",
       "<path fill=\"none\" stroke=\"black\" d=\"M1587.04,-71.7615C1588.4,-63.2356 1589.81,-54.4385 1591.08,-46.5299\"/>\r\n",
       "<polygon fill=\"black\" stroke=\"black\" points=\"1594.58,-46.8333 1592.71,-36.4051 1587.67,-45.7244 1594.58,-46.8333\"/>\r\n",
       "</g>\r\n",
       "<!-- 337 -->\r\n",
       "<g id=\"node42\" class=\"node\"><title>337</title>\r\n",
       "<path fill=\"#399de5\" stroke=\"black\" d=\"M1939,-147.5C1939,-147.5 1842,-147.5 1842,-147.5 1836,-147.5 1830,-141.5 1830,-135.5 1830,-135.5 1830,-91.5 1830,-91.5 1830,-85.5 1836,-79.5 1842,-79.5 1842,-79.5 1939,-79.5 1939,-79.5 1945,-79.5 1951,-85.5 1951,-91.5 1951,-91.5 1951,-135.5 1951,-135.5 1951,-141.5 1945,-147.5 1939,-147.5\"/>\r\n",
       "<text text-anchor=\"middle\" x=\"1890.5\" y=\"-132.3\" font-family=\"Helvetica,sans-Serif\" font-size=\"14.00\">gini = 0.0</text>\r\n",
       "<text text-anchor=\"middle\" x=\"1890.5\" y=\"-117.3\" font-family=\"Helvetica,sans-Serif\" font-size=\"14.00\">samples = 0.2%</text>\r\n",
       "<text text-anchor=\"middle\" x=\"1890.5\" y=\"-102.3\" font-family=\"Helvetica,sans-Serif\" font-size=\"14.00\">value = [0.0, 1.0]</text>\r\n",
       "<text text-anchor=\"middle\" x=\"1890.5\" y=\"-87.3\" font-family=\"Helvetica,sans-Serif\" font-size=\"14.00\">class = 0</text>\r\n",
       "</g>\r\n",
       "<!-- 336&#45;&gt;337 -->\r\n",
       "<g id=\"edge41\" class=\"edge\"><title>336&#45;&gt;337</title>\r\n",
       "<path fill=\"none\" stroke=\"black\" d=\"M1890.5,-190.907C1890.5,-180.204 1890.5,-168.615 1890.5,-157.776\"/>\r\n",
       "<polygon fill=\"black\" stroke=\"black\" points=\"1894,-157.667 1890.5,-147.667 1887,-157.667 1894,-157.667\"/>\r\n",
       "</g>\r\n",
       "<!-- 338 -->\r\n",
       "<g id=\"node43\" class=\"node\"><title>338</title>\r\n",
       "<path fill=\"#e58139\" stroke=\"black\" d=\"M2078,-147.5C2078,-147.5 1981,-147.5 1981,-147.5 1975,-147.5 1969,-141.5 1969,-135.5 1969,-135.5 1969,-91.5 1969,-91.5 1969,-85.5 1975,-79.5 1981,-79.5 1981,-79.5 2078,-79.5 2078,-79.5 2084,-79.5 2090,-85.5 2090,-91.5 2090,-91.5 2090,-135.5 2090,-135.5 2090,-141.5 2084,-147.5 2078,-147.5\"/>\r\n",
       "<text text-anchor=\"middle\" x=\"2029.5\" y=\"-132.3\" font-family=\"Helvetica,sans-Serif\" font-size=\"14.00\">gini = 0.0</text>\r\n",
       "<text text-anchor=\"middle\" x=\"2029.5\" y=\"-117.3\" font-family=\"Helvetica,sans-Serif\" font-size=\"14.00\">samples = 0.7%</text>\r\n",
       "<text text-anchor=\"middle\" x=\"2029.5\" y=\"-102.3\" font-family=\"Helvetica,sans-Serif\" font-size=\"14.00\">value = [1.0, 0.0]</text>\r\n",
       "<text text-anchor=\"middle\" x=\"2029.5\" y=\"-87.3\" font-family=\"Helvetica,sans-Serif\" font-size=\"14.00\">class = 1</text>\r\n",
       "</g>\r\n",
       "<!-- 336&#45;&gt;338 -->\r\n",
       "<g id=\"edge42\" class=\"edge\"><title>336&#45;&gt;338</title>\r\n",
       "<path fill=\"none\" stroke=\"black\" d=\"M1938.73,-190.907C1952.88,-178.99 1968.35,-165.976 1982.43,-154.12\"/>\r\n",
       "<polygon fill=\"black\" stroke=\"black\" points=\"1984.7,-156.784 1990.1,-147.667 1980.19,-151.429 1984.7,-156.784\"/>\r\n",
       "</g>\r\n",
       "</g>\r\n",
       "</svg>\r\n"
      ],
      "text/plain": [
       "<graphviz.files.Source at 0x20bf736bf10>"
      ]
     },
     "execution_count": 55,
     "metadata": {},
     "output_type": "execute_result"
    }
   ],
   "source": [
    "# Export the Decision Tree to a GraphViz data file\n",
    "graph = Source(graph_data)\n",
    "graph.format = 'png'\n",
    "# create the visual object\n",
    "graph.render(filename='output')\n",
    "# show it\n",
    "graph"
   ]
  },
  {
   "cell_type": "markdown",
   "metadata": {
    "colab_type": "text",
    "id": "IS5Tc4z9FoYy"
   },
   "source": [
    ">"
   ]
  },
  {
   "cell_type": "markdown",
   "metadata": {
    "colab_type": "text",
    "id": "mxI2We9OFpfs"
   },
   "source": [
    ">"
   ]
  },
  {
   "cell_type": "markdown",
   "metadata": {
    "colab_type": "text",
    "id": "81DoNxN1FqGN"
   },
   "source": [
    ">"
   ]
  },
  {
   "cell_type": "markdown",
   "metadata": {
    "colab_type": "text",
    "id": "RERADKgNFq9T"
   },
   "source": [
    "\n",
    "\n",
    "---\n",
    "\n",
    "\n",
    "\n",
    "---\n",
    "\n",
    "\n",
    "\n",
    "> > > > > > > > > © 2019 Institute of Data\n",
    "\n",
    "\n",
    "---\n",
    "\n",
    "\n",
    "\n",
    "---\n",
    "\n",
    "\n",
    "\n"
   ]
  }
 ],
 "metadata": {
  "colab": {
   "collapsed_sections": [],
   "name": "DSIA Lab-7_1.ipynb",
   "provenance": []
  },
  "kernelspec": {
   "display_name": "Python 3",
   "language": "python",
   "name": "python3"
  },
  "language_info": {
   "codemirror_mode": {
    "name": "ipython",
    "version": 3
   },
   "file_extension": ".py",
   "mimetype": "text/x-python",
   "name": "python",
   "nbconvert_exporter": "python",
   "pygments_lexer": "ipython3",
   "version": "3.8.3"
  }
 },
 "nbformat": 4,
 "nbformat_minor": 1
}
