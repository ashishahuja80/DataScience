{
 "cells": [
  {
   "cell_type": "markdown",
   "metadata": {
    "colab_type": "text",
    "id": "iA6gMzOAsIgo"
   },
   "source": [
    "<div>\n",
    "<img src=https://www.institutedata.com/wp-content/uploads/2019/10/iod_h_tp_primary_c.svg width=\"300\">\n",
    "</div>"
   ]
  },
  {
   "cell_type": "markdown",
   "metadata": {
    "colab_type": "text",
    "id": "6v4X9aDpRxRn"
   },
   "source": [
    "# Numpy Exploration"
   ]
  },
  {
   "cell_type": "code",
   "execution_count": 1,
   "metadata": {
    "colab": {},
    "colab_type": "code",
    "id": "hefHy7RERxRp"
   },
   "outputs": [],
   "source": [
    "import numpy as np\n",
    "import matplotlib.pyplot as plt\n",
    "import matplotlib\n",
    "\n",
    "# get matplot to show charts inline\n",
    "%matplotlib inline"
   ]
  },
  {
   "cell_type": "code",
   "execution_count": 2,
   "metadata": {
    "colab": {},
    "colab_type": "code",
    "id": "hW87a--DRxRu"
   },
   "outputs": [],
   "source": [
    "height= np.round(np.random.normal(1.75, 0.20, 7000), 2)\n",
    "weight= np.round(np.random.normal(60.32, 15, 7000), 2)\n",
    "population=np.column_stack((height, weight))"
   ]
  },
  {
   "cell_type": "code",
   "execution_count": null,
   "metadata": {},
   "outputs": [],
   "source": [
    "np.random.normal()"
   ]
  },
  {
   "cell_type": "code",
   "execution_count": 3,
   "metadata": {
    "colab": {
     "base_uri": "https://localhost:8080/",
     "height": 227
    },
    "colab_type": "code",
    "executionInfo": {
     "elapsed": 820,
     "status": "ok",
     "timestamp": 1552619080325,
     "user": {
      "displayName": "",
      "photoUrl": "",
      "userId": ""
     },
     "user_tz": -660
    },
    "id": "EmcwT6cDTv3J",
    "outputId": "294c965d-ca92-41f9-95e3-65bfdb7d775f"
   },
   "outputs": [
    {
     "name": "stdout",
     "output_type": "stream",
     "text": [
      "height:\n",
      " [2.   1.79 1.71 ... 1.97 1.71 1.96]\n",
      "weight:\n",
      " [57.28 51.01 56.79 ... 55.64 52.1  70.46]\n",
      "population:\n",
      " [[ 2.   57.28]\n",
      " [ 1.79 51.01]\n",
      " [ 1.71 56.79]\n",
      " ...\n",
      " [ 1.97 55.64]\n",
      " [ 1.71 52.1 ]\n",
      " [ 1.96 70.46]]\n"
     ]
    }
   ],
   "source": [
    "print('height:\\n',height)\n",
    "print('weight:\\n',weight)\n",
    "print('population:\\n',population)"
   ]
  },
  {
   "cell_type": "markdown",
   "metadata": {
    "colab_type": "text",
    "id": "FXVi-lphTHs2"
   },
   "source": [
    "**1. Find Dimension of Array**\n",
    "\n",
    "Find dimention of each array: height, weight, population\n",
    "```\n",
    "# Expected Ouput\n",
    "np.ndim(height): 1\n",
    "np.ndim(weight): 1\n",
    "np.ndim(population): 2\n",
    "```"
   ]
  },
  {
   "cell_type": "code",
   "execution_count": 6,
   "metadata": {},
   "outputs": [
    {
     "name": "stdout",
     "output_type": "stream",
     "text": [
      "dimension 1\n"
     ]
    },
    {
     "data": {
      "text/plain": [
       "2"
      ]
     },
     "execution_count": 6,
     "metadata": {},
     "output_type": "execute_result"
    }
   ],
   "source": [
    "print('dimension',np.ndim(height))\n",
    "np.ndim(population)"
   ]
  },
  {
   "cell_type": "markdown",
   "metadata": {
    "colab_type": "text",
    "id": "_TGkqif9T44j"
   },
   "source": [
    "**2. Find Shape of Array**\n",
    "\n",
    "Find shape of each array: height, weight, population\n",
    "```\n",
    "# Expected Ouput\n",
    "np.shape(height) : (7000,)\n",
    "np.shape(weight) : (7000,)\n",
    "np.shape(population) : (7000, 2)\n",
    "```\n",
    "\n"
   ]
  },
  {
   "cell_type": "code",
   "execution_count": 7,
   "metadata": {},
   "outputs": [
    {
     "name": "stdout",
     "output_type": "stream",
     "text": [
      "height shape (7000,)\n",
      "weight shape (7000,)\n",
      "population shape (7000,)\n"
     ]
    }
   ],
   "source": [
    "print('height shape', np.shape(height))\n",
    "print('weight shape', np.shape(weight))\n",
    "print('population shape', np.shape(height))"
   ]
  },
  {
   "cell_type": "markdown",
   "metadata": {
    "colab_type": "text",
    "id": "I1x7cNp0UIkp"
   },
   "source": [
    "**3. Find Size of Array**\n",
    "\n",
    "Find shape of each array: height, weight, population\n",
    "```\n",
    "# Expected Ouput:\n",
    "np.size(height) : 7000\n",
    "np.size(weight) : 7000\n",
    "np.size(weight) : 14000\n",
    "```\n",
    "\n"
   ]
  },
  {
   "cell_type": "code",
   "execution_count": 8,
   "metadata": {},
   "outputs": [
    {
     "name": "stdout",
     "output_type": "stream",
     "text": [
      "height size 7000\n",
      "weight size 7000\n",
      "population size 14000\n"
     ]
    }
   ],
   "source": [
    "print('height size', np.size(height))\n",
    "print('weight size', np.size(weight))\n",
    "print('population size', np.size(population))"
   ]
  },
  {
   "cell_type": "markdown",
   "metadata": {
    "colab_type": "text",
    "id": "v1N4xcurUVCS"
   },
   "source": [
    "**4. Find Size of Items of Each Array**\n",
    "\n",
    "Find size of items each array: height, weight, population\n",
    "```\n",
    "# Expected Output:\n",
    "height.itemsize : 8\n",
    "weight.itemsize : 8\n",
    "population.itemsize : 8\n",
    "```"
   ]
  },
  {
   "cell_type": "code",
   "execution_count": 10,
   "metadata": {},
   "outputs": [
    {
     "name": "stdout",
     "output_type": "stream",
     "text": [
      "8\n",
      "8\n",
      "8\n"
     ]
    }
   ],
   "source": [
    "print(height.itemsize)\n",
    "print(weight.itemsize)\n",
    "print(population.itemsize)\n"
   ]
  },
  {
   "cell_type": "markdown",
   "metadata": {
    "colab_type": "text",
    "id": "r83X2u4HUteY"
   },
   "source": [
    "**4. Find Minimum Value of Each Array**\n",
    "\n",
    "Find minimum value of each array: height, weight, population\n",
    "```\n",
    "# Expected Output:\n",
    "height.min : 1.0\n",
    "weight.min : 3.24\n",
    "population.min : 1.0\n",
    "```\n",
    "\n"
   ]
  },
  {
   "cell_type": "code",
   "execution_count": 12,
   "metadata": {},
   "outputs": [
    {
     "name": "stdout",
     "output_type": "stream",
     "text": [
      "1.04\n",
      "3.24\n",
      "1.04\n"
     ]
    }
   ],
   "source": [
    "print(height.min())\n",
    "print(weight.min())\n",
    "print(population.min())"
   ]
  },
  {
   "cell_type": "markdown",
   "metadata": {
    "colab_type": "text",
    "id": "d7v4phGMVAu0"
   },
   "source": [
    "**5. Find Maximum Value of Each Array**\n",
    "\n",
    "Find maximum value of each array: height, weight, population\n",
    "```\n",
    "# Expected Output\n",
    "height.max() : 2.51\n",
    "weight.max() : 132.17\n",
    "population.max() : 132.17\n",
    "```"
   ]
  },
  {
   "cell_type": "code",
   "execution_count": 13,
   "metadata": {},
   "outputs": [
    {
     "name": "stdout",
     "output_type": "stream",
     "text": [
      "2.53\n",
      "117.39\n",
      "117.39\n"
     ]
    }
   ],
   "source": [
    "print(height.max())\n",
    "print(weight.max())\n",
    "print(population.max())"
   ]
  },
  {
   "cell_type": "markdown",
   "metadata": {
    "colab_type": "text",
    "id": "vYPOvoePVa0m"
   },
   "source": [
    "**6. Find Mean Value of Each Array**\n",
    "\n",
    "Find maximum value of each array: height, weight, population\n",
    "```\n",
    "# Expected Output\n",
    "height.mean() : 1.7494871428571428\n",
    "weight.mean() : 60.41684428571429\n",
    "population.mean() : 31.083165714285716\n",
    "```\n",
    "\n"
   ]
  },
  {
   "cell_type": "code",
   "execution_count": 14,
   "metadata": {},
   "outputs": [
    {
     "name": "stdout",
     "output_type": "stream",
     "text": [
      "1.7516399999999999\n",
      "60.24833285714286\n",
      "30.999986428571425\n"
     ]
    }
   ],
   "source": [
    "print(height.mean())\n",
    "print(weight.mean())\n",
    "print(population.mean())"
   ]
  },
  {
   "cell_type": "markdown",
   "metadata": {
    "colab_type": "text",
    "id": "Xo7Y5yQPV070"
   },
   "source": [
    "**6. Find Standard Deviation of Each Array**\n",
    "\n",
    "Find standard deviation value of each array: height, weight, population\n",
    "```\n",
    "# Expected Output\n",
    "height.std() : 0.1981923748970856\n",
    "weight.std() : 14.821310711612284\n",
    "population.std() : 31.090684288943482\n",
    "```"
   ]
  },
  {
   "cell_type": "code",
   "execution_count": 15,
   "metadata": {},
   "outputs": [
    {
     "name": "stdout",
     "output_type": "stream",
     "text": [
      "0.19898929361005474\n",
      "14.855850521617223\n",
      "31.07786534714909\n"
     ]
    }
   ],
   "source": [
    "print(height.std())\n",
    "print(weight.std())\n",
    "print(population.std())"
   ]
  },
  {
   "cell_type": "markdown",
   "metadata": {
    "colab_type": "text",
    "id": "tOsfNOAbWHGQ"
   },
   "source": [
    "**7. Find Total value of Each Array**\n",
    "\n",
    "Find total value of each array: height, weight, population\n",
    "```\n",
    "# Expected Output\n",
    "height.sum() : 12219.789999999999\n",
    "weight.sum() : 422009.95\n",
    "population.sum() : 434229.74\n",
    "```"
   ]
  },
  {
   "cell_type": "code",
   "execution_count": 19,
   "metadata": {},
   "outputs": [
    {
     "name": "stdout",
     "output_type": "stream",
     "text": [
      "12261.48\n",
      "421738.33\n",
      "433999.80999999994\n"
     ]
    }
   ],
   "source": [
    "print(height.sum())\n",
    "print(weight.sum())\n",
    "print(population.sum())"
   ]
  },
  {
   "cell_type": "markdown",
   "metadata": {
    "colab_type": "text",
    "id": "J11tIVhEWfcI"
   },
   "source": [
    "**8. Create a histogram of height and weight**"
   ]
  },
  {
   "cell_type": "code",
   "execution_count": 0,
   "metadata": {
    "colab": {
     "base_uri": "https://localhost:8080/",
     "height": 3834
    },
    "colab_type": "code",
    "executionInfo": {
     "elapsed": 871,
     "status": "ok",
     "timestamp": 1552619858866,
     "user": {
      "displayName": "",
      "photoUrl": "",
      "userId": ""
     },
     "user_tz": -660
    },
    "id": "gOsaH1wYWsnl",
    "outputId": "16ff210c-6f29-45de-ddff-ba5cfee755c2"
   },
   "outputs": [
    {
     "name": "stdout",
     "output_type": "stream",
     "text": [
      "Help on function hist in module matplotlib.pyplot:\n",
      "\n",
      "hist(x, bins=None, range=None, density=None, weights=None, cumulative=False, bottom=None, histtype='bar', align='mid', orientation='vertical', rwidth=None, log=False, color=None, label=None, stacked=False, normed=None, *, data=None, **kwargs)\n",
      "    Plot a histogram.\n",
      "    \n",
      "    Compute and draw the histogram of *x*. The return value is a\n",
      "    tuple (*n*, *bins*, *patches*) or ([*n0*, *n1*, ...], *bins*,\n",
      "    [*patches0*, *patches1*,...]) if the input contains multiple\n",
      "    data.\n",
      "    \n",
      "    Multiple data can be provided via *x* as a list of datasets\n",
      "    of potentially different length ([*x0*, *x1*, ...]), or as\n",
      "    a 2-D ndarray in which each column is a dataset.  Note that\n",
      "    the ndarray form is transposed relative to the list form.\n",
      "    \n",
      "    Masked arrays are not supported at present.\n",
      "    \n",
      "    Parameters\n",
      "    ----------\n",
      "    x : (n,) array or sequence of (n,) arrays\n",
      "        Input values, this takes either a single array or a sequence of\n",
      "        arrays which are not required to be of the same length.\n",
      "    \n",
      "    bins : int or sequence or str, optional\n",
      "        If an integer is given, ``bins + 1`` bin edges are calculated and\n",
      "        returned, consistent with `numpy.histogram`.\n",
      "    \n",
      "        If `bins` is a sequence, gives bin edges, including left edge of\n",
      "        first bin and right edge of last bin.  In this case, `bins` is\n",
      "        returned unmodified.\n",
      "    \n",
      "        All but the last (righthand-most) bin is half-open.  In other\n",
      "        words, if `bins` is::\n",
      "    \n",
      "            [1, 2, 3, 4]\n",
      "    \n",
      "        then the first bin is ``[1, 2)`` (including 1, but excluding 2) and\n",
      "        the second ``[2, 3)``.  The last bin, however, is ``[3, 4]``, which\n",
      "        *includes* 4.\n",
      "    \n",
      "        Unequally spaced bins are supported if *bins* is a sequence.\n",
      "    \n",
      "        With Numpy 1.11 or newer, you can alternatively provide a string\n",
      "        describing a binning strategy, such as 'auto', 'sturges', 'fd',\n",
      "        'doane', 'scott', 'rice', 'sturges' or 'sqrt', see\n",
      "        `numpy.histogram`.\n",
      "    \n",
      "        The default is taken from :rc:`hist.bins`.\n",
      "    \n",
      "    range : tuple or None, optional\n",
      "        The lower and upper range of the bins. Lower and upper outliers\n",
      "        are ignored. If not provided, *range* is ``(x.min(), x.max())``.\n",
      "        Range has no effect if *bins* is a sequence.\n",
      "    \n",
      "        If *bins* is a sequence or *range* is specified, autoscaling\n",
      "        is based on the specified bin range instead of the\n",
      "        range of x.\n",
      "    \n",
      "        Default is ``None``\n",
      "    \n",
      "    density : bool, optional\n",
      "        If ``True``, the first element of the return tuple will\n",
      "        be the counts normalized to form a probability density, i.e.,\n",
      "        the area (or integral) under the histogram will sum to 1.\n",
      "        This is achieved by dividing the count by the number of\n",
      "        observations times the bin width and not dividing by the total\n",
      "        number of observations. If *stacked* is also ``True``, the sum of\n",
      "        the histograms is normalized to 1.\n",
      "    \n",
      "        Default is ``None`` for both *normed* and *density*. If either is\n",
      "        set, then that value will be used. If neither are set, then the\n",
      "        args will be treated as ``False``.\n",
      "    \n",
      "        If both *density* and *normed* are set an error is raised.\n",
      "    \n",
      "    weights : (n, ) array_like or None, optional\n",
      "        An array of weights, of the same shape as *x*.  Each value in *x*\n",
      "        only contributes its associated weight towards the bin count\n",
      "        (instead of 1).  If *normed* or *density* is ``True``,\n",
      "        the weights are normalized, so that the integral of the density\n",
      "        over the range remains 1.\n",
      "    \n",
      "        Default is ``None``\n",
      "    \n",
      "    cumulative : bool, optional\n",
      "        If ``True``, then a histogram is computed where each bin gives the\n",
      "        counts in that bin plus all bins for smaller values. The last bin\n",
      "        gives the total number of datapoints. If *normed* or *density*\n",
      "        is also ``True`` then the histogram is normalized such that the\n",
      "        last bin equals 1. If *cumulative* evaluates to less than 0\n",
      "        (e.g., -1), the direction of accumulation is reversed.\n",
      "        In this case, if *normed* and/or *density* is also ``True``, then\n",
      "        the histogram is normalized such that the first bin equals 1.\n",
      "    \n",
      "        Default is ``False``\n",
      "    \n",
      "    bottom : array_like, scalar, or None\n",
      "        Location of the bottom baseline of each bin.  If a scalar,\n",
      "        the base line for each bin is shifted by the same amount.\n",
      "        If an array, each bin is shifted independently and the length\n",
      "        of bottom must match the number of bins.  If None, defaults to 0.\n",
      "    \n",
      "        Default is ``None``\n",
      "    \n",
      "    histtype : {'bar', 'barstacked', 'step',  'stepfilled'}, optional\n",
      "        The type of histogram to draw.\n",
      "    \n",
      "        - 'bar' is a traditional bar-type histogram.  If multiple data\n",
      "          are given the bars are arranged side by side.\n",
      "    \n",
      "        - 'barstacked' is a bar-type histogram where multiple\n",
      "          data are stacked on top of each other.\n",
      "    \n",
      "        - 'step' generates a lineplot that is by default\n",
      "          unfilled.\n",
      "    \n",
      "        - 'stepfilled' generates a lineplot that is by default\n",
      "          filled.\n",
      "    \n",
      "        Default is 'bar'\n",
      "    \n",
      "    align : {'left', 'mid', 'right'}, optional\n",
      "        Controls how the histogram is plotted.\n",
      "    \n",
      "            - 'left': bars are centered on the left bin edges.\n",
      "    \n",
      "            - 'mid': bars are centered between the bin edges.\n",
      "    \n",
      "            - 'right': bars are centered on the right bin edges.\n",
      "    \n",
      "        Default is 'mid'\n",
      "    \n",
      "    orientation : {'horizontal', 'vertical'}, optional\n",
      "        If 'horizontal', `~matplotlib.pyplot.barh` will be used for\n",
      "        bar-type histograms and the *bottom* kwarg will be the left edges.\n",
      "    \n",
      "    rwidth : scalar or None, optional\n",
      "        The relative width of the bars as a fraction of the bin width.  If\n",
      "        ``None``, automatically compute the width.\n",
      "    \n",
      "        Ignored if *histtype* is 'step' or 'stepfilled'.\n",
      "    \n",
      "        Default is ``None``\n",
      "    \n",
      "    log : bool, optional\n",
      "        If ``True``, the histogram axis will be set to a log scale. If\n",
      "        *log* is ``True`` and *x* is a 1D array, empty bins will be\n",
      "        filtered out and only the non-empty ``(n, bins, patches)``\n",
      "        will be returned.\n",
      "    \n",
      "        Default is ``False``\n",
      "    \n",
      "    color : color or array_like of colors or None, optional\n",
      "        Color spec or sequence of color specs, one per dataset.  Default\n",
      "        (``None``) uses the standard line color sequence.\n",
      "    \n",
      "        Default is ``None``\n",
      "    \n",
      "    label : str or None, optional\n",
      "        String, or sequence of strings to match multiple datasets.  Bar\n",
      "        charts yield multiple patches per dataset, but only the first gets\n",
      "        the label, so that the legend command will work as expected.\n",
      "    \n",
      "        default is ``None``\n",
      "    \n",
      "    stacked : bool, optional\n",
      "        If ``True``, multiple data are stacked on top of each other If\n",
      "        ``False`` multiple data are arranged side by side if histtype is\n",
      "        'bar' or on top of each other if histtype is 'step'\n",
      "    \n",
      "        Default is ``False``\n",
      "    \n",
      "    normed : bool, optional\n",
      "        Deprecated; use the density keyword argument instead.\n",
      "    \n",
      "    Returns\n",
      "    -------\n",
      "    n : array or list of arrays\n",
      "        The values of the histogram bins. See *normed* or *density*\n",
      "        and *weights* for a description of the possible semantics.\n",
      "        If input *x* is an array, then this is an array of length\n",
      "        *nbins*. If input is a sequence of arrays\n",
      "        ``[data1, data2,..]``, then this is a list of arrays with\n",
      "        the values of the histograms for each of the arrays in the\n",
      "        same order.\n",
      "    \n",
      "    bins : array\n",
      "        The edges of the bins. Length nbins + 1 (nbins left edges and right\n",
      "        edge of last bin).  Always a single array even when multiple data\n",
      "        sets are passed in.\n",
      "    \n",
      "    patches : list or list of lists\n",
      "        Silent list of individual patches used to create the histogram\n",
      "        or list of such list if multiple input datasets.\n",
      "    \n",
      "    Other Parameters\n",
      "    ----------------\n",
      "    **kwargs : `~matplotlib.patches.Patch` properties\n",
      "    \n",
      "    See also\n",
      "    --------\n",
      "    hist2d : 2D histograms\n",
      "    \n",
      "    Notes\n",
      "    -----\n",
      "    .. [Notes section required for data comment. See #10189.]\n",
      "    \n",
      "    .. note::\n",
      "        In addition to the above described arguments, this function can take a\n",
      "        **data** keyword argument. If such a **data** argument is given, the\n",
      "        following arguments are replaced by **data[<arg>]**:\n",
      "    \n",
      "        * All arguments with the following names: 'weights', 'x'.\n",
      "    \n",
      "        Objects passed as **data** must support item access (``data[<arg>]``) and\n",
      "        membership test (``<arg> in data``).\n",
      "\n"
     ]
    }
   ],
   "source": [
    "help(plt.hist)"
   ]
  },
  {
   "cell_type": "code",
   "execution_count": 16,
   "metadata": {},
   "outputs": [
    {
     "data": {
      "text/plain": [
       "(array([   9.,  115.,  512., 1308., 2024., 1771.,  937.,  273.,   44.,\n",
       "           7.]),\n",
       " array([1.04 , 1.189, 1.338, 1.487, 1.636, 1.785, 1.934, 2.083, 2.232,\n",
       "        2.381, 2.53 ]),\n",
       " <a list of 10 Patch objects>)"
      ]
     },
     "execution_count": 16,
     "metadata": {},
     "output_type": "execute_result"
    },
    {
     "data": {
      "image/png": "[encoded data removed]",
      "text/plain": [
       "<Figure size 432x288 with 1 Axes>"
      ]
     },
     "metadata": {
      "needs_background": "light"
     },
     "output_type": "display_data"
    }
   ],
   "source": [
    "plt.hist(height)"
   ]
  },
  {
   "cell_type": "markdown",
   "metadata": {
    "colab_type": "text",
    "id": "cfT_iKnKW4K0"
   },
   "source": [
    "**9. Create a boxplot of height and weight**"
   ]
  },
  {
   "cell_type": "code",
   "execution_count": 0,
   "metadata": {
    "colab": {
     "base_uri": "https://localhost:8080/",
     "height": 3222
    },
    "colab_type": "code",
    "executionInfo": {
     "elapsed": 851,
     "status": "ok",
     "timestamp": 1552620003646,
     "user": {
      "displayName": "",
      "photoUrl": "",
      "userId": ""
     },
     "user_tz": -660
    },
    "id": "PZbswA3fXQSL",
    "outputId": "2256b909-9b78-4e08-bc33-40d5aa2926af"
   },
   "outputs": [
    {
     "name": "stdout",
     "output_type": "stream",
     "text": [
      "Help on function boxplot in module matplotlib.pyplot:\n",
      "\n",
      "boxplot(x, notch=None, sym=None, vert=None, whis=None, positions=None, widths=None, patch_artist=None, bootstrap=None, usermedians=None, conf_intervals=None, meanline=None, showmeans=None, showcaps=None, showbox=None, showfliers=None, boxprops=None, labels=None, flierprops=None, medianprops=None, meanprops=None, capprops=None, whiskerprops=None, manage_xticks=True, autorange=False, zorder=None, *, data=None)\n",
      "    Make a box and whisker plot.\n",
      "    \n",
      "    Make a box and whisker plot for each column of ``x`` or each\n",
      "    vector in sequence ``x``.  The box extends from the lower to\n",
      "    upper quartile values of the data, with a line at the median.\n",
      "    The whiskers extend from the box to show the range of the\n",
      "    data.  Flier points are those past the end of the whiskers.\n",
      "    \n",
      "    Parameters\n",
      "    ----------\n",
      "    x : Array or a sequence of vectors.\n",
      "        The input data.\n",
      "    \n",
      "    notch : bool, optional (False)\n",
      "        If `True`, will produce a notched box plot. Otherwise, a\n",
      "        rectangular boxplot is produced. The notches represent the\n",
      "        confidence interval (CI) around the median. See the entry\n",
      "        for the ``bootstrap`` parameter for information regarding\n",
      "        how the locations of the notches are computed.\n",
      "    \n",
      "        .. note::\n",
      "    \n",
      "            In cases where the values of the CI are less than the\n",
      "            lower quartile or greater than the upper quartile, the\n",
      "            notches will extend beyond the box, giving it a\n",
      "            distinctive \"flipped\" appearance. This is expected\n",
      "            behavior and consistent with other statistical\n",
      "            visualization packages.\n",
      "    \n",
      "    sym : str, optional\n",
      "        The default symbol for flier points. Enter an empty string\n",
      "        ('') if you don't want to show fliers. If `None`, then the\n",
      "        fliers default to 'b+'  If you want more control use the\n",
      "        flierprops kwarg.\n",
      "    \n",
      "    vert : bool, optional (True)\n",
      "        If `True` (default), makes the boxes vertical. If `False`,\n",
      "        everything is drawn horizontally.\n",
      "    \n",
      "    whis : float, sequence, or string (default = 1.5)\n",
      "        As a float, determines the reach of the whiskers to the beyond the\n",
      "        first and third quartiles. In other words, where IQR is the\n",
      "        interquartile range (`Q3-Q1`), the upper whisker will extend to\n",
      "        last datum less than `Q3 + whis*IQR`). Similarly, the lower whisker\n",
      "        will extend to the first datum greater than `Q1 - whis*IQR`.\n",
      "        Beyond the whiskers, data\n",
      "        are considered outliers and are plotted as individual\n",
      "        points. Set this to an unreasonably high value to force the\n",
      "        whiskers to show the min and max values. Alternatively, set\n",
      "        this to an ascending sequence of percentile (e.g., [5, 95])\n",
      "        to set the whiskers at specific percentiles of the data.\n",
      "        Finally, ``whis`` can be the string ``'range'`` to force the\n",
      "        whiskers to the min and max of the data.\n",
      "    \n",
      "    bootstrap : int, optional\n",
      "        Specifies whether to bootstrap the confidence intervals\n",
      "        around the median for notched boxplots. If ``bootstrap`` is\n",
      "        None, no bootstrapping is performed, and notches are\n",
      "        calculated using a Gaussian-based asymptotic approximation\n",
      "        (see McGill, R., Tukey, J.W., and Larsen, W.A., 1978, and\n",
      "        Kendall and Stuart, 1967). Otherwise, bootstrap specifies\n",
      "        the number of times to bootstrap the median to determine its\n",
      "        95% confidence intervals. Values between 1000 and 10000 are\n",
      "        recommended.\n",
      "    \n",
      "    usermedians : array-like, optional\n",
      "        An array or sequence whose first dimension (or length) is\n",
      "        compatible with ``x``. This overrides the medians computed\n",
      "        by matplotlib for each element of ``usermedians`` that is not\n",
      "        `None`. When an element of ``usermedians`` is None, the median\n",
      "        will be computed by matplotlib as normal.\n",
      "    \n",
      "    conf_intervals : array-like, optional\n",
      "        Array or sequence whose first dimension (or length) is\n",
      "        compatible with ``x`` and whose second dimension is 2. When\n",
      "        the an element of ``conf_intervals`` is not None, the\n",
      "        notch locations computed by matplotlib are overridden\n",
      "        (provided ``notch`` is `True`). When an element of\n",
      "        ``conf_intervals`` is `None`, the notches are computed by the\n",
      "        method specified by the other kwargs (e.g., ``bootstrap``).\n",
      "    \n",
      "    positions : array-like, optional\n",
      "        Sets the positions of the boxes. The ticks and limits are\n",
      "        automatically set to match the positions. Defaults to\n",
      "        `range(1, N+1)` where N is the number of boxes to be drawn.\n",
      "    \n",
      "    widths : scalar or array-like\n",
      "        Sets the width of each box either with a scalar or a\n",
      "        sequence. The default is 0.5, or ``0.15*(distance between\n",
      "        extreme positions)``, if that is smaller.\n",
      "    \n",
      "    patch_artist : bool, optional (False)\n",
      "        If `False` produces boxes with the Line2D artist. Otherwise,\n",
      "        boxes and drawn with Patch artists.\n",
      "    \n",
      "    labels : sequence, optional\n",
      "        Labels for each dataset. Length must be compatible with\n",
      "        dimensions of ``x``.\n",
      "    \n",
      "    manage_xticks : bool, optional (True)\n",
      "        If the function should adjust the xlim and xtick locations.\n",
      "    \n",
      "    autorange : bool, optional (False)\n",
      "        When `True` and the data are distributed such that the 25th and\n",
      "        75th percentiles are equal, ``whis`` is set to ``'range'`` such\n",
      "        that the whisker ends are at the minimum and maximum of the data.\n",
      "    \n",
      "    meanline : bool, optional (False)\n",
      "        If `True` (and ``showmeans`` is `True`), will try to render\n",
      "        the mean as a line spanning the full width of the box\n",
      "        according to ``meanprops`` (see below). Not recommended if\n",
      "        ``shownotches`` is also True. Otherwise, means will be shown\n",
      "        as points.\n",
      "    \n",
      "    zorder : scalar, optional (None)\n",
      "        Sets the zorder of the boxplot.\n",
      "    \n",
      "    Other Parameters\n",
      "    ----------------\n",
      "    showcaps : bool, optional (True)\n",
      "        Show the caps on the ends of whiskers.\n",
      "    showbox : bool, optional (True)\n",
      "        Show the central box.\n",
      "    showfliers : bool, optional (True)\n",
      "        Show the outliers beyond the caps.\n",
      "    showmeans : bool, optional (False)\n",
      "        Show the arithmetic means.\n",
      "    capprops : dict, optional (None)\n",
      "        Specifies the style of the caps.\n",
      "    boxprops : dict, optional (None)\n",
      "        Specifies the style of the box.\n",
      "    whiskerprops : dict, optional (None)\n",
      "        Specifies the style of the whiskers.\n",
      "    flierprops : dict, optional (None)\n",
      "        Specifies the style of the fliers.\n",
      "    medianprops : dict, optional (None)\n",
      "        Specifies the style of the median.\n",
      "    meanprops : dict, optional (None)\n",
      "        Specifies the style of the mean.\n",
      "    \n",
      "    Returns\n",
      "    -------\n",
      "    result : dict\n",
      "      A dictionary mapping each component of the boxplot to a list\n",
      "      of the :class:`matplotlib.lines.Line2D` instances\n",
      "      created. That dictionary has the following keys (assuming\n",
      "      vertical boxplots):\n",
      "    \n",
      "      - ``boxes``: the main body of the boxplot showing the\n",
      "        quartiles and the median's confidence intervals if\n",
      "        enabled.\n",
      "    \n",
      "      - ``medians``: horizontal lines at the median of each box.\n",
      "    \n",
      "      - ``whiskers``: the vertical lines extending to the most\n",
      "        extreme, non-outlier data points.\n",
      "    \n",
      "      - ``caps``: the horizontal lines at the ends of the\n",
      "        whiskers.\n",
      "    \n",
      "      - ``fliers``: points representing data that extend beyond\n",
      "        the whiskers (fliers).\n",
      "    \n",
      "      - ``means``: points or lines representing the means.\n",
      "    \n",
      "    Notes\n",
      "    -----\n",
      "    .. [Notes section required for data comment. See #10189.]\n",
      "    \n",
      "    .. note::\n",
      "        In addition to the above described arguments, this function can take a\n",
      "        **data** keyword argument. If such a **data** argument is given, the\n",
      "        following arguments are replaced by **data[<arg>]**:\n",
      "    \n",
      "        * All positional and all keyword arguments.\n",
      "    \n",
      "        Objects passed as **data** must support item access (``data[<arg>]``) and\n",
      "        membership test (``<arg> in data``).\n",
      "\n"
     ]
    }
   ],
   "source": [
    "help(plt.boxplot)"
   ]
  },
  {
   "cell_type": "code",
   "execution_count": 17,
   "metadata": {},
   "outputs": [
    {
     "data": {
      "text/plain": [
       "{'whiskers': [<matplotlib.lines.Line2D at 0x1ae77a4c640>,\n",
       "  <matplotlib.lines.Line2D at 0x1ae77a4c9a0>],\n",
       " 'caps': [<matplotlib.lines.Line2D at 0x1ae77a4cd00>,\n",
       "  <matplotlib.lines.Line2D at 0x1ae77a580d0>],\n",
       " 'boxes': [<matplotlib.lines.Line2D at 0x1ae77a4c2e0>],\n",
       " 'medians': [<matplotlib.lines.Line2D at 0x1ae77a58430>],\n",
       " 'fliers': [<matplotlib.lines.Line2D at 0x1ae77a58730>],\n",
       " 'means': []}"
      ]
     },
     "execution_count": 17,
     "metadata": {},
     "output_type": "execute_result"
    },
    {
     "data": {
      "image/png": "[encoded data removed]",
      "text/plain": [
       "<Figure size 432x288 with 1 Axes>"
      ]
     },
     "metadata": {
      "needs_background": "light"
     },
     "output_type": "display_data"
    }
   ],
   "source": [
    "plt.boxplot(height)"
   ]
  },
  {
   "cell_type": "markdown",
   "metadata": {
    "colab_type": "text",
    "id": "b-6Hr9dSXD2L"
   },
   "source": [
    "**10. Create scatterplot of height and weight**"
   ]
  },
  {
   "cell_type": "code",
   "execution_count": 0,
   "metadata": {
    "colab": {
     "base_uri": "https://localhost:8080/",
     "height": 2029
    },
    "colab_type": "code",
    "executionInfo": {
     "elapsed": 726,
     "status": "ok",
     "timestamp": 1552620019954,
     "user": {
      "displayName": "",
      "photoUrl": "",
      "userId": ""
     },
     "user_tz": -660
    },
    "id": "S3l7S_qBXUT2",
    "outputId": "1a4753f4-e695-484f-9469-4eb5ff2ceafe"
   },
   "outputs": [
    {
     "name": "stdout",
     "output_type": "stream",
     "text": [
      "Help on function scatter in module matplotlib.pyplot:\n",
      "\n",
      "scatter(x, y, s=None, c=None, marker=None, cmap=None, norm=None, vmin=None, vmax=None, alpha=None, linewidths=None, verts=None, edgecolors=None, *, data=None, **kwargs)\n",
      "    A scatter plot of *y* vs *x* with varying marker size and/or color.\n",
      "    \n",
      "    Parameters\n",
      "    ----------\n",
      "    x, y : array_like, shape (n, )\n",
      "        The data positions.\n",
      "    \n",
      "    s : scalar or array_like, shape (n, ), optional\n",
      "        The marker size in points**2.\n",
      "        Default is ``rcParams['lines.markersize'] ** 2``.\n",
      "    \n",
      "    c : color, sequence, or sequence of color, optional\n",
      "        The marker color. Possible values:\n",
      "    \n",
      "        - A single color format string.\n",
      "        - A sequence of color specifications of length n.\n",
      "        - A sequence of n numbers to be mapped to colors using *cmap* and\n",
      "          *norm*.\n",
      "        - A 2-D array in which the rows are RGB or RGBA.\n",
      "    \n",
      "        Note that *c* should not be a single numeric RGB or RGBA sequence\n",
      "        because that is indistinguishable from an array of values to be\n",
      "        colormapped. If you want to specify the same RGB or RGBA value for\n",
      "        all points, use a 2-D array with a single row.  Otherwise, value-\n",
      "        matching will have precedence in case of a size matching with *x*\n",
      "        and *y*.\n",
      "    \n",
      "        Defaults to ``None``. In that case the marker color is determined\n",
      "        by the value of ``color``, ``facecolor`` or ``facecolors``. In case\n",
      "        those are not specified or ``None``, the marker color is determined\n",
      "        by the next color of the ``Axes``' current \"shape and fill\" color\n",
      "        cycle. This cycle defaults to :rc:`axes.prop_cycle`.\n",
      "    \n",
      "    marker : `~matplotlib.markers.MarkerStyle`, optional\n",
      "        The marker style. *marker* can be either an instance of the class\n",
      "        or the text shorthand for a particular marker.\n",
      "        Defaults to ``None``, in which case it takes the value of\n",
      "        :rc:`scatter.marker` = 'o'.\n",
      "        See `~matplotlib.markers` for more information about marker styles.\n",
      "    \n",
      "    cmap : `~matplotlib.colors.Colormap`, optional, default: None\n",
      "        A `.Colormap` instance or registered colormap name. *cmap* is only\n",
      "        used if *c* is an array of floats. If ``None``, defaults to rc\n",
      "        ``image.cmap``.\n",
      "    \n",
      "    norm : `~matplotlib.colors.Normalize`, optional, default: None\n",
      "        A `.Normalize` instance is used to scale luminance data to 0, 1.\n",
      "        *norm* is only used if *c* is an array of floats. If *None*, use\n",
      "        the default `.colors.Normalize`.\n",
      "    \n",
      "    vmin, vmax : scalar, optional, default: None\n",
      "        *vmin* and *vmax* are used in conjunction with *norm* to normalize\n",
      "        luminance data. If None, the respective min and max of the color\n",
      "        array is used. *vmin* and *vmax* are ignored if you pass a *norm*\n",
      "        instance.\n",
      "    \n",
      "    alpha : scalar, optional, default: None\n",
      "        The alpha blending value, between 0 (transparent) and 1 (opaque).\n",
      "    \n",
      "    linewidths : scalar or array_like, optional, default: None\n",
      "        The linewidth of the marker edges. Note: The default *edgecolors*\n",
      "        is 'face'. You may want to change this as well.\n",
      "        If *None*, defaults to rcParams ``lines.linewidth``.\n",
      "    \n",
      "    edgecolors : color or sequence of color, optional, default: 'face'\n",
      "        The edge color of the marker. Possible values:\n",
      "    \n",
      "        - 'face': The edge color will always be the same as the face color.\n",
      "        - 'none': No patch boundary will be drawn.\n",
      "        - A matplotib color.\n",
      "    \n",
      "        For non-filled markers, the *edgecolors* kwarg is ignored and\n",
      "        forced to 'face' internally.\n",
      "    \n",
      "    Returns\n",
      "    -------\n",
      "    paths : `~matplotlib.collections.PathCollection`\n",
      "    \n",
      "    Other Parameters\n",
      "    ----------------\n",
      "    **kwargs : `~matplotlib.collections.Collection` properties\n",
      "    \n",
      "    See Also\n",
      "    --------\n",
      "    plot : To plot scatter plots when markers are identical in size and\n",
      "        color.\n",
      "    \n",
      "    Notes\n",
      "    -----\n",
      "    \n",
      "    * The `.plot` function will be faster for scatterplots where markers\n",
      "      don't vary in size or color.\n",
      "    \n",
      "    * Any or all of *x*, *y*, *s*, and *c* may be masked arrays, in which\n",
      "      case all masks will be combined and only unmasked points will be\n",
      "      plotted.\n",
      "    \n",
      "    * Fundamentally, scatter works with 1-D arrays; *x*, *y*, *s*, and *c*\n",
      "      may be input as 2-D arrays, but within scatter they will be\n",
      "      flattened. The exception is *c*, which will be flattened only if its\n",
      "      size matches the size of *x* and *y*.\n",
      "    \n",
      "    .. note::\n",
      "        In addition to the above described arguments, this function can take a\n",
      "        **data** keyword argument. If such a **data** argument is given, the\n",
      "        following arguments are replaced by **data[<arg>]**:\n",
      "    \n",
      "        * All arguments with the following names: 'c', 'color', 'edgecolors', 'facecolor', 'facecolors', 'linewidths', 's', 'x', 'y'.\n",
      "    \n",
      "        Objects passed as **data** must support item access (``data[<arg>]``) and\n",
      "        membership test (``<arg> in data``).\n",
      "\n"
     ]
    }
   ],
   "source": [
    "help(plt.scatter)"
   ]
  },
  {
   "cell_type": "code",
   "execution_count": 18,
   "metadata": {},
   "outputs": [
    {
     "data": {
      "text/plain": [
       "<matplotlib.collections.PathCollection at 0x1ae77aac850>"
      ]
     },
     "execution_count": 18,
     "metadata": {},
     "output_type": "execute_result"
    },
    {
     "data": {
      "image/png": "[encoded data removed]",
      "text/plain": [
       "<Figure size 432x288 with 1 Axes>"
      ]
     },
     "metadata": {
      "needs_background": "light"
     },
     "output_type": "display_data"
    }
   ],
   "source": [
    "plt.scatter(height,weight)"
   ]
  },
  {
   "cell_type": "code",
   "execution_count": 21,
   "metadata": {},
   "outputs": [
    {
     "name": "stdout",
     "output_type": "stream",
     "text": [
      "mean 99.86237379224511\n",
      "std 24.765669590015115\n"
     ]
    }
   ],
   "source": [
    "nu = np.random.normal(100,25,1000)\n",
    "print('mean',np.mean(nu))\n",
    "print('std',np.std(nu))"
   ]
  },
  {
   "cell_type": "code",
   "execution_count": 22,
   "metadata": {},
   "outputs": [
    {
     "data": {
      "text/plain": [
       "(array([  5.,  14.,  39., 165., 297., 263., 148.,  55.,  13.,   1.]),\n",
       " array([  8.54977565,  26.88226154,  45.21474743,  63.54723332,\n",
       "         81.87971921, 100.2122051 , 118.54469099, 136.87717688,\n",
       "        155.20966277, 173.54214865, 191.87463454]),\n",
       " <a list of 10 Patch objects>)"
      ]
     },
     "execution_count": 22,
     "metadata": {},
     "output_type": "execute_result"
    },
    {
     "data": {
      "image/png": "[encoded data removed]",
      "text/plain": [
       "<Figure size 432x288 with 1 Axes>"
      ]
     },
     "metadata": {
      "needs_background": "light"
     },
     "output_type": "display_data"
    }
   ],
   "source": [
    "plt.hist(nu)"
   ]
  },
  {
   "cell_type": "code",
   "execution_count": 29,
   "metadata": {},
   "outputs": [
    {
     "name": "stdout",
     "output_type": "stream",
     "text": [
      "332\n"
     ]
    }
   ],
   "source": [
    "n = np.sum((nu>=100) & (nu<=125))\n",
    "print(n)"
   ]
  },
  {
   "cell_type": "code",
   "execution_count": 32,
   "metadata": {},
   "outputs": [
    {
     "name": "stdout",
     "output_type": "stream",
     "text": [
      "[115.65686618 123.84259346 110.60368905 112.22453377 114.10944054\n",
      " 111.27426869 112.31133907 115.53512234 107.9125062  112.75130681\n",
      " 113.30384833 124.25743119 111.03164252 104.6631109  124.61416869\n",
      " 114.15106968 119.88085907 123.61678035 114.6534158  106.5010657\n",
      " 121.17095872 110.45190958 105.25421411 103.83156222 113.2944382\n",
      " 112.00432175 109.20803385 120.97612177 106.19817294 107.21278523\n",
      " 102.08279387 120.42090207 105.22494665 124.86165678 105.1772259\n",
      " 114.20933515 116.8371972  100.05837389 124.95013341 100.02839259\n",
      " 113.29428865 110.19828388 124.8708376  106.32058579 116.89508004\n",
      " 118.22268585 122.96697486 112.839919   113.98310727 104.37392599\n",
      " 124.38200406 123.35727144 114.12402742 105.01220883 123.54928297\n",
      " 116.79105224 113.67356484 113.17965062 101.61599018 112.32920606\n",
      " 101.23339595 107.52637469 121.57137646 109.30586685 109.51377846\n",
      " 116.09201375 117.20885637 100.03781246 109.76622365 103.11230748\n",
      " 118.93203954 115.62295503 115.6564608  100.94130968 122.89178132\n",
      " 110.41692429 101.90771495 119.6357206  111.69778991 121.89238948\n",
      " 119.80539503 118.29722112 124.9724688  112.83155864 119.03566329\n",
      " 118.80619188 104.42164927 107.95416184 103.01120187 101.16728971\n",
      " 104.71339031 112.54440001 110.04819542 122.28132495 101.46092097\n",
      " 102.95105237 100.99082248 121.7033994  100.44133665 115.77873533\n",
      " 110.17509416 114.38399971 104.65828897 103.50118506 101.03511692\n",
      " 114.98588662 115.51911292 102.07127154 102.53355718 101.95624218\n",
      " 101.14283531 117.84162695 107.69254414 120.38791634 102.56220604\n",
      " 106.57449291 101.82696788 112.2475963  111.15846422 118.84183664\n",
      " 103.22616574 114.18395347 123.73462248 110.7869023  119.13619524\n",
      " 101.89904748 109.58946243 117.59191832 113.67977485 105.49281891\n",
      " 119.52570654 101.13575996 103.98240991 102.0345619  113.52287877\n",
      " 119.01917784 113.73465786 118.52096321 112.43392594 116.98045024\n",
      " 102.45713042 120.51015623 119.12229272 103.80087874 110.50329756\n",
      " 116.65198983 106.82121676 114.37249621 119.65483965 104.27867336\n",
      " 100.78019806 102.92081042 109.97092572 116.83076001 108.43774293\n",
      " 106.322981   105.07734952 100.31042814 111.8992963  100.06973809\n",
      " 123.0857199  121.62816094 123.86172628 100.87811433 114.22839345\n",
      " 103.33837417 108.52443634 114.79768144 105.54178945 106.35833333\n",
      " 111.28593773 123.26839838 104.22924996 119.01092468 111.39803873\n",
      " 100.63311828 115.38415397 111.55475276 119.20001106 121.25972156\n",
      " 105.4057175  116.31314734 118.00877024 107.68071551 107.88177202\n",
      " 124.84400848 103.06021682 122.82669436 116.9595677  100.30137308\n",
      " 102.6714014  108.63880576 100.685476   105.05669778 116.03812615\n",
      " 124.26791415 106.06306749 109.25895584 112.02320759 124.79439841\n",
      " 101.89891381 105.77104997 111.10362883 117.18784941 113.5288029\n",
      " 106.7081239  106.20374804 103.02392829 107.14043169 103.46861916\n",
      " 116.15604719 118.13964873 120.02832501 104.58267324 107.87684645\n",
      " 110.54553581 118.53702688 100.27837281 107.67128374 110.93975365\n",
      " 109.38048129 111.62732241 100.7983006  112.68316273 119.82447317\n",
      " 102.14799235 112.32338353 116.95273997 104.77007225 108.72342613\n",
      " 104.71879578 107.61018118 113.14646093 107.49963451 106.74710819\n",
      " 104.74870765 108.91471179 102.95650185 119.54324593 103.42856539\n",
      " 103.97739961 112.02091474 100.85842681 111.77572152 120.63292307\n",
      " 108.32155123 109.63173435 102.97685994 103.38832693 116.42472971\n",
      " 112.85702627 113.77622228 102.27598672 109.85520391 118.50847076\n",
      " 121.00931195 109.47489847 106.17009617 115.80097267 118.24601276\n",
      " 124.55850473 104.90932573 101.47173801 115.5052566  106.53995024\n",
      " 116.15065723 114.97271822 115.6056001  120.35398541 119.09403325\n",
      " 111.75460637 102.51311556 104.92486355 116.41673241 121.26374394\n",
      " 105.83347982 105.18285215 102.62637136 123.1950215  119.597288\n",
      " 112.50452128 106.82199403 101.5853206  113.47376093 107.68649536\n",
      " 105.10556984 114.45333121 115.17164148 100.33120163 111.67765126\n",
      " 116.78940817 109.99612439 103.81998512 118.24750842 102.92964869\n",
      " 123.14662859 104.59302803 108.74102499 113.70676809 108.21341243\n",
      " 109.40132891 121.75493834 105.7991848  113.59156325 115.70553848\n",
      " 103.67886173 113.46519034 107.19062406 104.875933   101.06238451\n",
      " 112.68606437 100.10758553 107.65906132 100.10641913 118.04993497\n",
      " 116.6174813  121.57383974 106.90534394 118.67358594 109.7230909\n",
      " 118.53044298 115.79074414 108.12207405 118.64606233 105.37961607\n",
      " 100.34761063 120.90315309 106.43281205 106.05229155 114.64285156\n",
      " 100.29875734 106.76244222]\n"
     ]
    }
   ],
   "source": [
    "nu = np.random.normal(100,25,1000)\n",
    "print('mean',np.mean(nu))\n",
    "print('std',np.std(nu))\n",
    "arr = nu\n",
    "newArr = arr[(arr >= 100) & (arr <= 125)]\n",
    "print(newArr)"
   ]
  },
  {
   "cell_type": "code",
   "execution_count": 52,
   "metadata": {},
   "outputs": [
    {
     "name": "stdout",
     "output_type": "stream",
     "text": [
      "1\n",
      "[1 3]\n",
      "[1 2]\n"
     ]
    }
   ],
   "source": [
    "a = np.array([1,2,3,4])\n",
    "print(a[0])\n",
    "print(a[[True,False,True,False]])\n",
    "print(a[[True,True,False,False]])\n"
   ]
  },
  {
   "cell_type": "code",
   "execution_count": 54,
   "metadata": {},
   "outputs": [
    {
     "name": "stdout",
     "output_type": "stream",
     "text": [
      "(332,)\n"
     ]
    }
   ],
   "source": [
    "print(newArr.shape)"
   ]
  },
  {
   "cell_type": "code",
   "execution_count": 97,
   "metadata": {},
   "outputs": [],
   "source": [
    "b = np.random.normal(100,25,size=(1000,3))"
   ]
  },
  {
   "cell_type": "code",
   "execution_count": 84,
   "metadata": {},
   "outputs": [
    {
     "data": {
      "text/plain": [
       "2"
      ]
     },
     "execution_count": 84,
     "metadata": {},
     "output_type": "execute_result"
    }
   ],
   "source": [
    "b.ndim"
   ]
  },
  {
   "cell_type": "code",
   "execution_count": 85,
   "metadata": {},
   "outputs": [
    {
     "data": {
      "text/plain": [
       "(1000, 3)"
      ]
     },
     "execution_count": 85,
     "metadata": {},
     "output_type": "execute_result"
    }
   ],
   "source": [
    "b.shape"
   ]
  },
  {
   "cell_type": "markdown",
   "metadata": {},
   "source": [
    "#### print(b[0:3,:])"
   ]
  },
  {
   "cell_type": "code",
   "execution_count": 98,
   "metadata": {},
   "outputs": [
    {
     "name": "stdout",
     "output_type": "stream",
     "text": [
      "mean [ 99.8457524   98.35932371 100.65436135]\n",
      "std [25.39988661 24.31701016 25.05586167]\n",
      "median [100.43711238  98.36408615 100.50142533]\n"
     ]
    }
   ],
   "source": [
    "print('mean',np.mean(b,axis=0))\n",
    "print('std',np.std(b,axis=0))\n",
    "print('median',np.median(b,axis=0))"
   ]
  },
  {
   "cell_type": "code",
   "execution_count": 101,
   "metadata": {},
   "outputs": [
    {
     "name": "stdout",
     "output_type": "stream",
     "text": [
      "mean [ 93.09007447 108.67254624 104.94625287 110.59787849 120.85383135\n",
      " 102.99432366  86.93284718 112.69999376  80.52195127  95.21051387\n",
      " 101.89898961 100.78322496  98.43428208 129.68193021  92.69548866\n",
      " 111.65152978  83.79490612 123.6831842  129.22847338  85.50073\n",
      "  94.12336446  91.25063629  92.64476977  85.77752963  96.07276722\n",
      "  95.72121141  89.43893155  99.11835872  74.9625297  133.24098387\n",
      "  85.09478371  73.30961776 107.98998809  95.04811901 105.04729915\n",
      " 113.46320934  77.72828487 119.14409661  97.53961475 101.59874695\n",
      "  84.61013297 105.13249757  90.07427735 113.60980458  97.65052816\n",
      " 104.02938931  69.80597205 102.44178065 120.12234747  95.27420347\n",
      "  97.37690656  82.05340557  75.80286554 128.87962053  96.66692167\n",
      " 113.31437573  80.14270911 134.05479676 105.6560656  116.31924588\n",
      "  71.39461672  70.03961184  92.43935122 103.60999308  81.0965139\n",
      "  96.42741835 113.77468529  85.34703964 112.31710904 116.86361686\n",
      " 114.96334616  92.83346217  94.38392704  89.4959532   96.76355781\n",
      "  84.16112769  95.56945629 114.84392384 103.28586837 121.59443712\n",
      "  91.27184103  82.04487773 105.34370149  91.23814475 105.15389697\n",
      "  74.02884649 104.24142827  67.30924969 107.18583116  83.4945232\n",
      " 112.2197845   66.09744722  91.44190565 103.23012843  78.73461049\n",
      "  97.89795974 114.7762373   80.9173109  129.18859863 126.35000397\n",
      " 101.2697911   93.07658556  92.79522005  76.13138334  93.15843111\n",
      " 102.63188816 123.30986816  94.87371381  92.85244908  98.12710645\n",
      " 103.58560729  94.174865    88.74730984 110.11826738 112.7463015\n",
      " 101.22425335 106.97565078 119.0148878  107.86888421  91.53768377\n",
      "  93.0964983   94.68387304  84.28755342  93.28286848 111.1839829\n",
      " 103.10665212  73.97376111 101.75865869 103.48108483 111.9849173\n",
      "  99.81306163  93.70124451 119.90822925 105.93028819 104.53156406\n",
      " 103.54555267 103.81307505 109.67463229 100.80718658  96.84749642\n",
      "  77.55413346 106.01083177  92.17444441 119.45127048  88.50176993\n",
      "  89.58012966  90.43628544  81.064275   119.98294696  89.53435684\n",
      " 115.54668265 110.41551918 100.25856764  89.23352546 101.04950507\n",
      " 120.95670666 108.23166589 105.06140228 100.68693066  98.36124984\n",
      "  95.93965758 119.04881691 109.03934814 108.37881633  89.34025624\n",
      "  94.65783611 120.99734637 105.46692582  95.08994199 102.55942625\n",
      "  86.81014166 101.42486467 105.1669849  124.38141634 126.30918177\n",
      "  83.68493316 128.79724162 112.33290013  80.34103015 101.57568772\n",
      "  89.66769693 118.98931787  85.35807691 116.46509737 101.5485875\n",
      " 115.68953297 126.71404842 102.46955461  76.48337673 104.38286666\n",
      "  75.56976036  93.62485336 106.40276543  94.45154956 103.48602878\n",
      "  81.90050863 130.18480039  99.43810366  89.57344159  94.26263693\n",
      "  91.95801335  94.1643451   84.38413468  84.81793486  78.54013124\n",
      "  76.88824878  87.13630715  96.2750768   79.4750926   92.59647734\n",
      " 119.13882011 108.08485927 104.60458686  88.88754288 106.51469678\n",
      " 111.18208213 118.03808385 107.34754949  96.27408103 112.06263475\n",
      " 111.47797539  96.17162696  80.08443553  98.07047468 106.22383745\n",
      "  80.52230034 104.32402794 111.8938654   73.12889909  89.6398819\n",
      "  74.42372758 109.68356412 111.38049355  99.75750329  87.75239452\n",
      " 115.74274974  87.71891733  99.16287532  95.28961283  86.24549282\n",
      " 113.07082949  99.72674726  92.67120207  89.20596524  84.81426093\n",
      " 112.00599513 128.33731026  63.62845226  85.33517569  92.03303268\n",
      "  88.10036602 113.40263955 103.44338981  93.27099924 102.74219559\n",
      "  80.61333019 102.06060072  99.6413209  104.24320064 102.36314428\n",
      "  75.41221417 118.56540396 104.68782436 109.52959274  84.18240867\n",
      " 109.62075985  99.08502163  51.25662019 101.44002436 100.31445563\n",
      " 106.3613114  130.43156788  99.38440884  95.04461747  80.73739038\n",
      " 124.60724416  90.72949708  93.78688509  91.81741893  88.15190643\n",
      "  95.77758897  78.93329008 113.34322887 109.12240544 128.89527913\n",
      " 107.6839811   96.64920431  93.58453184  85.26631251  96.42381483\n",
      " 100.34678221 100.95503315  81.15391477  82.72482127  90.37006838\n",
      "  80.39421822 123.81482641 112.37933834  69.46170073  96.13665559\n",
      " 117.98279307  93.49563191  89.32668331  74.9717041   98.6010733\n",
      "  83.3222519   77.30083968  97.57010799 109.58869295  87.7086399\n",
      " 101.7766722  105.37935632  88.87817031 112.22491125  96.87472319\n",
      "  84.61704555  79.67941742 117.2744091  117.91179569 105.55423115\n",
      " 112.31936805  97.19690674 101.47911975 106.23262788  76.89928773\n",
      "  96.34044524 104.92056778  94.61152524  88.52051157  83.52831162\n",
      " 117.19737273  99.95841979  89.03584924 105.8097849   82.18621791\n",
      "  79.76873347 104.07418041  73.55259577  81.53026041  95.81510447\n",
      "  65.5849243   93.85426979  94.83258109  84.4510474  114.04022298\n",
      " 119.8548461  120.17899116  89.50265836 100.93508907  94.29990239\n",
      " 118.49139783 105.8759201   82.35094732  87.10675622  75.85031472\n",
      " 106.78410942 104.15291323  92.56664704  93.88000831  71.37808396\n",
      " 109.62373416 106.05139069 106.24835792 113.53369664  70.27549459\n",
      " 109.16077959  88.16340785  89.97799754  99.80065111 111.80564249\n",
      "  87.79342166  79.34485743 100.21444354  96.7749844   99.61564017\n",
      " 109.26168551 114.08097957 112.57342912  99.62790344  84.4969769\n",
      "  90.1725404   91.24041158  82.14354665 100.23658029  78.00760887\n",
      "  95.06623725  94.71801814  84.32171971 100.20869544 106.38340913\n",
      " 129.87471259  85.96796671  87.940566    96.47581374  99.95109388\n",
      "  94.0448235  118.49499381 115.60705618  91.64790205  89.99034749\n",
      " 104.15170587  93.26649743  84.79062681 135.4818225   81.33051423\n",
      " 100.04293687 130.43880721 104.03356299 106.21813892 111.88306011\n",
      " 104.46560849  87.64860879  95.64263494  96.89122975  91.59440432\n",
      "  89.74072003  98.30189532  78.1083117  107.8256283   96.13746741\n",
      "  77.55595589  98.15099956 136.07287206  74.99324674 106.50824798\n",
      " 106.44812347 112.3527035  107.80960386  90.22170961 110.59769934\n",
      " 105.3898851   94.98250244  95.69945992  84.3720095  106.04758129\n",
      "  85.44492445  82.84400013  83.22114292  81.44389556  94.71899847\n",
      " 100.61271981  90.58600346 109.32528571  85.61051724  69.36996227\n",
      " 102.23019715 107.45181952  90.33790523  91.71539342 116.07751523\n",
      " 105.75887782  98.65528761 121.92864823  88.77778749  84.17237975\n",
      " 104.97971331 111.68656537  85.41461672 126.12428759  84.0758417\n",
      "  72.92086552  88.79370443 109.73184986 113.05693148 109.87148209\n",
      "  94.07761967 113.08573369  88.50175882 108.1128158   83.19883174\n",
      " 118.42071875 120.61625304  94.14996437 108.05377227  83.66813572\n",
      "  76.9485926  100.12236039 112.83012411  96.77334891  73.15171727\n",
      "  79.11983242 116.66996518  81.73617769  71.78087298 101.41985339\n",
      "  89.58377414 114.66454395  87.53029394 108.81989202  96.95988509\n",
      "  95.2538953   96.06599036  95.00028202 107.31407481  64.81173395\n",
      "  87.99345345 123.88215676  85.75904232  96.32082243 123.65211711\n",
      "  98.140989   117.51748013  78.61208075 130.4251872   93.76191525\n",
      " 104.33172318  86.07771878 113.95277691 119.68926798  78.47822163\n",
      "  85.2996581   92.85517212 114.06050913 104.30855383 103.71329197\n",
      " 106.80204296 120.3239457   87.15931413 101.77005012 112.85524252\n",
      " 114.95228689  93.06424567  98.04319968  93.70822658 117.41453132\n",
      " 109.25032283 129.10441081  92.803073    96.50724391  90.7009959\n",
      "  73.46914314  86.37419465  86.82016113 103.13186715 107.10809741\n",
      "  91.0907181  104.47847052  80.91129639  98.24035085 102.476638\n",
      "  90.60422906 117.61033065  83.86685935  86.1268858   81.35913173\n",
      " 102.50022824 107.93246778 118.87777254 102.12823765  95.72616541\n",
      " 108.57644159  84.61242523  69.08271146 120.50292548  87.85264044\n",
      "  77.21306243 107.40284445  89.9803069  114.29740649  98.49979594\n",
      "  68.81111857  84.52136964  97.83664994 118.48640946 107.05628581\n",
      " 116.32948503  74.93451353  98.17170157 116.10981448 112.89938487\n",
      " 128.88688949  70.74657157  95.03539838  98.71894039 102.8091807\n",
      "  81.71350193  99.73618482  89.8791082   88.97402038 139.78821382\n",
      " 102.57394405 118.27665652 113.78299589  99.78795997 102.14618359\n",
      " 102.71940711 109.0355705   71.80258892  80.4314702   97.42581288\n",
      " 103.83268314  95.60673696  65.93704869  93.44576093  89.69248488\n",
      "  77.24110984 116.56658874 107.69885966  88.28499746  81.10744125\n",
      "  85.36720912 111.30914064 109.01488769 101.98101097  94.35345226\n",
      " 100.19193208 110.53387779  67.78955633  90.37370244 116.12867491\n",
      "  79.39877901 104.46248777 105.00630784  96.55798318 135.97714646\n",
      "  85.80654041 108.69333349  96.38366577 119.03580217 123.15163308\n",
      "  82.38326675  96.47343109 104.46615512 100.64529942  84.47161703\n",
      " 138.05836142 105.31862569 117.41031003  80.61195555  99.17118025\n",
      "  81.46554126  99.25548348 112.98122498 107.8416043   80.89783986\n",
      "  97.04304113 106.35960739  92.08105096  93.26650598 105.15893373\n",
      " 111.82059084 105.00492596 122.9546192  111.96427986 108.62948869\n",
      "  86.21431471  97.35873112 101.12925936 130.3673566  106.13962889\n",
      "  85.87289156  88.99777682  84.10552238 106.80000464 111.9717406\n",
      " 129.08111201 122.21227831  87.27445584  91.60845795  95.35095007\n",
      " 108.54687772  85.78096077 119.57039614  78.79319267  90.59097306\n",
      " 134.11359013 129.20575298  89.28685034  89.12252098 104.32124708\n",
      "  97.67055562 113.31329739  77.45269255 102.1655399  112.56790916\n",
      " 118.52253045  98.84850829  98.72075904  81.73430478 120.19300928\n",
      " 134.51679803  93.99162999 106.36783633  97.97994385 106.98374899\n",
      "  77.67059236  89.31108079  91.64145382  99.54663284  90.76837327\n",
      "  85.18282612 112.48282664  87.4445333   89.05873696 103.98667086\n",
      " 113.77292272  70.36964163 120.08569354  85.28188753  99.2000421\n",
      " 118.80443899 135.6180581  127.64537453 112.71595419  75.72604672\n",
      " 101.58686649 117.96288422  96.47140619 123.60529279  99.66266841\n",
      " 105.98648381  94.28581944 112.75758255 117.02278778 108.04588921\n",
      " 104.78847103  75.59242713  88.45115285 124.57681352 114.63934155\n",
      " 116.10416477  81.67488217  99.04299446 106.40288372 103.5184815\n",
      "  92.83920757 109.9854512   97.97628235  92.96678476 102.39853111\n",
      "  79.27085082 112.63192347 104.31579338 105.03496732  85.33861851\n",
      "  86.28614082  96.49569442 111.33235577  90.07234332 109.56978899\n",
      "  88.95475026 112.34528019 115.08142799 105.91179449  82.4947546\n",
      " 104.89206584  92.35006507  79.02547008 104.12886233  76.16275897\n",
      "  85.69531233 105.06881652  86.25250278  91.00907658  87.94617191\n",
      " 104.86580119 115.51481758 120.60365092 102.86354878 132.19420044\n",
      " 126.29474204  89.97068211 101.40146866 101.20352599 114.93140867\n",
      "  77.56089062 114.52865071 102.90285574  87.79548107  88.18311756\n",
      " 126.03337141 103.62513547 118.08606533 136.41968098  82.31890643\n",
      "  77.40138656  98.4887826  112.67489796 103.66542863  82.49780113\n",
      " 109.9764672  119.61800248 126.10330572 115.50810853  98.31432675\n",
      "  73.8215585   76.3121789   92.89197944  90.56299006 102.28744668\n",
      " 113.74462406 126.30105959 103.38277648  95.05162411 102.50691753\n",
      "  98.68704731  81.54058775  82.87514954 119.02082036 108.24510968\n",
      " 135.01772669  93.28047669 106.6957503  117.51729026 113.29849849\n",
      "  95.91618491  87.26807049 104.83174513  81.182167   102.28336923\n",
      " 122.30290516 110.50941477  95.20690427  87.54768171  96.41218282\n",
      "  81.16080705 100.43689365 131.63386533 105.56133552 110.93690117\n",
      "  97.72890718 105.76560385 104.77109712 107.53168691 107.59846469\n",
      " 124.54991296 119.333945    82.36549082  98.61166697 106.43206917\n",
      "  93.41756854 113.58555492 106.41171847 100.43948111  89.72817219\n",
      "  96.5551638   92.29757651  98.04345011  84.47302769 106.825115\n",
      " 102.33326999  95.19138774  83.50428816  88.06813417  83.01276321\n",
      "  90.66793385  92.35088284 108.82557833 105.98808944  96.74172864\n",
      " 102.01250219 106.5822986  110.54752547  97.26495947 104.73856172\n",
      "  98.91012549 119.93814295 136.48158378 116.60199869 100.96656807\n",
      "  97.18077297  97.96365551 115.54623435  79.08133027  89.84278889\n",
      "  94.78611793 115.30298019  98.77501829  91.13567108  87.25759663\n",
      " 103.9328797   99.19776698 100.92743661 106.13508876 122.95774402\n",
      " 115.93165057 106.53150118 105.25529522 118.75522668 102.20020335\n",
      " 100.32955405  96.36749159  98.96309896  95.67854979 110.19333301\n",
      "  73.03977427 122.40903522 111.48909135 111.79154496 100.63528938\n",
      "  96.9847586  101.54738056  90.46212228  92.98934024 104.51129029\n",
      " 101.39867323  89.29739448 104.44743921 111.32630031 108.13881492\n",
      " 115.53948443  81.88787918 109.68512509  86.21613764 117.1571482\n",
      " 106.73799722 103.0648119   98.98221894  99.1514159  112.71614748\n",
      " 107.37105523 105.83471714  98.04607426  97.82017624 104.14337912\n",
      "  90.97695546  82.50481117 101.52487614  76.74499738  77.41517747\n",
      "  82.61294288  78.74212077  88.60753076 118.04509432 105.81463299\n",
      " 112.88801845 105.81755845 113.76783852 100.32580651  74.87319857\n",
      "  82.04696163 118.47715032  83.82377859  83.54726401 110.6755436\n",
      "  89.44628449 111.05246707 110.09479713 117.72891119 102.33226621\n",
      " 100.80502556  88.47952945  92.47753376  88.64661169  76.77616692\n",
      "  92.17580155 101.15190652  89.11073505 105.49632187  87.62262596\n",
      " 101.74861329 108.5468626  108.11541961 120.24977047 118.5814505\n",
      "  87.45994625 100.76733214 112.92869956 110.74788254  98.06278004\n",
      " 116.82565585  97.23450563 119.91064684 124.49408131  95.54997602\n",
      " 107.38683303  91.77129471 101.56697087  97.77596303  80.6002149\n",
      "  83.25072221  95.97528123  92.54883191 107.47528329 116.97167431\n",
      " 109.84333646 110.84139078 120.13223792 113.77931254 112.56114416\n",
      "  92.56537791  93.34586551 139.8629186   98.11022702  94.64127376\n",
      "  86.42191577 100.06860302 104.48110094  59.03228012  89.33679449\n",
      " 103.5424921  102.40546109  99.014137   102.29673474  85.92949753\n",
      " 113.16028925  94.23276475  98.16876602 104.3631719  107.93273818]\n",
      "std [22.93734384 18.01104229  5.39910126 13.67060229 20.33333266 22.44499475\n",
      " 13.03365855 25.48171079 17.99153801 22.59377687 22.94807507  8.04870563\n",
      " 33.71660475 14.19826888 18.6500123  22.58959831 17.91450152 18.47872146\n",
      "  5.91208098  8.92936917 31.25148765  8.67134023 27.25748689 20.51195618\n",
      " 17.90933257 19.90268169 33.5966515  22.56428815 37.21840013 31.97558631\n",
      " 16.77072655 32.28319713  4.66140594  1.50136632 12.46670723 27.80003495\n",
      " 11.43046273 15.99047836 18.31000784  7.60736329 41.98062054 10.9828423\n",
      "  4.40001183 41.82817092 18.91895265  9.71931212 37.39303678 23.57125298\n",
      "  6.99215344 19.45856669 15.27761694  3.68469283 17.12435085  7.01817214\n",
      " 20.10670344 11.10411502 18.55207958 18.49800397 23.9539207   6.04204117\n",
      " 14.05125906 35.26560588 20.07238661 13.63275322 10.40711041 14.63559402\n",
      "  9.38818111 25.78955558  9.50279335 26.22573571 40.49835667  9.56196338\n",
      " 37.85095733 18.27310457 18.66886563 29.21741926 17.50734838 10.41755667\n",
      "  7.46733494  3.32316897 13.99854955 20.16765253 32.87715719 19.4437285\n",
      " 22.0616969  33.33919356  9.97293146 10.94586168 32.9739198  17.44277826\n",
      " 31.70210112 31.2017899  19.17053428 29.62123247 14.19290269  9.14905615\n",
      " 17.53588446 20.11621564 26.23656783 12.81105221 18.41189369 18.57388249\n",
      "  7.17279741 16.15307585 21.97219637 23.29181387 20.00975378 20.03465892\n",
      " 20.07131198 16.39165175 12.44924349 28.85583116  9.82124248  3.82484028\n",
      " 30.1121079  22.35718779 12.55664635 23.4134602   2.40828722 27.93897598\n",
      "  9.06926832  9.57036253 20.32509569 16.02065256 28.86512959  8.12160614\n",
      " 21.70787397 20.05098176 31.09918223 34.49805905 24.02980041 11.14452429\n",
      "  7.70561014 25.18100252  7.20377434 16.45597325 38.29418509 19.75877536\n",
      " 19.62163457 24.06309497  4.9834136   8.89299401 17.1794695  20.09422706\n",
      " 35.40924222 13.88874453 12.95428338 19.25143362 13.91894454 23.73962569\n",
      "  7.10654955 17.40794263 16.93298678 13.5412815  23.08792007  5.83611684\n",
      "  8.64059932 31.83765316 10.73041822  2.95725464 24.05402825 18.75281096\n",
      " 14.95940675 12.4368026  10.11394279 35.48317429 13.19532358 39.36536985\n",
      "  8.33561143 26.68849654  6.42401413  7.34317051  8.67606672  9.24449096\n",
      "  6.40155043  6.44532784 11.34897849 11.8710752  22.67492402  9.85048201\n",
      "  9.903869   22.74450509  0.83257467 18.29814925 34.65329049  3.84361422\n",
      " 19.83871723 12.91306374 22.04493856 14.85779818  7.82225608 13.83049242\n",
      "  8.94877179 17.9199434  22.16874146  6.72345712 25.47983449 28.36010214\n",
      " 26.59119328 13.78334891 35.79818161 18.90028448 19.340652    8.99010903\n",
      " 10.0486117  47.27972077 25.60008328 20.45151806  1.00775408  9.66418887\n",
      " 16.87643381 16.26968634 14.4360675  17.86960667  9.9059474   8.78295562\n",
      " 12.95120424  6.0405584  20.00964627 15.97410646 20.27554629 29.11618954\n",
      " 26.29239674 31.83690506 24.22334501 10.75998286 27.55437574  2.72997766\n",
      " 10.54452741 12.8772815  23.81574084 23.99923455 16.18779634  5.86248349\n",
      " 13.39370502  4.78403633  1.96311728  7.83908849 43.65440339  6.91136938\n",
      " 35.41342558 10.01702142 38.14907599 10.88700131 19.77894528 28.06249926\n",
      "  8.4622486  21.56157614 13.11362129  5.93241641 12.56211028 15.66437237\n",
      " 15.18892087  8.20877474 11.58992868 22.7043099  34.49586528 18.37853551\n",
      "  2.39160137 18.09092316 38.76283877  8.32199491 34.4328059  21.14294728\n",
      "  4.77759989 12.57104173  7.53132468 14.29904038 29.28022755 15.62121488\n",
      " 20.4327443  10.97215605 15.63042133 21.31787896 28.00080366 10.6093791\n",
      "  9.84434442  5.74889009 12.02804622  6.15890636 25.01585843 22.18019587\n",
      " 27.33855    14.90935169  7.83276052 27.92092363  8.77799564 17.86957393\n",
      " 27.28363571 12.43003328 27.6137405  31.90915958 16.67549732 14.24745744\n",
      " 14.27127376 19.12540925 14.6904326  10.24434983  8.25092031 18.12059033\n",
      " 26.20806689 25.23538332 28.73034019 23.55190613  6.25622861  7.1181945\n",
      " 18.03712471 20.44671036  8.14081449 33.09330762 40.2527263  19.59253598\n",
      "  5.89790246 11.90954993 12.01479768 19.62342385 18.58167823 14.69896541\n",
      " 16.19409564  3.01758449 20.70078806 33.52597688 17.55193725 23.70258155\n",
      " 35.38035455 24.75752999 18.49228316 21.57979295 37.070531   13.82366781\n",
      " 24.27648135  6.82748201  9.65882001 25.61110177 22.59100691  4.09639057\n",
      " 36.21498437 20.93662602 21.19292513 30.19808743 11.26838664 11.47193936\n",
      " 24.06566598 14.68241493 30.18960796 14.91828276  3.09338021 27.30365923\n",
      " 17.10287924 10.63544017 22.4447851  11.3356919  14.59740121 10.18872847\n",
      " 13.19244835  3.92262406 10.28858018 11.62402547 20.5955588  11.89509801\n",
      " 12.38813928 16.66711745 14.10337842  7.24482674 10.62742507 11.22760467\n",
      "  8.35833655  2.52620472 14.94179817 31.36040462 12.56961288  7.86585857\n",
      " 22.1332624   1.63378566  2.25082431  6.76821805  5.04745567  7.44898221\n",
      " 16.49996129 18.31393128 14.04619463  8.52606527 22.94877033  9.7389571\n",
      " 11.37759622 16.89657766 11.21864678 13.53158289  8.06340236 16.23900017\n",
      " 33.50300707 36.86375617  3.99298343 12.42909181 37.65183332  6.64578085\n",
      " 14.24091307 29.61370271 14.74667647 18.9897583   8.10539031 15.27266243\n",
      " 17.81112653 20.56870684 18.3259194  33.61717961  9.14756535 36.22267218\n",
      " 22.45007368 16.79456395 16.15090741 13.30631982 24.19547441  5.67093831\n",
      " 33.49147622  8.33012221 30.55905809  7.72749674 17.56379135 18.80464496\n",
      " 21.01977202 19.78943591 16.64340715 28.09006384 26.78791685 17.87630852\n",
      " 11.00621058 40.7746141  22.56849904  8.87045574 19.78130339 19.54201777\n",
      " 14.11220553 18.53835752  7.7474787  20.20130369 16.95835474  9.99436591\n",
      " 11.75689875  6.79777615 21.65515262  7.36943946  8.48717158 19.06408235\n",
      " 22.82834595 30.13455263 10.28961845 16.91521514  8.62651668 10.65985635\n",
      " 15.22759554  4.09807819 16.70646704 13.9421611  11.20164206 27.7307188\n",
      " 19.14401515 19.52180474 14.10378212  5.40577761 27.34205018 25.74583761\n",
      " 38.49516802 13.71961394 20.06981773 45.05785321 15.76739296 14.23144037\n",
      " 33.77190239 12.08396044 22.36183572 21.24215922 20.86411923  7.08176873\n",
      " 10.33093503 13.11230186 25.19449173 11.65294101  8.3056136  27.13875198\n",
      " 28.44410779 20.82840183 16.91200184 17.93704837 14.39809188 16.35662253\n",
      "  9.16559986  5.8691465  16.52454516  9.42127704 19.61116021  8.16258529\n",
      " 19.17537179 28.60443957 23.79782131 25.99388587  7.03639101 16.84752358\n",
      " 36.63110624  8.09810161 27.11716123  4.79677084 19.2478624  19.6626519\n",
      " 27.98895805 11.1498157  14.50506968 21.17179102 14.75281385 42.03854184\n",
      " 13.56901045 13.63933273 33.9102329  13.52191284 20.55187597 20.61170601\n",
      " 10.35030122 22.93749234  9.48003242 15.28142838 13.80037073 40.53754853\n",
      "  7.07428272 14.42296314 18.16950633 19.99045799 16.86175827 17.69676968\n",
      " 22.5266902  16.27501258 24.67049765 15.77663974 16.50660623 12.40286692\n",
      "  6.91654528 30.71992979 10.96343402 12.25541597 33.29639864 23.39243935\n",
      " 10.025252   12.37334817  8.26216976 25.25011267 13.29169005 12.69606606\n",
      "  8.6997026  15.96250688 27.94384233 16.67797078  6.14666982  6.34103239\n",
      " 21.31864507  3.95253818 33.08261669 26.58634578  9.12546098 24.90429369\n",
      " 43.37525962 22.45821452 19.8296004   9.98273653  3.73749511 23.61862137\n",
      " 19.00768985 11.83887713 35.43447803 21.72670684 15.40551728 10.65183085\n",
      " 14.72493875 14.79853054  3.28135187 14.9638489  12.08085318 25.6667126\n",
      "  5.32585927 10.49530397 21.41774876 23.70829908  4.22480193  6.15720631\n",
      " 16.08204436  7.22412695 18.95171699 18.6837865  11.80895335 16.84803507\n",
      "  7.60091285 19.89818065 22.72448316 20.91324011 22.06393498 17.73473701\n",
      " 15.86639484  8.21190392 10.7681313  20.27793463  7.28327326 27.0354969\n",
      "  3.1737942   9.71606099 29.62318991 14.96017062  9.92399448 20.00930925\n",
      " 13.15496314  7.67415871 18.75531993 17.70479868 24.45210645 28.4647752\n",
      " 25.83321439  9.11681334 15.20457756 22.25736755 26.6252089   6.66204148\n",
      " 30.13807184 31.55177539 27.69628251 11.71492669 10.71059102 28.07360477\n",
      " 11.83333121  8.92254504 29.15352661  8.89610015 18.54306859 20.08659345\n",
      "  7.66337861  7.88540394 33.3919901  12.94724361 38.89547293 29.72725539\n",
      " 17.3755593  30.75401862 12.26019959  7.12474773 25.82074377 13.06832988\n",
      " 29.77886327 14.58206571 26.70027887 15.88533652 17.24443477  5.8273596\n",
      " 26.68538379 29.77801465  7.87190987  7.81182301 13.88099165 35.4260068\n",
      " 24.95605358 36.46661553 12.90975305 23.89611469 10.99154618 28.62377436\n",
      " 23.40740172 22.38468378 24.92910083 13.54314137 34.08926363 14.22711886\n",
      " 14.6659556  12.81349197  1.93463702 21.09512384 13.13040702 17.7090979\n",
      " 18.35242418  9.92744894 17.82172365 29.24864065 29.42796768 31.23298382\n",
      "  6.53451695 15.39354213 17.93735854 20.79664977 30.00631867 12.409443\n",
      " 23.69138887 12.60611515  9.44503978 17.42374274 19.18695182 19.80431949\n",
      " 13.77634208 25.64609658 19.68930054 10.40740999  9.32859384 12.06731495\n",
      " 22.47890283 10.22500653 30.14376413 41.61968637 25.26448548 12.75448351\n",
      " 32.99760243 26.85952518 20.43120481  4.19416323 19.96526603 27.36646478\n",
      " 15.12890048 24.7006546  22.74320738 11.94931409  8.17832513 21.1124603\n",
      " 16.16916265 16.77060504 15.45681631  5.96064609  9.25906445 18.54295253\n",
      " 15.49346183 19.16257188 17.43441008 21.51509556 17.07577874 22.25433136\n",
      " 32.72788932 39.27800065 39.15453737 39.15214635 28.59991549 26.69462273\n",
      " 12.69014682 32.76869209 32.76364851 22.08125326 16.82785232  5.98914746\n",
      " 29.11634929  8.79797719  4.66932249 31.77070782 13.02856004  6.52705536\n",
      " 18.83096613 12.94239492 15.42219573 13.60486652 24.32803771  7.24832837\n",
      " 17.06072877 18.64399753 21.02449403 15.77922403 29.81184753 21.49181188\n",
      " 25.46003158  4.47146434 25.14364846 15.63653587 14.8100416  26.74091786\n",
      " 21.94937867 11.42329475 30.12284185 27.47423742 23.023899   21.59287123\n",
      " 23.00715433 10.48345387 13.28884697 23.9821494  19.17781899 25.73133209\n",
      " 11.31538471  6.21448121 21.02626792 13.4076266  16.68422534  8.77567623\n",
      " 10.52629855  8.99186941 13.13026571 28.12249481 19.261003   43.6664686\n",
      " 25.76030262 11.92671836 44.11227834 23.5781001   3.06061229  3.40635375\n",
      "  9.12892542 17.00979754 19.27567803 14.12955433 11.12486471 33.82291825\n",
      " 20.88683058 28.14295505 27.51031118 14.35603841 26.70183642 15.48341897\n",
      "  3.97987441  4.73757189  6.76914864 15.70228465 23.8052039  17.45121958\n",
      " 13.97224171 10.10060396 21.1667223  23.67977498 21.76981178  9.58044508\n",
      "  3.63968877 15.26335882 28.92447468 21.84392782  8.23291612 28.73653509\n",
      " 17.05008737 16.09468709 26.4993314  30.99387999 28.83463569 31.15681367\n",
      " 19.81207232 21.3585945  15.751849   14.34000141 11.45353881  8.93107901\n",
      "  4.23711536 33.03452488 15.21102171 20.55040078 11.3491981  20.38396998\n",
      "  7.84243962  6.19231464 11.54154795 16.05313368 11.85083748 29.85455243\n",
      " 15.09340767  6.58025996  5.28633908  5.69350487 17.17217293 26.3084872\n",
      " 47.6764726  19.06129484 39.04797684 17.89399374  2.95731515 21.52710978\n",
      "  3.31302471 22.11833596  8.32275369 27.33906654 33.73469941 34.53210082\n",
      "  6.13327734 16.81159072 19.77824932 19.97641316 12.57569236  5.56361925\n",
      " 42.37267829  5.5592343  30.80309811 14.9355261  15.8635213  17.08872902\n",
      " 27.32328468 21.9425142  10.60129699 20.56854792 24.84707067  7.98737652\n",
      " 34.85665671 14.66525637  4.35299659 10.77267733 40.15032991 23.66552254\n",
      " 22.42749557  8.64054274 22.54696772 10.61180497  9.08403412  8.98148369\n",
      " 22.99133106 23.25529932  9.9879207  21.19717772 16.34192951 14.4557066\n",
      "  0.27910112 30.28363067 15.49247915 13.0865516  28.83095668  8.42557007\n",
      "  9.64842111 12.46313795 12.23696588 25.96992973 16.55631318 32.10171755\n",
      " 19.4117166  18.64030114 13.05479701 24.90955018 25.11651587 13.64813578\n",
      "  9.42102533 35.54004152 26.46425681 12.1992862  18.71559891 11.04923521\n",
      "  3.50646842 10.33257312 33.99530837 10.97714883 21.91584107  9.78009957\n",
      " 33.64943742  6.5014806  29.91179116 27.72823459  5.23055706 24.9983465\n",
      " 10.59689009 12.96189294  6.74064087  3.2812708  25.13543675 17.85954828\n",
      " 17.7936645  16.76787382  6.21483111  2.90307584  5.37774873 18.29743251\n",
      " 21.21213065 18.76039357 26.59157324  8.27052306 27.50092232 26.03231649\n",
      " 21.42677983 38.50808028 27.78551782 22.33302454 19.18691951 14.79286856\n",
      " 19.91485887 30.46446492 10.26139577 17.83996778 27.27941113 19.69527409\n",
      " 20.34568444 13.00956456 22.53956409 27.19312087 28.6233591  16.2962731\n",
      " 32.3857721  17.13848474 35.67818522 18.08787913 15.45767298 56.88778336\n",
      " 14.96835832 18.00177533  9.83326305 11.6601819   8.92666107 32.43304479\n",
      " 39.19772574 23.96786753  5.83412125 14.34815477 39.4672897  24.33134699\n",
      " 37.46966198 15.01413202 42.12220832 35.39402846 18.88538566 15.10286405\n",
      " 42.55562074 24.08445559 13.78526896 26.96526577]\n",
      "median [ 79.09372426 101.51361865 108.07670191 113.18533498 119.45572191\n",
      " 117.85746901  93.67344087 114.85590923  70.35807341  94.89396529\n",
      "  94.25368682  95.26788906  89.8037642  133.62172667 105.15480414\n",
      "  98.04004366  78.94799614 115.37303204 127.26234347  81.1952621\n",
      "  81.7879254   96.47668547 104.74260644  81.28307515  95.12198167\n",
      "  87.52948724 109.9980731  114.12348326  60.50504468 138.16410106\n",
      "  86.04875095  71.89852418 109.19386867  95.20609713  96.73830974\n",
      " 118.8615848   78.65250829 114.85284761 108.1179046   97.66853653\n",
      "  65.81205069 107.6075248   88.41743421 139.29163755 101.11031813\n",
      "  97.83038641  95.35039528 104.76021176 119.24382694  83.66978589\n",
      "  87.61458473  80.24993702  78.39516365 131.69253797  92.89065852\n",
      " 115.71932897  81.77958057 123.33645281  96.4818642  113.72090346\n",
      "  65.55263423  88.22905183 103.6405953   95.29957066  82.61649885\n",
      "  98.06172987 119.02012547 102.9168814  109.64819007 119.5871437\n",
      "  91.21778656  89.24045956  94.48903876  94.31304828  99.74850944\n",
      "  80.52271433  92.93792878 108.65488128 101.59238116 119.41912869\n",
      "  84.36053477  94.02805945 114.13116152  83.19580889 114.7811086\n",
      "  81.354244   107.7294137   67.85239391 115.26873907  92.16158227\n",
      "  99.3051061   58.98168127  87.76875353 100.12419067  81.47787576\n",
      " 101.97574231 120.23834604  93.09289209 138.52808078 120.24606487\n",
      "  92.23409755  81.04576528  88.73710583  72.01231314 104.35004013\n",
      " 116.80940377 124.11819491 107.90128017 102.37067042  94.61908007\n",
      " 103.15544041  97.84296609  85.80957442 109.13818911 114.02196761\n",
      "  97.17686971 107.22423989 110.39008071 107.18951675  98.66214918\n",
      "  90.7612976   95.80959625  86.39415185  90.47219813 118.6071456\n",
      " 108.2018288   77.87936859  95.63282115  82.45293485  99.29915827\n",
      " 113.55635442  98.10201765 117.67475593 116.96595619 105.86249397\n",
      "  99.85097734 119.9593436  122.4922182  103.34225134 110.8552283\n",
      "  76.81156448 108.26843419  99.28894978 129.46763827  89.45979778\n",
      "  91.50891004  91.58950528  83.51525356 116.50659597 102.89082895\n",
      " 116.34023565 103.83407846  92.31770335  95.02465678 104.29014226\n",
      " 124.08722213 113.64400286 123.78271563 103.29616028  99.90823677\n",
      " 105.2422784  119.37568295 104.21751705 109.11328269  94.6461001\n",
      "  70.77780976 115.92593584 115.93132643  93.85811567 114.99649096\n",
      "  83.95183117 102.97697384 110.8879642  123.55699333 122.22291198\n",
      "  80.80429956 122.17752841 113.0253993   73.55482114  96.77634127\n",
      "  85.8912489  110.70101175  85.71755439 116.20810814 101.38111283\n",
      " 115.05445582 127.5688933  111.26117704  74.7163432   94.99031529\n",
      "  74.15125311  99.59576074 102.33127548 104.56364703  97.64502207\n",
      "  78.68506492 125.54820176  99.55345098 102.47902163 100.62108771\n",
      "  98.83957121  86.56209515  95.28726206  88.96873128  76.29426051\n",
      " 103.96261922  73.86773949  95.61015688  79.81620075  88.68645474\n",
      " 118.59064566 117.55110286 101.96469511  77.91155678 101.70140748\n",
      " 112.41293946 120.02600152 110.44915687  88.74935819 118.21989171\n",
      " 109.42471872  90.32347592  75.83533346  99.40425517 114.27012283\n",
      "  82.30070819 112.91699765 113.08404571  65.99489178  95.86681751\n",
      "  77.2020303  113.81282499 104.85677042 103.70041798  84.46854275\n",
      " 118.37377887  87.19711885  96.53432653 121.18901821  83.98612109\n",
      " 121.81511852 100.53201471  65.73214598  81.80967161  85.90535062\n",
      " 106.88641775 122.5679198   53.26542372  76.64074241  88.25362845\n",
      "  84.32536289 121.36000943  95.97963108  94.43022589 103.60630739\n",
      "  77.54974534 105.18990946 111.25234885 102.77124973 111.14028926\n",
      "  53.18434068 116.08154403  90.45384504 106.0204152   87.33265959\n",
      " 110.40845223  95.70963793  61.0996307  119.76251442 102.31701629\n",
      "  99.02052647 133.60918852 110.18844704 106.73106163  73.66404601\n",
      " 129.60836573  88.79608244  91.6809273   96.17099337  84.36862183\n",
      "  92.50089629  78.63031065  95.62345102 105.67135137 132.08299864\n",
      "  97.51873823  92.31587202  95.89799403  71.58095951 102.22600993\n",
      "  87.77006122  83.23742938  92.59099958  84.32022245  84.64601363\n",
      "  79.68202729 123.68672459 118.40416183  70.72038899  92.32166532\n",
      " 101.20805544 100.50368329 106.74611496  80.69383388  95.15350153\n",
      "  88.14200724  87.4111064   91.87713744 104.11526009  70.07775392\n",
      "  89.59263573 107.40528048  84.7169565  113.58221773  95.09113397\n",
      "  84.01834404  78.17768239 125.08380593 109.86576618 107.38569145\n",
      "  98.41944632 117.54616906 102.34980706 120.19693661  81.12919129\n",
      " 103.29694756  96.76673719 109.86890492  88.68633455  76.90185005\n",
      " 101.722099    96.77912234  86.9626019   98.27870502  66.7316108\n",
      "  77.4576122   84.03933596  66.00493835  90.49055461  79.35447938\n",
      "  60.32275277  98.64110889 109.61992242  93.57189295 125.27787079\n",
      " 127.25787474 119.55558107  95.35148891 103.4956039   87.26827316\n",
      " 105.57085081 105.97699597  88.78552651  86.36901078  73.62952991\n",
      " 105.01383269 105.34104479  92.67953064 107.9807314   78.47772086\n",
      " 114.26521588 102.14936613 105.80904755 116.53251082  77.45394952\n",
      " 101.79969187  84.83740707  91.31084872  99.02659738 102.75135443\n",
      "  80.63090606  76.81515455 115.0718404   97.7728079   98.24923003\n",
      " 105.61132876 113.84480013 115.71856389  99.17978108  93.86909644\n",
      "  94.59605448  97.13622522  74.26276347  96.76089006  84.08015282\n",
      "  95.78968933  95.83137447  81.43751388 104.95138418 113.03244342\n",
      " 146.45520538 110.91318041  87.59034478  91.91532577 103.45595644\n",
      "  94.59553596 116.42825223 130.97890886  90.90789045  79.85828214\n",
      " 107.02717893 103.33754284  96.35316079 122.80181663  93.32634643\n",
      "  96.23936327 124.10551433  83.21843893  94.35275441 107.30864938\n",
      " 106.20172738  78.27922694  97.76363245  97.3425325  114.99647384\n",
      "  84.91858694 114.22493579  73.88539939 107.62730066  97.06669022\n",
      "  76.36525986  84.77253855 142.24297062  90.12105188  93.30483543\n",
      " 111.35788143 119.71580497  87.60106404  91.34120863 105.86967446\n",
      " 114.26343006 100.60647081  99.3993677   84.42560397 108.32488325\n",
      "  80.21068838  78.04405818  78.14115792  73.46918041  93.72237835\n",
      " 110.8588574   93.02421485 115.31438131  78.04302729  63.12881898\n",
      "  83.00184112 105.9351622   92.59526269  96.69236811 123.25693937\n",
      " 108.60923738  99.8290383  113.16457288  80.86783518  85.05293509\n",
      "  85.59072862 104.20672385  88.02061702 127.46676253  81.75762168\n",
      "  81.03237367  89.93951128 119.16471687 122.36643565 113.08317779\n",
      " 123.54933229 104.18407594  81.38302395  88.43907934  75.11585305\n",
      " 119.01002544 128.1063919   82.05192669 109.41563595  83.84990244\n",
      "  82.99006465  82.54188345 120.60869812  97.26291518  59.33465811\n",
      "  84.77264166 103.86533865  72.58142524  77.90715891 101.71333408\n",
      "  81.20736021 110.79137256  89.38710568 109.25096058 103.30837494\n",
      " 103.96809871  90.85633942 106.91815711  93.2543184   75.16347599\n",
      "  83.7142792  122.56941323  78.93678031  90.52165511 129.30017742\n",
      " 107.74201794 115.81725473  76.26568816 138.16672481  92.827141\n",
      " 109.22072924  87.43609425 100.7787907  122.3784881   54.12920193\n",
      "  76.86655553  98.40291171 100.2706501  104.98716288 107.28532747\n",
      " 114.63231663 114.08425684  98.61314848 103.8485508  113.13353264\n",
      " 107.18563929  88.06138008 101.49126725  88.44161844 118.10205038\n",
      " 105.64096594 140.25542416  85.63933598  95.30099365  81.87441336\n",
      "  61.46209721  94.09102914  96.90521377 104.63385174 102.50595061\n",
      "  98.46629398 102.86143042  84.32151886  92.17551086 109.1200208\n",
      "  96.109086   120.76791032  84.38771472  89.3674445   80.45416121\n",
      " 100.24948869 109.11200752 122.38143519  87.91195609  85.01683803\n",
      " 106.84288499  80.16018579  68.96397041 117.79198254 106.79066973\n",
      "  85.64904082 107.07047199 104.97472019  85.33191848 113.9515842\n",
      "  57.33240915  81.94154761  98.32627635 105.49399095  97.12017073\n",
      " 118.81548994  50.07725733 111.44186751 113.89054077 107.04051216\n",
      " 119.26577781  75.56981931  93.1865939   90.6361121  111.25211338\n",
      "  68.5319979  102.52190237  95.68017381  91.71645508 131.22025728\n",
      " 103.20277859 121.7383778  115.19250847  95.09224253 108.58574872\n",
      " 113.85216557 117.24843905  71.81442468  83.61688548  87.83725721\n",
      "  94.6382506   83.9166013   65.8154536  104.64368724  84.7822331\n",
      "  76.98815127 112.33339923 102.20292643  90.10063657  75.54945194\n",
      "  87.51998187 117.97714548 120.30620243  91.88017275  92.2400814\n",
      "  89.63024478 101.65869     69.78260809  79.28709267 119.34720055\n",
      "  85.23906747  84.86462367 110.28922968 102.70615494 132.06111405\n",
      "  89.38110993  90.46195773  97.20089855 109.6157702  121.64744241\n",
      "  70.95080638 101.51114898 100.30271885  86.80796081  86.59159786\n",
      " 134.65403593 101.78891162 119.51422927  85.2093193   92.52576538\n",
      "  81.43998861 103.87044322 108.6704025  106.36059673  96.14447037\n",
      "  77.03897198 104.04191247 109.72936264  98.90785151 106.46534825\n",
      " 113.10204895 111.46826077 142.92783293 117.64611937 116.48668969\n",
      "  86.54549796  85.46600827 102.72601512 143.49995806  95.06596204\n",
      "  86.77736145  85.08115291  80.81247111  90.11015805 110.2300687\n",
      " 151.80101228 115.4038203   79.14648081  85.98203159  94.05637375\n",
      " 101.78605574  89.82493743 103.85194353  74.8478052   68.240954\n",
      " 133.11633465 136.15743355  82.10244031  90.01347633  93.43474472\n",
      "  96.65239384 113.26385277  77.50084659 100.44727724 101.50327314\n",
      " 102.60181805 119.0492429  115.82199392  78.0977088  122.27887017\n",
      " 129.16975612  92.49968114 104.5129277   99.1143941   90.56480986\n",
      "  68.76466603  86.29282257  81.31172892 112.2267577   99.07199759\n",
      "  90.34901536 128.68002561  80.5156085   90.32526894 106.06881914\n",
      " 110.55103945  64.40309914 114.20511432  93.62769706 125.01108266\n",
      " 101.52941333 126.92872996 122.23610103 101.04452139  73.76602401\n",
      " 103.76722568 117.07040841  96.18769572 126.35779394  85.49618924\n",
      " 104.39826393  88.90749343 117.77314953 119.36903078 118.28593277\n",
      "  99.32661847  79.22430139  86.26314419 125.17732462 127.13863805\n",
      " 125.48449267  76.66079961 103.27706619 106.33014612 109.24269419\n",
      "  85.0662693   87.75039972 120.53993864 103.07881734  97.67052052\n",
      "  70.98695938 108.52457521  96.79565845 125.36856933  90.67172187\n",
      "  83.89875429  93.18241784 112.72594417  73.753755   112.57123669\n",
      "  87.29001257  93.08880354 118.10952212 101.84743275  69.41229087\n",
      " 102.41510672  84.14054974  88.15480067  94.12981255  80.70439561\n",
      "  85.79109841 114.01853446  74.82224329  84.18101747 108.50953703\n",
      " 110.17968308 106.2502097  121.92463283  91.00526418 138.76389164\n",
      " 120.2570991  106.97782647  93.47431581  97.07390049 103.20285918\n",
      "  58.14683481 117.42154586 105.34840297 101.32711294  93.75404058\n",
      " 123.7732246  113.18752456 131.21823991 150.26444933  81.42606689\n",
      "  75.34067541  97.28407283 119.52913155  92.48852817  77.58943116\n",
      " 111.32282716 124.50710516 129.68614815 110.30346456  91.68820576\n",
      "  55.37354882  79.67513767  97.86021868  99.81173733 111.18749928\n",
      " 114.40645379 126.83165115  97.09294396 106.84030495  89.69724888\n",
      "  89.05675216  80.7193269   90.66790503 106.43650561  90.90282076\n",
      " 140.2390756   99.85338008  92.01814094 116.46066306 112.99455033\n",
      "  92.68711381  86.1821511   95.46396348  88.10219703  99.67980312\n",
      " 121.42611184 112.537501    97.34099977  95.83689923  91.21874199\n",
      "  84.32700197 101.10927404 135.11039066 101.97267706 105.4102061\n",
      "  98.48611257  89.51944363 108.40798138  99.42117663 119.82738557\n",
      " 141.50413237 123.42560262  88.11510022 110.8366651  110.10121428\n",
      "  95.51087059 122.17483847  98.99002466  99.06888405  88.80786914\n",
      "  74.67127894  89.89240807  87.44607928  85.25235038  92.97674409\n",
      "  99.01081413  96.66871623  90.20678058  90.75225256  83.4366946\n",
      " 110.86056713  83.68931907 104.98290247 108.74475999 100.56693047\n",
      "  95.48323843 123.11471123 143.94089443 100.95331379  77.14651238\n",
      "  93.2477928  121.71905479 145.71728828 118.054578   110.54750363\n",
      "  96.9473758   99.67690918 120.22606222 100.74318258  93.73010777\n",
      "  89.85185147 102.34621902 108.6981586   84.67242287  86.95696286\n",
      " 113.27632791 101.20262354 109.44378434 108.88218369 132.58859241\n",
      " 121.84837044 109.87382449 114.33442936 123.78937567  98.03358048\n",
      "  85.12767936  95.14487938 114.99017641  88.78257433 108.663787\n",
      "  72.41529263 107.98450575 103.89466137 117.84455228 103.91048506\n",
      " 100.49916737 103.24940722  90.27644315  90.58058764  92.2252697\n",
      "  96.54681703  84.07936566 112.49749622 120.37234135 106.43164569\n",
      " 115.49884063  64.56999398 108.11989117  82.00323809 103.51104045\n",
      " 103.81519751 106.80457172  98.0143884   91.32688863  98.77467803\n",
      " 112.93101727 101.5379388   95.63060996 103.06029548  99.45608137\n",
      "  95.80203039  79.60668541  93.20434855  82.90801349  58.30893235\n",
      "  65.71530667  71.15698613  95.43559661 117.67388926 106.7690747\n",
      " 106.88622681 102.44694854 112.23204434 114.01029047  79.21640038\n",
      "  83.51832237 120.72994991  64.83231245 102.99397873 112.18821677\n",
      "  91.99006364 108.86862312 118.34926615 115.70237592 102.65824598\n",
      " 111.35286973  99.50192275  93.80169184  84.44705815  76.34001735\n",
      "  91.32061447 104.6655888   86.11949113 102.62388546  81.07787739\n",
      "  96.75764787 107.20431162  99.61126118 107.31748867 112.2314412\n",
      " 104.42666562 112.81046957 113.89346728 121.07802303  89.40787732\n",
      " 111.8602127   82.67065331 125.34594501 133.59754513 109.91980749\n",
      "  95.29841127  81.26850825 103.28141121 100.97345242  66.0473738\n",
      "  72.69137828  98.40314399  84.02537833 100.07941215 140.64112227\n",
      " 117.44784335 110.03770422 107.38425587 118.84465194 116.59104863\n",
      "  98.95256187  91.47324493 145.68405779 105.95390439 116.98120895\n",
      "  79.64405109 101.90371831 105.26436464  59.97816144 105.72212257\n",
      "  98.67847163 102.59643188 106.98434246  77.37741483  86.1355322\n",
      " 103.70602434 110.83753277 111.74266724 108.47089142  99.77219757]\n"
     ]
    }
   ],
   "source": [
    "print('mean',np.mean(b,axis=1))\n",
    "print('std',np.std(b,axis=1))\n",
    "print('median',np.median(b,axis=1))"
   ]
  },
  {
   "cell_type": "code",
   "execution_count": 92,
   "metadata": {},
   "outputs": [],
   "source": [
    "bb = np.random.normal(100,25,size=(1000,2,2))"
   ]
  },
  {
   "cell_type": "code",
   "execution_count": 93,
   "metadata": {},
   "outputs": [
    {
     "name": "stdout",
     "output_type": "stream",
     "text": [
      "mean [[124.28424043  89.33967171]\n",
      " [ 89.09699487 112.94683512]\n",
      " [ 47.09689521  97.66594419]\n",
      " ...\n",
      " [129.96554588  73.28519075]\n",
      " [ 93.2899518   53.24701099]\n",
      " [102.18612612 121.26132835]]\n",
      "std [[16.2830947  20.80050464]\n",
      " [ 1.17376714 20.38065224]\n",
      " [ 2.16930813  8.14764035]\n",
      " ...\n",
      " [ 4.13177824  3.92464109]\n",
      " [ 0.49537191 12.28735166]\n",
      " [16.47945502  4.10781862]]\n",
      "median [[124.28424043  89.33967171]\n",
      " [ 89.09699487 112.94683512]\n",
      " [ 47.09689521  97.66594419]\n",
      " ...\n",
      " [129.96554588  73.28519075]\n",
      " [ 93.2899518   53.24701099]\n",
      " [102.18612612 121.26132835]]\n"
     ]
    }
   ],
   "source": [
    "print('mean',np.mean(bb,axis=2))\n",
    "print('std',np.std(bb,axis=2))\n",
    "print('median',np.median(bb,axis=2))"
   ]
  },
  {
   "cell_type": "code",
   "execution_count": 94,
   "metadata": {},
   "outputs": [
    {
     "name": "stdout",
     "output_type": "stream",
     "text": [
      "(1000, 2)\n"
     ]
    }
   ],
   "source": [
    "print(np.mean(bb,axis=2).shape)"
   ]
  },
  {
   "cell_type": "markdown",
   "metadata": {
    "colab_type": "text",
    "id": "uwAr9EqbpZwg"
   },
   "source": [
    "\n",
    "\n",
    "---\n",
    "\n",
    "\n",
    "\n",
    "---\n",
    "\n",
    "\n",
    "\n",
    "> > > > > > > > > © 2019 Institute of Data\n",
    "\n",
    "\n",
    "---\n",
    "\n",
    "\n",
    "\n",
    "---\n",
    "\n",
    "\n",
    "\n"
   ]
  }
 ],
 "metadata": {
  "colab": {
   "collapsed_sections": [],
   "name": "Lab 1.2.1 Numpy Lab.ipynb",
   "provenance": [
    {
     "file_id": "https://github.com/ikfaisal/dsia/blob/master/Numpy01.ipynb",
     "timestamp": 1552620043198
    }
   ]
  },
  "kernelspec": {
   "display_name": "Python 3",
   "language": "python",
   "name": "python3"
  },
  "language_info": {
   "codemirror_mode": {
    "name": "ipython",
    "version": 3
   },
   "file_extension": ".py",
   "mimetype": "text/x-python",
   "name": "python",
   "nbconvert_exporter": "python",
   "pygments_lexer": "ipython3",
   "version": "3.8.3"
  }
 },
 "nbformat": 4,
 "nbformat_minor": 1
}
