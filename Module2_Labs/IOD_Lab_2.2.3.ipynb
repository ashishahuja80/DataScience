{
 "cells": [
  {
   "cell_type": "markdown",
   "metadata": {
    "colab_type": "text",
    "id": "nOGGU7gNKck0"
   },
   "source": [
    "<div>\n",
    "<img src=https://www.institutedata.com/wp-content/uploads/2019/10/iod_h_tp_primary_c.svg width=\"300\">\n",
    "</div>"
   ]
  },
  {
   "cell_type": "markdown",
   "metadata": {
    "colab_type": "text",
    "id": "_D_idRWZKck4"
   },
   "source": [
    "# Lab 2.2.3 \n",
    "# *Mining Social Media on Reddit*"
   ]
  },
  {
   "cell_type": "markdown",
   "metadata": {
    "colab_type": "text",
    "id": "atJ1XMr3Kck7"
   },
   "source": [
    "## The Reddit API and the PRAW Package"
   ]
  },
  {
   "cell_type": "markdown",
   "metadata": {
    "colab_type": "text",
    "id": "aJ9o1EfAKck-"
   },
   "source": [
    "The Reddit API is rich and complex, with many endpoints (https://www.reddit.com/dev/api/). It includes methods for navigating its collections, which include various kinds of media as well as comments. Fortunately, the Python library PRAW reduces much of this complexity.\n",
    "\n",
    "Reddit requires developers to create and authenticate an app before they can use the API, but the process is much less onerus than some, and does not have waiting period for approval of new developers (as of 18 August 2018)."
   ]
  },
  {
   "cell_type": "markdown",
   "metadata": {
    "colab_type": "text",
    "id": "egz9IUhlKclB"
   },
   "source": [
    "### 1. Create a Reddit App\n",
    "\n",
    "Go to https://www.reddit.com/prefs/apps and click \"create an app\".\n",
    "\n",
    "Enter the following in the form:\n",
    "\n",
    "- a name for your app\n",
    "- select \"script\" radio button\n",
    "- a description\n",
    "- a redirect URI\n",
    "\n",
    "(Nb. For pulling data into a data science experiment, a local port can be used for the Redirect URI; try http://127.0.0.1:1410)\n",
    "\n",
    "![image.png](attachment:image.png)\n",
    "\n",
    "- click \"create app\"\n",
    "- from the form that displays, copy the following to a local text file (or to this notebook):\n",
    "\n",
    "  - name (the name you gave to your app) data_science_app\n",
    "  - redirect URI http://127.0.0.1:1410\n",
    "  - personal use script (this is your OAuth 2 Client ID) jslHVPT9k1lNYw\n",
    "  - secret (this is your OAuth 2 Secret) nHqG_gpM60qBU4c9fXimZu9VUQ0"
   ]
  },
  {
   "cell_type": "markdown",
   "metadata": {
    "colab_type": "text",
    "id": "LF9V-LJ2KclE"
   },
   "source": [
    "### 2. Register for API Access\n",
    "\n",
    "- follow the link at https://www.reddit.com/wiki/api and read the terms of use for Reddit API access \n",
    "- fill in the form fields at the bottom \n",
    "  - make sure to enter your new OAuth Client ID where indicated\n",
    "  - your use case could be something like \"Training in API usage for data science projects\"\n",
    "  - your platform could be something like \"Jupyter Notebooks / Python\"\n",
    "  \n",
    "- click \"SUBMIT\"\n",
    " \n",
    "- when asked for User-Agent, enter something that fits this pattern:\n",
    "  `your_os-python:your_reddit_appname:v1.0 (by /u/your_reddit_username)`"
   ]
  },
  {
   "cell_type": "markdown",
   "metadata": {
    "colab_type": "text",
    "id": "JIsv8YAMKclG"
   },
   "source": [
    "### 3. Load Python Libraries"
   ]
  },
  {
   "cell_type": "code",
   "execution_count": 1,
   "metadata": {
    "colab": {},
    "colab_type": "code",
    "id": "xqi2BT66KclI"
   },
   "outputs": [],
   "source": [
    "import praw\n",
    "import requests\n",
    "import json\n",
    "import pprint\n",
    "from datetime import datetime, date, time"
   ]
  },
  {
   "cell_type": "markdown",
   "metadata": {
    "colab_type": "text",
    "id": "wwXaO9GPKclP"
   },
   "source": [
    "### 4. Authenticate from your Python script"
   ]
  },
  {
   "cell_type": "markdown",
   "metadata": {
    "colab_type": "text",
    "id": "ZF5oh54RKclR"
   },
   "source": [
    "You could assign your authentication details explicitly, as follows:"
   ]
  },
  {
   "cell_type": "code",
   "execution_count": 2,
   "metadata": {
    "colab": {},
    "colab_type": "code",
    "id": "qH2-X9juKclS"
   },
   "outputs": [],
   "source": [
    "my_user_agent = 'windows-python:data_science_app:v1.0 (by /u/Business_Accountant4)'   # your user Agent string goes in here\n",
    "my_client_id = 'jslHVPT9k1lNYw'   # your Client ID string goes in here\n",
    "my_client_secret = 'nHqG_gpM60qBU4c9fXimZu9VUQ0'   # your Secret string goes in here"
   ]
  },
  {
   "cell_type": "markdown",
   "metadata": {
    "colab_type": "text",
    "id": "1TmzPxHIKclX"
   },
   "source": [
    "A better way would be to store these details externally, so they are not displayed in the notebook:\n",
    "\n",
    "- create a file called \"auth_reddit.json\" in your \"notebooks\" directory, and save your credentials there in JSON format:\n",
    "\n",
    "`{   \"my_client_id\": \"your Client ID string goes in here\",` <br>\n",
    "&nbsp;&nbsp;&nbsp;&nbsp;&nbsp;&nbsp;&nbsp;&nbsp;` \"my_client_secret\": \"your Secret string goes in here\",` <br>\n",
    "&nbsp;&nbsp;&nbsp;&nbsp;&nbsp;&nbsp;&nbsp;&nbsp;`\"my_user_agent\": \"your user Agent string goes in here\"` <br>\n",
    "`}`\n",
    "\n",
    "Use the following code to load the credentials:  "
   ]
  },
  {
   "cell_type": "code",
   "execution_count": 3,
   "metadata": {
    "colab": {},
    "colab_type": "code",
    "id": "mFbFWGnVKclY"
   },
   "outputs": [
    {
     "data": {
      "text/plain": [
       "'C:\\\\data\\\\work\\\\IOD\\\\DataScience\\\\Module2_Labs'"
      ]
     },
     "execution_count": 3,
     "metadata": {},
     "output_type": "execute_result"
    }
   ],
   "source": [
    "pwd()  # make sure your working directory is where the file is"
   ]
  },
  {
   "cell_type": "code",
   "execution_count": 3,
   "metadata": {
    "colab": {},
    "colab_type": "code",
    "id": "Jc5_dh-jKclc"
   },
   "outputs": [
    {
     "ename": "FileNotFoundError",
     "evalue": "[Errno 2] No such file or directory: 'auth_reddit.json'",
     "output_type": "error",
     "traceback": [
      "\u001b[1;31m---------------------------------------------------------------------------\u001b[0m",
      "\u001b[1;31mFileNotFoundError\u001b[0m                         Traceback (most recent call last)",
      "\u001b[1;32m<ipython-input-3-ee005136651f>\u001b[0m in \u001b[0;36m<module>\u001b[1;34m\u001b[0m\n\u001b[0;32m      1\u001b[0m \u001b[0mpath_auth\u001b[0m \u001b[1;33m=\u001b[0m \u001b[1;34m'auth_reddit.json'\u001b[0m\u001b[1;33m\u001b[0m\u001b[1;33m\u001b[0m\u001b[0m\n\u001b[1;32m----> 2\u001b[1;33m \u001b[0mauth\u001b[0m \u001b[1;33m=\u001b[0m \u001b[0mjson\u001b[0m\u001b[1;33m.\u001b[0m\u001b[0mloads\u001b[0m\u001b[1;33m(\u001b[0m\u001b[0mopen\u001b[0m\u001b[1;33m(\u001b[0m\u001b[0mpath_auth\u001b[0m\u001b[1;33m)\u001b[0m\u001b[1;33m.\u001b[0m\u001b[0mread\u001b[0m\u001b[1;33m(\u001b[0m\u001b[1;33m)\u001b[0m\u001b[1;33m)\u001b[0m\u001b[1;33m\u001b[0m\u001b[1;33m\u001b[0m\u001b[0m\n\u001b[0m\u001b[0;32m      3\u001b[0m \u001b[0mpp\u001b[0m \u001b[1;33m=\u001b[0m \u001b[0mpprint\u001b[0m\u001b[1;33m.\u001b[0m\u001b[0mPrettyPrinter\u001b[0m\u001b[1;33m(\u001b[0m\u001b[0mindent\u001b[0m\u001b[1;33m=\u001b[0m\u001b[1;36m4\u001b[0m\u001b[1;33m)\u001b[0m\u001b[1;33m\u001b[0m\u001b[1;33m\u001b[0m\u001b[0m\n\u001b[0;32m      4\u001b[0m \u001b[1;31m# For debugging only:\u001b[0m\u001b[1;33m\u001b[0m\u001b[1;33m\u001b[0m\u001b[1;33m\u001b[0m\u001b[0m\n\u001b[0;32m      5\u001b[0m \u001b[1;31m#pp.pprint(auth)\u001b[0m\u001b[1;33m\u001b[0m\u001b[1;33m\u001b[0m\u001b[1;33m\u001b[0m\u001b[0m\n",
      "\u001b[1;31mFileNotFoundError\u001b[0m: [Errno 2] No such file or directory: 'auth_reddit.json'"
     ]
    }
   ],
   "source": [
    "path_auth = 'auth_reddit.json'\n",
    "auth = json.loads(open(path_auth).read())\n",
    "pp = pprint.PrettyPrinter(indent=4)\n",
    "# For debugging only:\n",
    "#pp.pprint(auth)\n",
    "\n",
    "my_user_agent = auth['my_user_agent']\n",
    "my_client_id = auth['my_client_id']\n",
    "my_client_secret = auth['my_client_secret']"
   ]
  },
  {
   "cell_type": "markdown",
   "metadata": {
    "colab_type": "text",
    "id": "lVKFy9rZKclf"
   },
   "source": [
    "Security considerations: \n",
    "- this method only keeps your credentials invisible as long as nobody else gets access to this notebook file \n",
    "- if you wanted another user to have access to the executable notebook without divulging your credentials you should set up an OAuth 2.0 workflow to let them obtain and apply their own API tokens when using your app\n",
    "- if you just want to share your analyses, you could use a separate script (which you don't share) to fetch the data and save it locally, then use a second notebook (with no API access) to load and analyse the locally stored data"
   ]
  },
  {
   "cell_type": "markdown",
   "metadata": {
    "colab_type": "text",
    "id": "fgHqt72rKclg"
   },
   "source": [
    "### 5. Exploring the API"
   ]
  },
  {
   "cell_type": "markdown",
   "metadata": {
    "colab_type": "text",
    "id": "ByEQS6QsKclh"
   },
   "source": [
    "Here is how to connect to Reddit with read-only access:"
   ]
  },
  {
   "cell_type": "code",
   "execution_count": 4,
   "metadata": {
    "colab": {},
    "colab_type": "code",
    "id": "8hkZJlcJKcli"
   },
   "outputs": [
    {
     "name": "stdout",
     "output_type": "stream",
     "text": [
      "Read-only = True\n"
     ]
    }
   ],
   "source": [
    "reddit = praw.Reddit(client_id = my_client_id, \n",
    "                     client_secret = my_client_secret, \n",
    "                     user_agent = my_user_agent)\n",
    "\n",
    "print('Read-only = ' + str(reddit.read_only))  # Output: True"
   ]
  },
  {
   "cell_type": "markdown",
   "metadata": {
    "colab_type": "text",
    "id": "slGz0lS5Kclk"
   },
   "source": [
    "In the next cell, put the cursor after the '.' and hit the [tab] key to see the available members and methods in the response object:"
   ]
  },
  {
   "cell_type": "code",
   "execution_count": 5,
   "metadata": {
    "colab": {},
    "colab_type": "code",
    "id": "6MvyYewEKcll"
   },
   "outputs": [
    {
     "name": "stdout",
     "output_type": "stream",
     "text": [
      "<praw.models.auth.Auth object at 0x0000023E0EE99CD0>\n"
     ]
    }
   ],
   "source": [
    "print(reddit.auth)"
   ]
  },
  {
   "cell_type": "markdown",
   "metadata": {
    "colab_type": "text",
    "id": "AKfXBu7yKcln"
   },
   "source": [
    "Consult the PRAW and Reddit API documentation. Print a few of the response members below:"
   ]
  },
  {
   "cell_type": "code",
   "execution_count": 6,
   "metadata": {
    "colab": {},
    "colab_type": "code",
    "id": "31Njl99lKcln"
   },
   "outputs": [
    {
     "name": "stdout",
     "output_type": "stream",
     "text": [
      "Lovely sunset I took this evening\n",
      "2\n",
      "j91z9g\n",
      "https://i.redd.it/n1mcju7hifs51.jpg\n",
      "I saw this robot in woolies, any idea what it does\n",
      "2\n",
      "j91ygj\n",
      "https://i.redd.it/xg9zm7q2ifs51.jpg\n",
      "Facts\n",
      "8\n",
      "j91tai\n",
      "https://i.redd.it/mx9y0v1offs51.jpg\n",
      "...\n",
      "4\n",
      "j91sxu\n",
      "https://i.redd.it/3etnp4wiffs51.jpg\n",
      "Westgate Bridge collapse, 50 years ago today - TIL\n",
      "5\n",
      "j91pqj\n",
      "https://i.redd.it/yi0cq29zdfs51.jpg\n",
      "Folks in Bundoora been cooped up for too long...\n",
      "9\n",
      "j91oby\n",
      "https://i.redd.it/k72ysr4ddfs51.jpg\n",
      "Snapped the new resident in our backyard. It's noisy AF at night and poops everywhere, but kind of cute!\n",
      "9\n",
      "j91my1\n",
      "https://i.redd.it/786tdu6bcfs51.png\n",
      "Really doubt...this spoon is from a kid\n",
      "9\n",
      "j91mm4\n",
      "https://i.redd.it/ngxturricfs51.jpg\n",
      "Found in Oakleigh\n",
      "17\n",
      "j91hzx\n",
      "https://i.redd.it/x1kf44fhoes51.jpg\n",
      "Thornbury anarchists?\n",
      "1\n",
      "j915hz\n",
      "https://i.redd.it/z5rbj66r4fs51.jpg\n",
      "WCGW playing in flood waters, Brimbank Park\n",
      "2\n",
      "j90sfm\n",
      "https://www.reddit.com/gallery/j90sfm\n",
      "Is anyone else feeling really lost and helpless?\n",
      "23\n",
      "j90rg8\n",
      "https://www.reddit.com/r/melbourne/comments/j90rg8/is_anyone_else_feeling_really_lost_and_helpless/\n",
      "Apollo Bay June 2020\n",
      "12\n",
      "j90f9r\n",
      "https://i.redd.it/hnump58jtes51.jpg\n",
      "Flinders Street station - 1946\n",
      "17\n",
      "j90ha0\n",
      "https://i.redd.it/6aybxo6bues51.jpg\n",
      "Got approved for a place but is asking for 4 week's rent upfront dodgy? The real estate seems legit (I checked website) I just haven't had to pay upfront before especially before signing the lease.\n",
      "0\n",
      "j90393\n",
      "https://i.redd.it/mamkk0sfoes51.png\n",
      "Opinions on beer containers?\n",
      "0\n",
      "j909jt\n",
      "https://www.reddit.com/r/melbourne/comments/j909jt/opinions_on_beer_containers/\n",
      "Hard drive repair\n",
      "0\n",
      "j903l7\n",
      "https://www.reddit.com/r/melbourne/comments/j903l7/hard_drive_repair/\n",
      "Diving catch and cook in victoria\n",
      "0\n",
      "j8zziq\n",
      "https://www.reddit.com/r/melbourne/comments/j8zziq/diving_catch_and_cook_in_victoria/\n",
      "Monarch Institute - Are they any good?\n",
      "0\n",
      "j8zt9r\n",
      "https://www.reddit.com/r/melbourne/comments/j8zt9r/monarch_institute_are_they_any_good/\n",
      "Long shot in case of stolen motorcycle\n",
      "8\n",
      "j8zjgk\n",
      "https://www.reddit.com/r/melbourne/comments/j8zjgk/long_shot_in_case_of_stolen_motorcycle/\n"
     ]
    }
   ],
   "source": [
    "for submission in reddit.subreddit(\"melbourne\").new(limit=20):\n",
    "    print(submission.title)  # Output: the submission's title\n",
    "    print(submission.score)  # Output: the submission's score\n",
    "    print(submission.id)     # Output: the submission's ID\n",
    "    print(submission.url)    # Output: the URL the submission points to\n",
    "    \n"
   ]
  },
  {
   "cell_type": "code",
   "execution_count": 11,
   "metadata": {},
   "outputs": [
    {
     "name": "stdout",
     "output_type": "stream",
     "text": [
      "[Comment(id='g8g0clk'), Comment(id='g8g4zz4'), Comment(id='g8g5gl3'), Comment(id='g8g19z6'), Comment(id='g8g1tlz'), Comment(id='g8g3xcx'), Comment(id='g8g5mvw')]\n",
      "I drink quite a bit, I’m drunk now - and I’ve never heard of those brands you mentioned. We drink from a cans or bottles with stubbie holders; or draught in pot, scooner, pint or jug format.\n",
      "\n",
      "This might sound strange, it was foreign to me once. But that’s how we roll. Good luck.\n",
      "I don’t own one and don’t want one. So that’s probably not a very helpful opinion!\n",
      "Not stainless steel, but I order fresh tap beer from Old Palm Liqour frequently, and it comes in reusable 1L glass bottles, with a regular (jar type) screw lid.  Holds carbonation for about 8-12 hours max. So you need to be really committed to drinking if you order more than three at a time.\n",
      "There's very few growlers available, which is why bar and pub owners have not sold alcohol and Melbourne has relied on alcohol shops exclusively for months. Big gap in the market, especially for small brewers of beer and cider.\n",
      "I have a stainless steel growler which is either 1lt or 1.5lt. It was produced by Brew-Tek and available as part of a promotion during Good Beer Week in 2013.  Other than that, we have a few of the more common amber glass growler and squealers (which are approx 600-800ml, I think?)\n",
      "\n",
      "However 99% of the time they just live in our cupboard.  There used to be more places offering BYO vessels for fills or buy one to go, but people are just as happy to get a single use PET at the time.  I think the appeal of growlers came and went.  Even Dan Murphy's (our major bottle shop chain) investigated taps for fills in a few flagship stores and it never took off.\n",
      "\n",
      "Check out Tallboy & Moose brewery in Preston.  They fill straight into single use 1lt cans. I've seen other places doing similar (Garage Project in NZ is another off the top of my head).\n",
      "I reckon the go would be to get them into craft beer pubs to handle take away from the tap.\n",
      "I've drunk a lot of beer in my life and I've never heard of a growler or either of those brands. It.sounds like a type of cup, in which case most Aussies are going to stick with glass pots or tankards I would imagine. Personally I just drink from the bottle and wouldn't be spending beer money on a new cup.\n",
      "Sounds like a fun challenge!\n",
      "There's a few places that will fill up a growler for you that I've been to.   \n",
      "\n",
      "Beer just seems to taste so much better straight off the tap\n",
      "Toolboy and Moose would be an outfit the OP could reach out to.\n"
     ]
    }
   ],
   "source": [
    "submission = reddit.submission(id=\"j909jt\")\n",
    "top_level_comments = list(submission.comments)\n",
    "print(top_level_comments)\n",
    "all_comments = submission.comments.list()\n",
    "for comment in all_comments:\n",
    "    print(comment.body)"
   ]
  },
  {
   "cell_type": "code",
   "execution_count": 12,
   "metadata": {},
   "outputs": [],
   "source": [
    "submissions = reddit.subreddit('TechNewsToday').new(limit=50)\n",
    "num_comments={}\n",
    "for submission in submissions:\n",
    "    #top_level_comments = list(submission.comments)\n",
    "    all_comments = submission.comments.list()\n",
    "    num_comments[submission.id]=len(all_comments)\n",
    "    #for comment in all_comments:\n",
    "    #    print(comment.body)"
   ]
  },
  {
   "cell_type": "code",
   "execution_count": 15,
   "metadata": {},
   "outputs": [
    {
     "name": "stdout",
     "output_type": "stream",
     "text": [
      "{'j90ll2': 0, 'j90ksv': 0, 'j90iz9': 0, 'j8zxzh': 0, 'j8s36e': 0, 'j8ra6d': 1, 'j8m77i': 355, 'j8d2po': 258, 'j8bfrl': 1, 'j83uq5': 9, 'j7z05o': 0, 'j7yrr8': 0, 'j7yky9': 0, 'j7yjf0': 6, 'j7y6ed': 0, 'j7vrwe': 0, 'j7vdpg': 0, 'j7uo8o': 0, 'j7unv5': 0, 'j7uhsr': 1, 'j7u01c': 394, 'j7nof7': 1, 'j7lb2e': 1, 'j7dyrh': 0, 'j7ae9r': 384, 'j7a1sm': 28, 'j79zyz': 139, 'j6p8cb': 136, 'j6kmkm': 3, 'j6fvy9': 4, 'j68uj0': 1, 'j65b0z': 401, 'j5xp0u': 3, 'j5xnbm': 0, 'j5x1u9': 0, 'j5qb6m': 1, 'j5lnhg': 0, 'j5l2uh': 1, 'j5h9eh': 0, 'j5h4m9': 438, 'j5h0h3': 1, 'j5g194': 0, 'j5ay9g': 41, 'j550ox': 2, 'j536fv': 1, 'j4umd6': 238, 'j3xw24': 224, 'j3p32e': 9, 'j3jxpn': 146, 'j3dg6t': 5}\n"
     ]
    },
    {
     "data": {
      "text/plain": [
       "<matplotlib.axes._subplots.AxesSubplot at 0x23e132f3be0>"
      ]
     },
     "execution_count": 15,
     "metadata": {},
     "output_type": "execute_result"
    },
    {
     "data": {
      "image/png": "[encoded data removed]",
      "text/plain": [
       "<Figure size 432x288 with 1 Axes>"
      ]
     },
     "metadata": {
      "needs_background": "light"
     },
     "output_type": "display_data"
    }
   ],
   "source": [
    "import seaborn as sns\n",
    "print(num_comments)\n",
    "keys = list(num_comments.keys())\n",
    "# get values in the same order as keys, and parse percentage values\n",
    "vals = [num_comments[k] for k in keys]\n",
    "sns.barplot(x=keys, y=vals)"
   ]
  },
  {
   "cell_type": "code",
   "execution_count": 19,
   "metadata": {},
   "outputs": [
    {
     "name": "stdout",
     "output_type": "stream",
     "text": [
      "UK: 16,000 Covid cases are missed because an 'Excel spreadsheet maxed out and wouldn't update' - meaning thousands of potentially infected contacts slipped through net\n"
     ]
    }
   ],
   "source": [
    "max(vals)\n",
    "submission = reddit.submission(id=\"j5h4m9\")\n",
    "print(submission.title)"
   ]
  },
  {
   "cell_type": "code",
   "execution_count": null,
   "metadata": {},
   "outputs": [],
   "source": []
  },
  {
   "cell_type": "markdown",
   "metadata": {
    "colab_type": "text",
    "id": "5L10cuKfKclp"
   },
   "source": [
    "Content in Reddit is grouped by topics called \"subreddits\". Content, called \"submissions\", is fetched by calling the `subreddit` method of the connection object (which is our `reddit` variable) with an argument that matches an actual topic. \n",
    "\n",
    "We also need to append a further method call to a \"subinstance\", such as one of the following:\n",
    "\n",
    "- controversial\n",
    "- gilded\n",
    "- hot\n",
    "- new\n",
    "- rising\n",
    "- top\n",
    "\n",
    "One of the submission objects members is `title`. Fetch and print 10 submission titles from the 'learnpython' subreddit using one of the subinstances above:"
   ]
  },
  {
   "cell_type": "code",
   "execution_count": 13,
   "metadata": {
    "colab": {},
    "colab_type": "code",
    "id": "2W1iCDE9Kclp"
   },
   "outputs": [
    {
     "name": "stdout",
     "output_type": "stream",
     "text": [
      "Ask Anything Monday - Weekly Thread\n",
      "Fucked up by not learning how to properly set up environment\n",
      "How well should I know Python before applying for a programming job?\n",
      "New milestone!\n",
      "Understanding the For Loop\n",
      "There are too many versions of COPY in Python. How do I make an EXACT copy of a list?\n",
      "Python Books\n",
      "Alright, Hopefully this is the last question for tonight....\n",
      "What are recursive functions, what are their uses and where can I learn more about them practically?\n",
      "Timeseries bar plot with scrollbar for each timestamp\n"
     ]
    }
   ],
   "source": [
    "for submission in reddit.subreddit('learnpython').hot(limit=10):\n",
    "    print(submission.title)"
   ]
  },
  {
   "cell_type": "markdown",
   "metadata": {
    "colab_type": "text",
    "id": "00coF0YJKclr"
   },
   "source": [
    "Now retrieve 10 authors:"
   ]
  },
  {
   "cell_type": "code",
   "execution_count": 14,
   "metadata": {
    "colab": {},
    "colab_type": "code",
    "id": "U1vTByCGKclr"
   },
   "outputs": [
    {
     "name": "stdout",
     "output_type": "stream",
     "text": [
      "AutoModerator\n",
      "stangytangy\n",
      "ZincYellowCobruh\n",
      "hellomew\n",
      "PerezSchoolOP101\n",
      "rkarl7777\n",
      "alex_a18\n",
      "StaticGT86\n",
      "maramingsalamatpo\n",
      "OG_QewQew\n"
     ]
    }
   ],
   "source": [
    "for submission in reddit.subreddit('learnpython').hot(limit=10):\n",
    "    print(submission.author)"
   ]
  },
  {
   "cell_type": "markdown",
   "metadata": {
    "colab_type": "text",
    "id": "dOFMMl6AKclt"
   },
   "source": [
    "Note that we obtained the titles and authors from separate API calls. Can we expect these to correspond to the same submissions? If not, how could we gurantee that they do?"
   ]
  },
  {
   "cell_type": "code",
   "execution_count": 15,
   "metadata": {
    "colab": {},
    "colab_type": "code",
    "id": "eIPVr-WaKclu"
   },
   "outputs": [
    {
     "name": "stdout",
     "output_type": "stream",
     "text": [
      "[Redditor(name='AutoModerator'), 'Ask Anything Monday - Weekly Thread']\n",
      "[Redditor(name='stangytangy'), 'Fucked up by not learning how to properly set up environment']\n",
      "[Redditor(name='ZincYellowCobruh'), 'How well should I know Python before applying for a programming job?']\n",
      "[Redditor(name='hellomew'), 'New milestone!']\n",
      "[Redditor(name='PerezSchoolOP101'), 'Understanding the For Loop']\n",
      "[Redditor(name='rkarl7777'), 'There are too many versions of COPY in Python. How do I make an EXACT copy of a list?']\n",
      "[Redditor(name='alex_a18'), 'Python Books']\n",
      "[Redditor(name='StaticGT86'), 'Alright, Hopefully this is the last question for tonight....']\n",
      "[Redditor(name='maramingsalamatpo'), 'What are recursive functions, what are their uses and where can I learn more about them practically?']\n",
      "[Redditor(name='OG_QewQew'), 'Timeseries bar plot with scrollbar for each timestamp']\n"
     ]
    }
   ],
   "source": [
    "for submission in reddit.subreddit('learnpython').hot(limit=10):\n",
    "    print([submission.author,submission.title])"
   ]
  },
  {
   "cell_type": "markdown",
   "metadata": {
    "colab_type": "text",
    "id": "IjIJ6ojAKclv"
   },
   "source": [
    "Why doesn't the next cell produce output?"
   ]
  },
  {
   "cell_type": "code",
   "execution_count": 22,
   "metadata": {
    "colab": {},
    "colab_type": "code",
    "id": "ifxjcJ2aKclw"
   },
   "outputs": [
    {
     "name": "stdout",
     "output_type": "stream",
     "text": [
      "<praw.models.comment_forest.CommentForest object at 0x0000025A94DD3160>\n",
      "<praw.models.comment_forest.CommentForest object at 0x0000025A952D4E20>\n",
      "<praw.models.comment_forest.CommentForest object at 0x0000025A952D0130>\n",
      "<praw.models.comment_forest.CommentForest object at 0x0000025A952E2A60>\n",
      "<praw.models.comment_forest.CommentForest object at 0x0000025A94EC1820>\n",
      "<praw.models.comment_forest.CommentForest object at 0x0000025A94EC4220>\n",
      "<praw.models.comment_forest.CommentForest object at 0x0000025A94EC4B20>\n",
      "<praw.models.comment_forest.CommentForest object at 0x0000025A94EC4A90>\n",
      "<praw.models.comment_forest.CommentForest object at 0x0000025A94EA4F10>\n",
      "<praw.models.comment_forest.CommentForest object at 0x0000025A94ED1550>\n"
     ]
    }
   ],
   "source": [
    "submissions = reddit.subreddit('learnpython').hot(limit=10)\n",
    "for submission in submissions:\n",
    "    print(submission.comments)"
   ]
  },
  {
   "cell_type": "code",
   "execution_count": 0,
   "metadata": {
    "colab": {},
    "colab_type": "code",
    "id": "kPNVNapBKcly"
   },
   "outputs": [],
   "source": []
  },
  {
   "cell_type": "markdown",
   "metadata": {
    "colab_type": "text",
    "id": "4aZ2OSd_Kclz"
   },
   "source": [
    "Print two comments associated with each of these submissions:"
   ]
  },
  {
   "cell_type": "code",
   "execution_count": 27,
   "metadata": {
    "colab": {},
    "colab_type": "code",
    "id": "RO4ppDPJKcl0"
   },
   "outputs": [
    {
     "name": "stdout",
     "output_type": "stream",
     "text": [
      "How can you know which rating belongs to which movie? Are the file contents structured? Or just by order (1st line in the first file correspond to 1st line in the second file)?\n",
      "[`copy.deepcopy`](https://docs.python.org/3/library/copy.html?highlight=deepcopy#copy.deepcopy) will produce the result you want.\n",
      "\n",
      "The problem with it is that it is slow and it's almost never needed because you can normally get away with shallow-copies/defining new variables instead.\n",
      "You would only need `deepcopy` if you need to change the dicts/other objects contained inside your list without them changing on the outside too.\n",
      "\n",
      "Also, if you elaborate what your doing/why you need the copy I can probably tell you whether a shallow copy is sufficient or how you can probably get away with no copies.\n",
      "Personally, I've never needed a `deepcopy` in practice and shallow copies are rare-events, normally I just define a new list, with all the changes I need.\n",
      "Sorry for formatting, on mobile. Does\n",
      "\n",
      "new_list = old_list[:]\n",
      "\n",
      "Not work?\n",
      "\n",
      "Failing that, perhaps\n",
      "\n",
      "new_list = [i for i in old_list]\n",
      "Theoretically possible, but practically fairly difficult. Why?\n",
      "Maybe creating another file and then having your program open it and exec()? Just for the record, this is horribly bad\n",
      "What's an \"audio USB\"? Why is the hub important?\n",
      "https://docs.python.org/3/library/shutil.html\n"
     ]
    }
   ],
   "source": [
    "submissions = reddit.subreddit('learnpython').new(limit=10)\n",
    "for submission in submissions:\n",
    "    top_level_comments = list(submission.comments)\n",
    "    all_comments = submission.comments.list()[:2]\n",
    "    for comment in all_comments:\n",
    "        print(comment.body)"
   ]
  },
  {
   "cell_type": "markdown",
   "metadata": {
    "colab_type": "text",
    "id": "JvYEOesKKcl2"
   },
   "source": [
    "Referring to the API documentation, explore the submissions object and print some interesting data:"
   ]
  },
  {
   "cell_type": "code",
   "execution_count": 24,
   "metadata": {
    "colab": {},
    "colab_type": "code",
    "id": "glEShYZbKcl3"
   },
   "outputs": [
    {
     "name": "stdout",
     "output_type": "stream",
     "text": [
      "the holograms would probably make better leaders.\n",
      "If they can control when trump speaks this would never be allowed\n",
      "“A federal judge in California Friday ruled in an injunction request that Apple Inc could bar Epic Games’ “Fortnite game” from its App Store but must not harm Epic’s developer tools business, which includes the Unreal Engine software used by hundreds of other video games.\n",
      "\n",
      "The Court maintains its findings from the “temporary restraining” order and hereby grants in part and denies in part Epic Games‘ motion for a preliminary injunction, District Judge Yvonne Gonzalez Rogers ruled.\n",
      "\n",
      "Epic Games and Apple were not immediately available for comment on the ruling.”\n",
      "So they can but they cant?\n",
      "Fake news\n",
      "VPNs for life.\n",
      "Google (verb) - snitching hardcore \n",
      "Sentence : Tommy didn’t want to go jail so he googled on all his friends.\n"
     ]
    }
   ],
   "source": [
    "submissions = reddit.subreddit('TechNewsToday').new(limit=10)\n",
    "for submission in submissions:\n",
    "    top_level_comments = list(submission.comments)\n",
    "    all_comments = submission.comments.list()[:2]\n",
    "    for comment in all_comments:\n",
    "        print(comment.body)"
   ]
  },
  {
   "cell_type": "code",
   "execution_count": 26,
   "metadata": {},
   "outputs": [
    {
     "name": "stdout",
     "output_type": "stream",
     "text": [
      "{'_comments_by_id': {},\n",
      " '_fetched': False,\n",
      " '_reddit': <praw.reddit.Reddit object at 0x0000025A9560DF70>,\n",
      " 'comment_limit': 2048,\n",
      " 'comment_sort': 'confidence',\n",
      " 'id': 'j8gkv3'}\n"
     ]
    }
   ],
   "source": [
    "submission = reddit.submission(id=\"j8gkv3\")\n",
    "pprint.pprint(vars(submission))\n"
   ]
  },
  {
   "cell_type": "markdown",
   "metadata": {
    "colab_type": "text",
    "id": "Khno5kpWKcl5"
   },
   "source": [
    "#### Posting to Reddit"
   ]
  },
  {
   "cell_type": "markdown",
   "metadata": {
    "colab_type": "text",
    "id": "zjnyN1OfKcl6"
   },
   "source": [
    "To be able to post to your Reddit account (i.e. contribute submissions), you need to connect to the API with read/write privilege. This requires an *authorised instance*, which is obtained by including your Reddit user name and password in the connection request: "
   ]
  },
  {
   "cell_type": "code",
   "execution_count": 0,
   "metadata": {
    "colab": {},
    "colab_type": "code",
    "id": "ZXG7kouZKcl7"
   },
   "outputs": [],
   "source": [
    "reddit = praw.Reddit(client_id='my client id',\n",
    "                     client_secret='my client secret',\n",
    "                     user_agent='my user agent',\n",
    "                     username='my username',\n",
    "                     password='my password')\n",
    "print(reddit.read_only)  # Output: False"
   ]
  },
  {
   "cell_type": "markdown",
   "metadata": {
    "colab_type": "text",
    "id": "nEjrsF9vKcl-"
   },
   "source": [
    "You could hide these last two credentials by adding them to your JSON file and then reading all five values at once."
   ]
  },
  {
   "cell_type": "code",
   "execution_count": 0,
   "metadata": {
    "colab": {},
    "colab_type": "code",
    "id": "BVcbR0K1Kcl_"
   },
   "outputs": [],
   "source": []
  },
  {
   "cell_type": "markdown",
   "metadata": {
    "colab_type": "text",
    "id": "WqBG4xS5Kk3X"
   },
   "source": [
    ">\n",
    ">\n"
   ]
  },
  {
   "cell_type": "markdown",
   "metadata": {
    "colab_type": "text",
    "id": "EfPDz2gEKnRn"
   },
   "source": [
    ">\n",
    ">\n"
   ]
  },
  {
   "cell_type": "markdown",
   "metadata": {
    "colab_type": "text",
    "id": "5Uo-KnYhKoRA"
   },
   "source": [
    "\n",
    "\n",
    "---\n",
    "\n",
    "\n",
    "\n",
    "---\n",
    "\n",
    "\n",
    "\n",
    "> > > > > > > > > © 2019 Institute of Data\n",
    "\n",
    "\n",
    "---\n",
    "\n",
    "\n",
    "\n",
    "---\n",
    "\n",
    "\n",
    "\n"
   ]
  }
 ],
 "metadata": {
  "colab": {
   "collapsed_sections": [],
   "name": "DSIA Lab 2.2.3.ipynb",
   "provenance": []
  },
  "kernelspec": {
   "display_name": "Python 3",
   "language": "python",
   "name": "python3"
  },
  "language_info": {
   "codemirror_mode": {
    "name": "ipython",
    "version": 3
   },
   "file_extension": ".py",
   "mimetype": "text/x-python",
   "name": "python",
   "nbconvert_exporter": "python",
   "pygments_lexer": "ipython3",
   "version": "3.8.3"
  }
 },
 "nbformat": 4,
 "nbformat_minor": 1
}
